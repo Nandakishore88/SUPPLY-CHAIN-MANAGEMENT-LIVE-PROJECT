{
 "cells": [
  {
   "cell_type": "code",
   "execution_count": 1,
   "id": "69bd71d3",
   "metadata": {},
   "outputs": [],
   "source": [
    "import numpy as np\n",
    "import pandas as pd \n",
    "import math\n",
    "import matplotlib.pyplot as plt\n",
    "import seaborn as sns\n",
    "import matplotlib.patches as patches\n",
    "%matplotlib inline\n",
    "\n",
    "import warnings\n",
    "warnings.filterwarnings('ignore')"
   ]
  },
  {
   "cell_type": "code",
   "execution_count": 2,
   "id": "c0765c3b",
   "metadata": {},
   "outputs": [],
   "source": [
    "dat=pd.read_excel(r'C:\\Users\\Nandakishore\\Desktop\\live project\\supplychain dataset.xlsx')"
   ]
  },
  {
   "cell_type": "code",
   "execution_count": 3,
   "id": "482aa63a",
   "metadata": {},
   "outputs": [
    {
     "data": {
      "text/html": [
       "<div>\n",
       "<style scoped>\n",
       "    .dataframe tbody tr th:only-of-type {\n",
       "        vertical-align: middle;\n",
       "    }\n",
       "\n",
       "    .dataframe tbody tr th {\n",
       "        vertical-align: top;\n",
       "    }\n",
       "\n",
       "    .dataframe thead th {\n",
       "        text-align: right;\n",
       "    }\n",
       "</style>\n",
       "<table border=\"1\" class=\"dataframe\">\n",
       "  <thead>\n",
       "    <tr style=\"text-align: right;\">\n",
       "      <th></th>\n",
       "      <th>Ware_house_ID</th>\n",
       "      <th>WH_Manager_ID</th>\n",
       "      <th>Location_type</th>\n",
       "      <th>WH_capacity_size</th>\n",
       "      <th>zone</th>\n",
       "      <th>WH_regional_zone</th>\n",
       "      <th>num_refill_req_l3m</th>\n",
       "      <th>transport_issue_l1y</th>\n",
       "      <th>Competitor_in_mkt</th>\n",
       "      <th>retail_shop_num</th>\n",
       "      <th>...</th>\n",
       "      <th>electric_supply</th>\n",
       "      <th>dist_from_hub</th>\n",
       "      <th>workers_num</th>\n",
       "      <th>wh_est_year</th>\n",
       "      <th>storage_issue_reported_l3m</th>\n",
       "      <th>temp_reg_mach</th>\n",
       "      <th>approved_wh_govt_certificate</th>\n",
       "      <th>wh_breakdown_l3m</th>\n",
       "      <th>govt_check_l3m</th>\n",
       "      <th>product_wg_ton</th>\n",
       "    </tr>\n",
       "  </thead>\n",
       "  <tbody>\n",
       "    <tr>\n",
       "      <th>0</th>\n",
       "      <td>WH_100000</td>\n",
       "      <td>EID_50000</td>\n",
       "      <td>Urban</td>\n",
       "      <td>Small</td>\n",
       "      <td>West</td>\n",
       "      <td>Zone 6</td>\n",
       "      <td>3</td>\n",
       "      <td>1</td>\n",
       "      <td>2</td>\n",
       "      <td>4651</td>\n",
       "      <td>...</td>\n",
       "      <td>1</td>\n",
       "      <td>91</td>\n",
       "      <td>29.0</td>\n",
       "      <td>NaN</td>\n",
       "      <td>13</td>\n",
       "      <td>0</td>\n",
       "      <td>A</td>\n",
       "      <td>5</td>\n",
       "      <td>15</td>\n",
       "      <td>17115</td>\n",
       "    </tr>\n",
       "    <tr>\n",
       "      <th>1</th>\n",
       "      <td>WH_100001</td>\n",
       "      <td>EID_50001</td>\n",
       "      <td>Rural</td>\n",
       "      <td>Large</td>\n",
       "      <td>North</td>\n",
       "      <td>Zone 5</td>\n",
       "      <td>0</td>\n",
       "      <td>0</td>\n",
       "      <td>4</td>\n",
       "      <td>6217</td>\n",
       "      <td>...</td>\n",
       "      <td>1</td>\n",
       "      <td>210</td>\n",
       "      <td>31.0</td>\n",
       "      <td>NaN</td>\n",
       "      <td>4</td>\n",
       "      <td>0</td>\n",
       "      <td>A</td>\n",
       "      <td>3</td>\n",
       "      <td>17</td>\n",
       "      <td>5074</td>\n",
       "    </tr>\n",
       "    <tr>\n",
       "      <th>2</th>\n",
       "      <td>WH_100002</td>\n",
       "      <td>EID_50002</td>\n",
       "      <td>Rural</td>\n",
       "      <td>Mid</td>\n",
       "      <td>South</td>\n",
       "      <td>Zone 2</td>\n",
       "      <td>1</td>\n",
       "      <td>0</td>\n",
       "      <td>4</td>\n",
       "      <td>4306</td>\n",
       "      <td>...</td>\n",
       "      <td>0</td>\n",
       "      <td>161</td>\n",
       "      <td>37.0</td>\n",
       "      <td>NaN</td>\n",
       "      <td>17</td>\n",
       "      <td>0</td>\n",
       "      <td>A</td>\n",
       "      <td>6</td>\n",
       "      <td>22</td>\n",
       "      <td>23137</td>\n",
       "    </tr>\n",
       "    <tr>\n",
       "      <th>3</th>\n",
       "      <td>WH_100003</td>\n",
       "      <td>EID_50003</td>\n",
       "      <td>Rural</td>\n",
       "      <td>Mid</td>\n",
       "      <td>North</td>\n",
       "      <td>Zone 3</td>\n",
       "      <td>7</td>\n",
       "      <td>4</td>\n",
       "      <td>2</td>\n",
       "      <td>6000</td>\n",
       "      <td>...</td>\n",
       "      <td>0</td>\n",
       "      <td>103</td>\n",
       "      <td>21.0</td>\n",
       "      <td>NaN</td>\n",
       "      <td>17</td>\n",
       "      <td>1</td>\n",
       "      <td>A+</td>\n",
       "      <td>3</td>\n",
       "      <td>27</td>\n",
       "      <td>22115</td>\n",
       "    </tr>\n",
       "    <tr>\n",
       "      <th>4</th>\n",
       "      <td>WH_100004</td>\n",
       "      <td>EID_50004</td>\n",
       "      <td>Rural</td>\n",
       "      <td>Large</td>\n",
       "      <td>North</td>\n",
       "      <td>Zone 5</td>\n",
       "      <td>3</td>\n",
       "      <td>1</td>\n",
       "      <td>2</td>\n",
       "      <td>4740</td>\n",
       "      <td>...</td>\n",
       "      <td>1</td>\n",
       "      <td>112</td>\n",
       "      <td>25.0</td>\n",
       "      <td>2009.0</td>\n",
       "      <td>18</td>\n",
       "      <td>0</td>\n",
       "      <td>C</td>\n",
       "      <td>6</td>\n",
       "      <td>24</td>\n",
       "      <td>24071</td>\n",
       "    </tr>\n",
       "  </tbody>\n",
       "</table>\n",
       "<p>5 rows × 24 columns</p>\n",
       "</div>"
      ],
      "text/plain": [
       "  Ware_house_ID WH_Manager_ID Location_type WH_capacity_size   zone  \\\n",
       "0     WH_100000     EID_50000         Urban            Small   West   \n",
       "1     WH_100001     EID_50001         Rural            Large  North   \n",
       "2     WH_100002     EID_50002         Rural              Mid  South   \n",
       "3     WH_100003     EID_50003         Rural              Mid  North   \n",
       "4     WH_100004     EID_50004         Rural            Large  North   \n",
       "\n",
       "  WH_regional_zone  num_refill_req_l3m  transport_issue_l1y  \\\n",
       "0           Zone 6                   3                    1   \n",
       "1           Zone 5                   0                    0   \n",
       "2           Zone 2                   1                    0   \n",
       "3           Zone 3                   7                    4   \n",
       "4           Zone 5                   3                    1   \n",
       "\n",
       "   Competitor_in_mkt  retail_shop_num  ... electric_supply  dist_from_hub  \\\n",
       "0                  2             4651  ...               1             91   \n",
       "1                  4             6217  ...               1            210   \n",
       "2                  4             4306  ...               0            161   \n",
       "3                  2             6000  ...               0            103   \n",
       "4                  2             4740  ...               1            112   \n",
       "\n",
       "   workers_num  wh_est_year  storage_issue_reported_l3m  temp_reg_mach  \\\n",
       "0         29.0          NaN                          13              0   \n",
       "1         31.0          NaN                           4              0   \n",
       "2         37.0          NaN                          17              0   \n",
       "3         21.0          NaN                          17              1   \n",
       "4         25.0       2009.0                          18              0   \n",
       "\n",
       "   approved_wh_govt_certificate  wh_breakdown_l3m  govt_check_l3m  \\\n",
       "0                             A                 5              15   \n",
       "1                             A                 3              17   \n",
       "2                             A                 6              22   \n",
       "3                            A+                 3              27   \n",
       "4                             C                 6              24   \n",
       "\n",
       "   product_wg_ton  \n",
       "0           17115  \n",
       "1            5074  \n",
       "2           23137  \n",
       "3           22115  \n",
       "4           24071  \n",
       "\n",
       "[5 rows x 24 columns]"
      ]
     },
     "execution_count": 3,
     "metadata": {},
     "output_type": "execute_result"
    }
   ],
   "source": [
    "dat.head()"
   ]
  },
  {
   "cell_type": "code",
   "execution_count": 4,
   "id": "9bbd759e",
   "metadata": {},
   "outputs": [
    {
     "data": {
      "text/plain": [
       "Ware_house_ID                       0\n",
       "WH_Manager_ID                       0\n",
       "Location_type                       0\n",
       "WH_capacity_size                    0\n",
       "zone                                0\n",
       "WH_regional_zone                    0\n",
       "num_refill_req_l3m                  0\n",
       "transport_issue_l1y                 0\n",
       "Competitor_in_mkt                   0\n",
       "retail_shop_num                     0\n",
       "wh_owner_type                       0\n",
       "distributor_num                     0\n",
       "flood_impacted                      0\n",
       "flood_proof                         0\n",
       "electric_supply                     0\n",
       "dist_from_hub                       0\n",
       "workers_num                       877\n",
       "wh_est_year                     10545\n",
       "storage_issue_reported_l3m          0\n",
       "temp_reg_mach                       0\n",
       "approved_wh_govt_certificate      805\n",
       "wh_breakdown_l3m                    0\n",
       "govt_check_l3m                      0\n",
       "product_wg_ton                      0\n",
       "dtype: int64"
      ]
     },
     "execution_count": 4,
     "metadata": {},
     "output_type": "execute_result"
    }
   ],
   "source": [
    "dat.isnull().sum()"
   ]
  },
  {
   "cell_type": "code",
   "execution_count": 5,
   "id": "cf78ed67",
   "metadata": {},
   "outputs": [
    {
     "data": {
      "text/plain": [
       "2009.4012063765617"
      ]
     },
     "execution_count": 5,
     "metadata": {},
     "output_type": "execute_result"
    }
   ],
   "source": [
    "dat.wh_est_year.mean()"
   ]
  },
  {
   "cell_type": "code",
   "execution_count": 6,
   "id": "6fb79e70",
   "metadata": {},
   "outputs": [
    {
     "data": {
      "text/plain": [
       "28.0"
      ]
     },
     "execution_count": 6,
     "metadata": {},
     "output_type": "execute_result"
    }
   ],
   "source": [
    "dat['workers_num'].median()"
   ]
  },
  {
   "cell_type": "code",
   "execution_count": 7,
   "id": "a70e4669",
   "metadata": {},
   "outputs": [
    {
     "data": {
      "text/plain": [
       "0    C\n",
       "Name: approved_wh_govt_certificate, dtype: object"
      ]
     },
     "execution_count": 7,
     "metadata": {},
     "output_type": "execute_result"
    }
   ],
   "source": [
    "dat['approved_wh_govt_certificate'].mode()"
   ]
  },
  {
   "cell_type": "code",
   "execution_count": 8,
   "id": "7fd5f2d7",
   "metadata": {},
   "outputs": [],
   "source": [
    "dat['wh_est_year'] = dat['wh_est_year'].fillna(2009)"
   ]
  },
  {
   "cell_type": "code",
   "execution_count": 9,
   "id": "504409e9",
   "metadata": {},
   "outputs": [],
   "source": [
    "dat['workers_num'] = dat['workers_num'].fillna(28)"
   ]
  },
  {
   "cell_type": "code",
   "execution_count": 10,
   "id": "fe72d849",
   "metadata": {},
   "outputs": [],
   "source": [
    "dat['approved_wh_govt_certificate'].fillna(dat['approved_wh_govt_certificate'].mode()[0], inplace=True)"
   ]
  },
  {
   "cell_type": "code",
   "execution_count": 11,
   "id": "a5b2108f",
   "metadata": {},
   "outputs": [],
   "source": [
    "dat = dat.drop(['Ware_house_ID','WH_Manager_ID','flood_proof'],axis=1)"
   ]
  },
  {
   "cell_type": "code",
   "execution_count": 12,
   "id": "c66c7fdb",
   "metadata": {},
   "outputs": [
    {
     "data": {
      "text/plain": [
       "Location_type                   0\n",
       "WH_capacity_size                0\n",
       "zone                            0\n",
       "WH_regional_zone                0\n",
       "num_refill_req_l3m              0\n",
       "transport_issue_l1y             0\n",
       "Competitor_in_mkt               0\n",
       "retail_shop_num                 0\n",
       "wh_owner_type                   0\n",
       "distributor_num                 0\n",
       "flood_impacted                  0\n",
       "electric_supply                 0\n",
       "dist_from_hub                   0\n",
       "workers_num                     0\n",
       "wh_est_year                     0\n",
       "storage_issue_reported_l3m      0\n",
       "temp_reg_mach                   0\n",
       "approved_wh_govt_certificate    0\n",
       "wh_breakdown_l3m                0\n",
       "govt_check_l3m                  0\n",
       "product_wg_ton                  0\n",
       "dtype: int64"
      ]
     },
     "execution_count": 12,
     "metadata": {},
     "output_type": "execute_result"
    }
   ],
   "source": [
    "dat.isnull().sum()"
   ]
  },
  {
   "cell_type": "markdown",
   "id": "1e08f829",
   "metadata": {},
   "source": [
    "# Feature Engineering:"
   ]
  },
  {
   "cell_type": "markdown",
   "id": "57d7d81d",
   "metadata": {},
   "source": [
    "BINNING OF NEW COLUMNs"
   ]
  },
  {
   "cell_type": "code",
   "execution_count": 13,
   "id": "21465823",
   "metadata": {},
   "outputs": [],
   "source": [
    "#Creating bins and labels 1:Warehouse Breakdown\n",
    "bins = [0,2,4,6]\n",
    "labels = ['less','medium','more']\n",
    "dat['breakdown range'] = pd.cut(dat['wh_breakdown_l3m'],bins = bins, labels = labels)"
   ]
  },
  {
   "cell_type": "code",
   "execution_count": 14,
   "id": "1bfecc16",
   "metadata": {},
   "outputs": [],
   "source": [
    "#Creating bins and labels 2:Transport issues\n",
    "bins = [-1,1,3,5]\n",
    "labels = ['low','medium','high']\n",
    "dat['transport_issue_range'] = pd.cut(dat['transport_issue_l1y'],bins = bins, labels = labels)"
   ]
  },
  {
   "cell_type": "code",
   "execution_count": 15,
   "id": "17d2c0e3",
   "metadata": {},
   "outputs": [],
   "source": [
    "#Creating bins and labels 3:Storage Issues Reported\n",
    "bins = [-1,10,20,30,40]\n",
    "labels = ['low','medium','high','very high']\n",
    "dat['storage_issue_range'] = pd.cut(dat['storage_issue_reported_l3m'],bins = bins, labels = labels)"
   ]
  },
  {
   "cell_type": "code",
   "execution_count": 16,
   "id": "5610189d",
   "metadata": {},
   "outputs": [],
   "source": [
    "#Creating bins and labels 4:Refill Request Range\n",
    "bins = [-1,2,5,8]\n",
    "labels = ['less','medium','more']\n",
    "dat['refill_req_range'] = pd.cut(dat['num_refill_req_l3m'],bins = bins, labels = labels)"
   ]
  },
  {
   "cell_type": "code",
   "execution_count": 17,
   "id": "954e509d",
   "metadata": {},
   "outputs": [],
   "source": [
    "#Creating bins and labels 5:Warehouse Est Year\n",
    "bins = [1995,2004,2013,2023]\n",
    "labels = ['old_age','middle_age','new_age']\n",
    "dat['wh_est_year_range'] = pd.cut(dat['wh_est_year'],bins = bins, labels = labels)"
   ]
  },
  {
   "cell_type": "code",
   "execution_count": 18,
   "id": "4ff0e1d1",
   "metadata": {},
   "outputs": [],
   "source": [
    "data = dat.copy()# We now dropping the base columns of newly binned columns.Its did in the copy of our dataset."
   ]
  },
  {
   "cell_type": "code",
   "execution_count": 19,
   "id": "51f43395",
   "metadata": {},
   "outputs": [],
   "source": [
    "data = data.drop(['wh_breakdown_l3m','transport_issue_l1y','storage_issue_reported_l3m','num_refill_req_l3m','wh_est_year'],axis=1)"
   ]
  },
  {
   "cell_type": "code",
   "execution_count": 20,
   "id": "a5bb1dab",
   "metadata": {},
   "outputs": [
    {
     "data": {
      "text/html": [
       "<div>\n",
       "<style scoped>\n",
       "    .dataframe tbody tr th:only-of-type {\n",
       "        vertical-align: middle;\n",
       "    }\n",
       "\n",
       "    .dataframe tbody tr th {\n",
       "        vertical-align: top;\n",
       "    }\n",
       "\n",
       "    .dataframe thead th {\n",
       "        text-align: right;\n",
       "    }\n",
       "</style>\n",
       "<table border=\"1\" class=\"dataframe\">\n",
       "  <thead>\n",
       "    <tr style=\"text-align: right;\">\n",
       "      <th></th>\n",
       "      <th>Location_type</th>\n",
       "      <th>WH_capacity_size</th>\n",
       "      <th>zone</th>\n",
       "      <th>WH_regional_zone</th>\n",
       "      <th>Competitor_in_mkt</th>\n",
       "      <th>retail_shop_num</th>\n",
       "      <th>wh_owner_type</th>\n",
       "      <th>distributor_num</th>\n",
       "      <th>flood_impacted</th>\n",
       "      <th>electric_supply</th>\n",
       "      <th>...</th>\n",
       "      <th>workers_num</th>\n",
       "      <th>temp_reg_mach</th>\n",
       "      <th>approved_wh_govt_certificate</th>\n",
       "      <th>govt_check_l3m</th>\n",
       "      <th>product_wg_ton</th>\n",
       "      <th>breakdown range</th>\n",
       "      <th>transport_issue_range</th>\n",
       "      <th>storage_issue_range</th>\n",
       "      <th>refill_req_range</th>\n",
       "      <th>wh_est_year_range</th>\n",
       "    </tr>\n",
       "  </thead>\n",
       "  <tbody>\n",
       "    <tr>\n",
       "      <th>0</th>\n",
       "      <td>Urban</td>\n",
       "      <td>Small</td>\n",
       "      <td>West</td>\n",
       "      <td>Zone 6</td>\n",
       "      <td>2</td>\n",
       "      <td>4651</td>\n",
       "      <td>Rented</td>\n",
       "      <td>24</td>\n",
       "      <td>0</td>\n",
       "      <td>1</td>\n",
       "      <td>...</td>\n",
       "      <td>29.0</td>\n",
       "      <td>0</td>\n",
       "      <td>A</td>\n",
       "      <td>15</td>\n",
       "      <td>17115</td>\n",
       "      <td>more</td>\n",
       "      <td>low</td>\n",
       "      <td>medium</td>\n",
       "      <td>medium</td>\n",
       "      <td>middle_age</td>\n",
       "    </tr>\n",
       "    <tr>\n",
       "      <th>1</th>\n",
       "      <td>Rural</td>\n",
       "      <td>Large</td>\n",
       "      <td>North</td>\n",
       "      <td>Zone 5</td>\n",
       "      <td>4</td>\n",
       "      <td>6217</td>\n",
       "      <td>Company Owned</td>\n",
       "      <td>47</td>\n",
       "      <td>0</td>\n",
       "      <td>1</td>\n",
       "      <td>...</td>\n",
       "      <td>31.0</td>\n",
       "      <td>0</td>\n",
       "      <td>A</td>\n",
       "      <td>17</td>\n",
       "      <td>5074</td>\n",
       "      <td>medium</td>\n",
       "      <td>low</td>\n",
       "      <td>low</td>\n",
       "      <td>less</td>\n",
       "      <td>middle_age</td>\n",
       "    </tr>\n",
       "    <tr>\n",
       "      <th>2</th>\n",
       "      <td>Rural</td>\n",
       "      <td>Mid</td>\n",
       "      <td>South</td>\n",
       "      <td>Zone 2</td>\n",
       "      <td>4</td>\n",
       "      <td>4306</td>\n",
       "      <td>Company Owned</td>\n",
       "      <td>64</td>\n",
       "      <td>0</td>\n",
       "      <td>0</td>\n",
       "      <td>...</td>\n",
       "      <td>37.0</td>\n",
       "      <td>0</td>\n",
       "      <td>A</td>\n",
       "      <td>22</td>\n",
       "      <td>23137</td>\n",
       "      <td>more</td>\n",
       "      <td>low</td>\n",
       "      <td>medium</td>\n",
       "      <td>less</td>\n",
       "      <td>middle_age</td>\n",
       "    </tr>\n",
       "    <tr>\n",
       "      <th>3</th>\n",
       "      <td>Rural</td>\n",
       "      <td>Mid</td>\n",
       "      <td>North</td>\n",
       "      <td>Zone 3</td>\n",
       "      <td>2</td>\n",
       "      <td>6000</td>\n",
       "      <td>Rented</td>\n",
       "      <td>50</td>\n",
       "      <td>0</td>\n",
       "      <td>0</td>\n",
       "      <td>...</td>\n",
       "      <td>21.0</td>\n",
       "      <td>1</td>\n",
       "      <td>A+</td>\n",
       "      <td>27</td>\n",
       "      <td>22115</td>\n",
       "      <td>medium</td>\n",
       "      <td>high</td>\n",
       "      <td>medium</td>\n",
       "      <td>more</td>\n",
       "      <td>middle_age</td>\n",
       "    </tr>\n",
       "    <tr>\n",
       "      <th>4</th>\n",
       "      <td>Rural</td>\n",
       "      <td>Large</td>\n",
       "      <td>North</td>\n",
       "      <td>Zone 5</td>\n",
       "      <td>2</td>\n",
       "      <td>4740</td>\n",
       "      <td>Company Owned</td>\n",
       "      <td>42</td>\n",
       "      <td>1</td>\n",
       "      <td>1</td>\n",
       "      <td>...</td>\n",
       "      <td>25.0</td>\n",
       "      <td>0</td>\n",
       "      <td>C</td>\n",
       "      <td>24</td>\n",
       "      <td>24071</td>\n",
       "      <td>more</td>\n",
       "      <td>low</td>\n",
       "      <td>medium</td>\n",
       "      <td>medium</td>\n",
       "      <td>middle_age</td>\n",
       "    </tr>\n",
       "  </tbody>\n",
       "</table>\n",
       "<p>5 rows × 21 columns</p>\n",
       "</div>"
      ],
      "text/plain": [
       "  Location_type WH_capacity_size   zone WH_regional_zone  Competitor_in_mkt  \\\n",
       "0         Urban            Small   West           Zone 6                  2   \n",
       "1         Rural            Large  North           Zone 5                  4   \n",
       "2         Rural              Mid  South           Zone 2                  4   \n",
       "3         Rural              Mid  North           Zone 3                  2   \n",
       "4         Rural            Large  North           Zone 5                  2   \n",
       "\n",
       "   retail_shop_num  wh_owner_type  distributor_num  flood_impacted  \\\n",
       "0             4651         Rented               24               0   \n",
       "1             6217  Company Owned               47               0   \n",
       "2             4306  Company Owned               64               0   \n",
       "3             6000         Rented               50               0   \n",
       "4             4740  Company Owned               42               1   \n",
       "\n",
       "   electric_supply  ...  workers_num  temp_reg_mach  \\\n",
       "0                1  ...         29.0              0   \n",
       "1                1  ...         31.0              0   \n",
       "2                0  ...         37.0              0   \n",
       "3                0  ...         21.0              1   \n",
       "4                1  ...         25.0              0   \n",
       "\n",
       "   approved_wh_govt_certificate govt_check_l3m  product_wg_ton  \\\n",
       "0                             A             15           17115   \n",
       "1                             A             17            5074   \n",
       "2                             A             22           23137   \n",
       "3                            A+             27           22115   \n",
       "4                             C             24           24071   \n",
       "\n",
       "   breakdown range transport_issue_range storage_issue_range refill_req_range  \\\n",
       "0             more                   low              medium           medium   \n",
       "1           medium                   low                 low             less   \n",
       "2             more                   low              medium             less   \n",
       "3           medium                  high              medium             more   \n",
       "4             more                   low              medium           medium   \n",
       "\n",
       "  wh_est_year_range  \n",
       "0        middle_age  \n",
       "1        middle_age  \n",
       "2        middle_age  \n",
       "3        middle_age  \n",
       "4        middle_age  \n",
       "\n",
       "[5 rows x 21 columns]"
      ]
     },
     "execution_count": 20,
     "metadata": {},
     "output_type": "execute_result"
    }
   ],
   "source": [
    "data.head()"
   ]
  },
  {
   "cell_type": "markdown",
   "id": "e9edbce0",
   "metadata": {},
   "source": [
    "ENCODING CATEGORICAL VALUES INTO NUMERICAL"
   ]
  },
  {
   "cell_type": "code",
   "execution_count": 21,
   "id": "9b56b13e",
   "metadata": {},
   "outputs": [],
   "source": [
    "# Import label encoder\n",
    "from sklearn import preprocessing\n",
    "label_encoder = preprocessing.LabelEncoder()\n",
    "data['Location_type']= label_encoder.fit_transform(data['Location_type'])\n",
    "data['WH_capacity_size']= label_encoder.fit_transform(data['WH_capacity_size'])\n",
    "data['zone']= label_encoder.fit_transform(data['zone'])\n",
    "data['WH_regional_zone']= label_encoder.fit_transform(data['WH_regional_zone'])\n",
    "data['wh_owner_type']= label_encoder.fit_transform(data['wh_owner_type'])\n",
    "data['approved_wh_govt_certificate']= label_encoder.fit_transform(data['approved_wh_govt_certificate'])"
   ]
  },
  {
   "cell_type": "code",
   "execution_count": 22,
   "id": "28cbf1c9",
   "metadata": {},
   "outputs": [],
   "source": [
    "data['breakdown range']= label_encoder.fit_transform(data['breakdown range'])\n",
    "data['transport_issue_range']= label_encoder.fit_transform(data['transport_issue_range'])\n",
    "data['storage_issue_range']= label_encoder.fit_transform(data['storage_issue_range'])\n",
    "data['refill_req_range']= label_encoder.fit_transform(data['refill_req_range'])\n",
    "data['wh_est_year_range']= label_encoder.fit_transform(data['wh_est_year_range'])"
   ]
  },
  {
   "cell_type": "code",
   "execution_count": 23,
   "id": "910e485d",
   "metadata": {},
   "outputs": [
    {
     "data": {
      "text/html": [
       "<div>\n",
       "<style scoped>\n",
       "    .dataframe tbody tr th:only-of-type {\n",
       "        vertical-align: middle;\n",
       "    }\n",
       "\n",
       "    .dataframe tbody tr th {\n",
       "        vertical-align: top;\n",
       "    }\n",
       "\n",
       "    .dataframe thead th {\n",
       "        text-align: right;\n",
       "    }\n",
       "</style>\n",
       "<table border=\"1\" class=\"dataframe\">\n",
       "  <thead>\n",
       "    <tr style=\"text-align: right;\">\n",
       "      <th></th>\n",
       "      <th>Location_type</th>\n",
       "      <th>WH_capacity_size</th>\n",
       "      <th>zone</th>\n",
       "      <th>WH_regional_zone</th>\n",
       "      <th>Competitor_in_mkt</th>\n",
       "      <th>retail_shop_num</th>\n",
       "      <th>wh_owner_type</th>\n",
       "      <th>distributor_num</th>\n",
       "      <th>flood_impacted</th>\n",
       "      <th>electric_supply</th>\n",
       "      <th>...</th>\n",
       "      <th>workers_num</th>\n",
       "      <th>temp_reg_mach</th>\n",
       "      <th>approved_wh_govt_certificate</th>\n",
       "      <th>govt_check_l3m</th>\n",
       "      <th>product_wg_ton</th>\n",
       "      <th>breakdown range</th>\n",
       "      <th>transport_issue_range</th>\n",
       "      <th>storage_issue_range</th>\n",
       "      <th>refill_req_range</th>\n",
       "      <th>wh_est_year_range</th>\n",
       "    </tr>\n",
       "  </thead>\n",
       "  <tbody>\n",
       "    <tr>\n",
       "      <th>0</th>\n",
       "      <td>1</td>\n",
       "      <td>2</td>\n",
       "      <td>3</td>\n",
       "      <td>5</td>\n",
       "      <td>2</td>\n",
       "      <td>4651</td>\n",
       "      <td>1</td>\n",
       "      <td>24</td>\n",
       "      <td>0</td>\n",
       "      <td>1</td>\n",
       "      <td>...</td>\n",
       "      <td>29.0</td>\n",
       "      <td>0</td>\n",
       "      <td>0</td>\n",
       "      <td>15</td>\n",
       "      <td>17115</td>\n",
       "      <td>2</td>\n",
       "      <td>1</td>\n",
       "      <td>2</td>\n",
       "      <td>1</td>\n",
       "      <td>0</td>\n",
       "    </tr>\n",
       "    <tr>\n",
       "      <th>1</th>\n",
       "      <td>0</td>\n",
       "      <td>0</td>\n",
       "      <td>1</td>\n",
       "      <td>4</td>\n",
       "      <td>4</td>\n",
       "      <td>6217</td>\n",
       "      <td>0</td>\n",
       "      <td>47</td>\n",
       "      <td>0</td>\n",
       "      <td>1</td>\n",
       "      <td>...</td>\n",
       "      <td>31.0</td>\n",
       "      <td>0</td>\n",
       "      <td>0</td>\n",
       "      <td>17</td>\n",
       "      <td>5074</td>\n",
       "      <td>1</td>\n",
       "      <td>1</td>\n",
       "      <td>1</td>\n",
       "      <td>0</td>\n",
       "      <td>0</td>\n",
       "    </tr>\n",
       "    <tr>\n",
       "      <th>2</th>\n",
       "      <td>0</td>\n",
       "      <td>1</td>\n",
       "      <td>2</td>\n",
       "      <td>1</td>\n",
       "      <td>4</td>\n",
       "      <td>4306</td>\n",
       "      <td>0</td>\n",
       "      <td>64</td>\n",
       "      <td>0</td>\n",
       "      <td>0</td>\n",
       "      <td>...</td>\n",
       "      <td>37.0</td>\n",
       "      <td>0</td>\n",
       "      <td>0</td>\n",
       "      <td>22</td>\n",
       "      <td>23137</td>\n",
       "      <td>2</td>\n",
       "      <td>1</td>\n",
       "      <td>2</td>\n",
       "      <td>0</td>\n",
       "      <td>0</td>\n",
       "    </tr>\n",
       "    <tr>\n",
       "      <th>3</th>\n",
       "      <td>0</td>\n",
       "      <td>1</td>\n",
       "      <td>1</td>\n",
       "      <td>2</td>\n",
       "      <td>2</td>\n",
       "      <td>6000</td>\n",
       "      <td>1</td>\n",
       "      <td>50</td>\n",
       "      <td>0</td>\n",
       "      <td>0</td>\n",
       "      <td>...</td>\n",
       "      <td>21.0</td>\n",
       "      <td>1</td>\n",
       "      <td>1</td>\n",
       "      <td>27</td>\n",
       "      <td>22115</td>\n",
       "      <td>1</td>\n",
       "      <td>0</td>\n",
       "      <td>2</td>\n",
       "      <td>2</td>\n",
       "      <td>0</td>\n",
       "    </tr>\n",
       "    <tr>\n",
       "      <th>4</th>\n",
       "      <td>0</td>\n",
       "      <td>0</td>\n",
       "      <td>1</td>\n",
       "      <td>4</td>\n",
       "      <td>2</td>\n",
       "      <td>4740</td>\n",
       "      <td>0</td>\n",
       "      <td>42</td>\n",
       "      <td>1</td>\n",
       "      <td>1</td>\n",
       "      <td>...</td>\n",
       "      <td>25.0</td>\n",
       "      <td>0</td>\n",
       "      <td>4</td>\n",
       "      <td>24</td>\n",
       "      <td>24071</td>\n",
       "      <td>2</td>\n",
       "      <td>1</td>\n",
       "      <td>2</td>\n",
       "      <td>1</td>\n",
       "      <td>0</td>\n",
       "    </tr>\n",
       "  </tbody>\n",
       "</table>\n",
       "<p>5 rows × 21 columns</p>\n",
       "</div>"
      ],
      "text/plain": [
       "   Location_type  WH_capacity_size  zone  WH_regional_zone  Competitor_in_mkt  \\\n",
       "0              1                 2     3                 5                  2   \n",
       "1              0                 0     1                 4                  4   \n",
       "2              0                 1     2                 1                  4   \n",
       "3              0                 1     1                 2                  2   \n",
       "4              0                 0     1                 4                  2   \n",
       "\n",
       "   retail_shop_num  wh_owner_type  distributor_num  flood_impacted  \\\n",
       "0             4651              1               24               0   \n",
       "1             6217              0               47               0   \n",
       "2             4306              0               64               0   \n",
       "3             6000              1               50               0   \n",
       "4             4740              0               42               1   \n",
       "\n",
       "   electric_supply  ...  workers_num  temp_reg_mach  \\\n",
       "0                1  ...         29.0              0   \n",
       "1                1  ...         31.0              0   \n",
       "2                0  ...         37.0              0   \n",
       "3                0  ...         21.0              1   \n",
       "4                1  ...         25.0              0   \n",
       "\n",
       "   approved_wh_govt_certificate  govt_check_l3m  product_wg_ton  \\\n",
       "0                             0              15           17115   \n",
       "1                             0              17            5074   \n",
       "2                             0              22           23137   \n",
       "3                             1              27           22115   \n",
       "4                             4              24           24071   \n",
       "\n",
       "   breakdown range  transport_issue_range  storage_issue_range  \\\n",
       "0                2                      1                    2   \n",
       "1                1                      1                    1   \n",
       "2                2                      1                    2   \n",
       "3                1                      0                    2   \n",
       "4                2                      1                    2   \n",
       "\n",
       "   refill_req_range  wh_est_year_range  \n",
       "0                 1                  0  \n",
       "1                 0                  0  \n",
       "2                 0                  0  \n",
       "3                 2                  0  \n",
       "4                 1                  0  \n",
       "\n",
       "[5 rows x 21 columns]"
      ]
     },
     "execution_count": 23,
     "metadata": {},
     "output_type": "execute_result"
    }
   ],
   "source": [
    "data.head()"
   ]
  },
  {
   "cell_type": "markdown",
   "id": "92017061",
   "metadata": {},
   "source": [
    "# Implimenting new columns:"
   ]
  },
  {
   "cell_type": "markdown",
   "id": "508f9958",
   "metadata": {},
   "source": [
    "Feature engineering 1 :Using logical operator OR.\n",
    "\n",
    "Column name :Location having Temperature Regulatory Machines."
   ]
  },
  {
   "cell_type": "code",
   "execution_count": 24,
   "id": "0068226a",
   "metadata": {},
   "outputs": [],
   "source": [
    "data['location_with_temp_reg_machines'] = data['Location_type'] | data['temp_reg_mach'] "
   ]
  },
  {
   "cell_type": "markdown",
   "id": "c591194e",
   "metadata": {},
   "source": [
    "Feature Engineering 2\n",
    "\n",
    "Here combining storage issues and warehouse breakdown and creating a new column shows standard of WH.\n"
   ]
  },
  {
   "cell_type": "code",
   "execution_count": 25,
   "id": "6f67f5a2",
   "metadata": {},
   "outputs": [
    {
     "data": {
      "image/png": "[encoded data removed]",
      "text/plain": [
       "<Figure size 432x288 with 1 Axes>"
      ]
     },
     "metadata": {
      "needs_background": "light"
     },
     "output_type": "display_data"
    }
   ],
   "source": [
    "storage_issue_breakdown= (dat.storage_issue_reported_l3m)+(dat.wh_breakdown_l3m)\n",
    "sns.regplot(x = storage_issue_breakdown,y = dat.product_wg_ton)\n",
    "plt.xlabel('storage issue and breakdown')\n",
    "plt.ylabel('product_wg_ton')\n",
    "plt.title('storage issue and breakdown')\n",
    "plt.show()"
   ]
  },
  {
   "cell_type": "code",
   "execution_count": 26,
   "id": "68f05bac",
   "metadata": {},
   "outputs": [
    {
     "data": {
      "text/html": [
       "<div>\n",
       "<style scoped>\n",
       "    .dataframe tbody tr th:only-of-type {\n",
       "        vertical-align: middle;\n",
       "    }\n",
       "\n",
       "    .dataframe tbody tr th {\n",
       "        vertical-align: top;\n",
       "    }\n",
       "\n",
       "    .dataframe thead th {\n",
       "        text-align: right;\n",
       "    }\n",
       "</style>\n",
       "<table border=\"1\" class=\"dataframe\">\n",
       "  <thead>\n",
       "    <tr style=\"text-align: right;\">\n",
       "      <th></th>\n",
       "      <th>Location_type</th>\n",
       "      <th>WH_capacity_size</th>\n",
       "      <th>zone</th>\n",
       "      <th>WH_regional_zone</th>\n",
       "      <th>Competitor_in_mkt</th>\n",
       "      <th>retail_shop_num</th>\n",
       "      <th>wh_owner_type</th>\n",
       "      <th>distributor_num</th>\n",
       "      <th>flood_impacted</th>\n",
       "      <th>electric_supply</th>\n",
       "      <th>...</th>\n",
       "      <th>approved_wh_govt_certificate</th>\n",
       "      <th>govt_check_l3m</th>\n",
       "      <th>product_wg_ton</th>\n",
       "      <th>breakdown range</th>\n",
       "      <th>transport_issue_range</th>\n",
       "      <th>storage_issue_range</th>\n",
       "      <th>refill_req_range</th>\n",
       "      <th>wh_est_year_range</th>\n",
       "      <th>location_with_temp_reg_machines</th>\n",
       "      <th>storage issue and breakdown</th>\n",
       "    </tr>\n",
       "  </thead>\n",
       "  <tbody>\n",
       "    <tr>\n",
       "      <th>0</th>\n",
       "      <td>1</td>\n",
       "      <td>2</td>\n",
       "      <td>3</td>\n",
       "      <td>5</td>\n",
       "      <td>2</td>\n",
       "      <td>4651</td>\n",
       "      <td>1</td>\n",
       "      <td>24</td>\n",
       "      <td>0</td>\n",
       "      <td>1</td>\n",
       "      <td>...</td>\n",
       "      <td>0</td>\n",
       "      <td>15</td>\n",
       "      <td>17115</td>\n",
       "      <td>2</td>\n",
       "      <td>1</td>\n",
       "      <td>2</td>\n",
       "      <td>1</td>\n",
       "      <td>0</td>\n",
       "      <td>1</td>\n",
       "      <td>18</td>\n",
       "    </tr>\n",
       "    <tr>\n",
       "      <th>1</th>\n",
       "      <td>0</td>\n",
       "      <td>0</td>\n",
       "      <td>1</td>\n",
       "      <td>4</td>\n",
       "      <td>4</td>\n",
       "      <td>6217</td>\n",
       "      <td>0</td>\n",
       "      <td>47</td>\n",
       "      <td>0</td>\n",
       "      <td>1</td>\n",
       "      <td>...</td>\n",
       "      <td>0</td>\n",
       "      <td>17</td>\n",
       "      <td>5074</td>\n",
       "      <td>1</td>\n",
       "      <td>1</td>\n",
       "      <td>1</td>\n",
       "      <td>0</td>\n",
       "      <td>0</td>\n",
       "      <td>0</td>\n",
       "      <td>7</td>\n",
       "    </tr>\n",
       "    <tr>\n",
       "      <th>2</th>\n",
       "      <td>0</td>\n",
       "      <td>1</td>\n",
       "      <td>2</td>\n",
       "      <td>1</td>\n",
       "      <td>4</td>\n",
       "      <td>4306</td>\n",
       "      <td>0</td>\n",
       "      <td>64</td>\n",
       "      <td>0</td>\n",
       "      <td>0</td>\n",
       "      <td>...</td>\n",
       "      <td>0</td>\n",
       "      <td>22</td>\n",
       "      <td>23137</td>\n",
       "      <td>2</td>\n",
       "      <td>1</td>\n",
       "      <td>2</td>\n",
       "      <td>0</td>\n",
       "      <td>0</td>\n",
       "      <td>0</td>\n",
       "      <td>23</td>\n",
       "    </tr>\n",
       "    <tr>\n",
       "      <th>3</th>\n",
       "      <td>0</td>\n",
       "      <td>1</td>\n",
       "      <td>1</td>\n",
       "      <td>2</td>\n",
       "      <td>2</td>\n",
       "      <td>6000</td>\n",
       "      <td>1</td>\n",
       "      <td>50</td>\n",
       "      <td>0</td>\n",
       "      <td>0</td>\n",
       "      <td>...</td>\n",
       "      <td>1</td>\n",
       "      <td>27</td>\n",
       "      <td>22115</td>\n",
       "      <td>1</td>\n",
       "      <td>0</td>\n",
       "      <td>2</td>\n",
       "      <td>2</td>\n",
       "      <td>0</td>\n",
       "      <td>1</td>\n",
       "      <td>20</td>\n",
       "    </tr>\n",
       "    <tr>\n",
       "      <th>4</th>\n",
       "      <td>0</td>\n",
       "      <td>0</td>\n",
       "      <td>1</td>\n",
       "      <td>4</td>\n",
       "      <td>2</td>\n",
       "      <td>4740</td>\n",
       "      <td>0</td>\n",
       "      <td>42</td>\n",
       "      <td>1</td>\n",
       "      <td>1</td>\n",
       "      <td>...</td>\n",
       "      <td>4</td>\n",
       "      <td>24</td>\n",
       "      <td>24071</td>\n",
       "      <td>2</td>\n",
       "      <td>1</td>\n",
       "      <td>2</td>\n",
       "      <td>1</td>\n",
       "      <td>0</td>\n",
       "      <td>0</td>\n",
       "      <td>24</td>\n",
       "    </tr>\n",
       "  </tbody>\n",
       "</table>\n",
       "<p>5 rows × 23 columns</p>\n",
       "</div>"
      ],
      "text/plain": [
       "   Location_type  WH_capacity_size  zone  WH_regional_zone  Competitor_in_mkt  \\\n",
       "0              1                 2     3                 5                  2   \n",
       "1              0                 0     1                 4                  4   \n",
       "2              0                 1     2                 1                  4   \n",
       "3              0                 1     1                 2                  2   \n",
       "4              0                 0     1                 4                  2   \n",
       "\n",
       "   retail_shop_num  wh_owner_type  distributor_num  flood_impacted  \\\n",
       "0             4651              1               24               0   \n",
       "1             6217              0               47               0   \n",
       "2             4306              0               64               0   \n",
       "3             6000              1               50               0   \n",
       "4             4740              0               42               1   \n",
       "\n",
       "   electric_supply  ...  approved_wh_govt_certificate  govt_check_l3m  \\\n",
       "0                1  ...                             0              15   \n",
       "1                1  ...                             0              17   \n",
       "2                0  ...                             0              22   \n",
       "3                0  ...                             1              27   \n",
       "4                1  ...                             4              24   \n",
       "\n",
       "   product_wg_ton  breakdown range  transport_issue_range  \\\n",
       "0           17115                2                      1   \n",
       "1            5074                1                      1   \n",
       "2           23137                2                      1   \n",
       "3           22115                1                      0   \n",
       "4           24071                2                      1   \n",
       "\n",
       "   storage_issue_range  refill_req_range  wh_est_year_range  \\\n",
       "0                    2                 1                  0   \n",
       "1                    1                 0                  0   \n",
       "2                    2                 0                  0   \n",
       "3                    2                 2                  0   \n",
       "4                    2                 1                  0   \n",
       "\n",
       "   location_with_temp_reg_machines  storage issue and breakdown  \n",
       "0                                1                           18  \n",
       "1                                0                            7  \n",
       "2                                0                           23  \n",
       "3                                1                           20  \n",
       "4                                0                           24  \n",
       "\n",
       "[5 rows x 23 columns]"
      ]
     },
     "execution_count": 26,
     "metadata": {},
     "output_type": "execute_result"
    }
   ],
   "source": [
    "# Creating New Column in our Dataset as storage issue and breakdown\n",
    "data['storage issue and breakdown'] = storage_issue_breakdown\n",
    "data.head()"
   ]
  },
  {
   "cell_type": "code",
   "execution_count": 27,
   "id": "fc82643c",
   "metadata": {},
   "outputs": [
    {
     "data": {
      "text/html": [
       "<div>\n",
       "<style scoped>\n",
       "    .dataframe tbody tr th:only-of-type {\n",
       "        vertical-align: middle;\n",
       "    }\n",
       "\n",
       "    .dataframe tbody tr th {\n",
       "        vertical-align: top;\n",
       "    }\n",
       "\n",
       "    .dataframe thead th {\n",
       "        text-align: right;\n",
       "    }\n",
       "</style>\n",
       "<table border=\"1\" class=\"dataframe\">\n",
       "  <thead>\n",
       "    <tr style=\"text-align: right;\">\n",
       "      <th></th>\n",
       "      <th>Location_type</th>\n",
       "      <th>WH_capacity_size</th>\n",
       "      <th>zone</th>\n",
       "      <th>WH_regional_zone</th>\n",
       "      <th>Competitor_in_mkt</th>\n",
       "      <th>retail_shop_num</th>\n",
       "      <th>wh_owner_type</th>\n",
       "      <th>distributor_num</th>\n",
       "      <th>flood_impacted</th>\n",
       "      <th>electric_supply</th>\n",
       "      <th>...</th>\n",
       "      <th>approved_wh_govt_certificate</th>\n",
       "      <th>govt_check_l3m</th>\n",
       "      <th>breakdown range</th>\n",
       "      <th>transport_issue_range</th>\n",
       "      <th>storage_issue_range</th>\n",
       "      <th>refill_req_range</th>\n",
       "      <th>wh_est_year_range</th>\n",
       "      <th>location_with_temp_reg_machines</th>\n",
       "      <th>storage issue and breakdown</th>\n",
       "      <th>product_wg_ton</th>\n",
       "    </tr>\n",
       "  </thead>\n",
       "  <tbody>\n",
       "    <tr>\n",
       "      <th>0</th>\n",
       "      <td>1</td>\n",
       "      <td>2</td>\n",
       "      <td>3</td>\n",
       "      <td>5</td>\n",
       "      <td>2</td>\n",
       "      <td>4651</td>\n",
       "      <td>1</td>\n",
       "      <td>24</td>\n",
       "      <td>0</td>\n",
       "      <td>1</td>\n",
       "      <td>...</td>\n",
       "      <td>0</td>\n",
       "      <td>15</td>\n",
       "      <td>2</td>\n",
       "      <td>1</td>\n",
       "      <td>2</td>\n",
       "      <td>1</td>\n",
       "      <td>0</td>\n",
       "      <td>1</td>\n",
       "      <td>18</td>\n",
       "      <td>17115</td>\n",
       "    </tr>\n",
       "    <tr>\n",
       "      <th>1</th>\n",
       "      <td>0</td>\n",
       "      <td>0</td>\n",
       "      <td>1</td>\n",
       "      <td>4</td>\n",
       "      <td>4</td>\n",
       "      <td>6217</td>\n",
       "      <td>0</td>\n",
       "      <td>47</td>\n",
       "      <td>0</td>\n",
       "      <td>1</td>\n",
       "      <td>...</td>\n",
       "      <td>0</td>\n",
       "      <td>17</td>\n",
       "      <td>1</td>\n",
       "      <td>1</td>\n",
       "      <td>1</td>\n",
       "      <td>0</td>\n",
       "      <td>0</td>\n",
       "      <td>0</td>\n",
       "      <td>7</td>\n",
       "      <td>5074</td>\n",
       "    </tr>\n",
       "    <tr>\n",
       "      <th>2</th>\n",
       "      <td>0</td>\n",
       "      <td>1</td>\n",
       "      <td>2</td>\n",
       "      <td>1</td>\n",
       "      <td>4</td>\n",
       "      <td>4306</td>\n",
       "      <td>0</td>\n",
       "      <td>64</td>\n",
       "      <td>0</td>\n",
       "      <td>0</td>\n",
       "      <td>...</td>\n",
       "      <td>0</td>\n",
       "      <td>22</td>\n",
       "      <td>2</td>\n",
       "      <td>1</td>\n",
       "      <td>2</td>\n",
       "      <td>0</td>\n",
       "      <td>0</td>\n",
       "      <td>0</td>\n",
       "      <td>23</td>\n",
       "      <td>23137</td>\n",
       "    </tr>\n",
       "    <tr>\n",
       "      <th>3</th>\n",
       "      <td>0</td>\n",
       "      <td>1</td>\n",
       "      <td>1</td>\n",
       "      <td>2</td>\n",
       "      <td>2</td>\n",
       "      <td>6000</td>\n",
       "      <td>1</td>\n",
       "      <td>50</td>\n",
       "      <td>0</td>\n",
       "      <td>0</td>\n",
       "      <td>...</td>\n",
       "      <td>1</td>\n",
       "      <td>27</td>\n",
       "      <td>1</td>\n",
       "      <td>0</td>\n",
       "      <td>2</td>\n",
       "      <td>2</td>\n",
       "      <td>0</td>\n",
       "      <td>1</td>\n",
       "      <td>20</td>\n",
       "      <td>22115</td>\n",
       "    </tr>\n",
       "    <tr>\n",
       "      <th>4</th>\n",
       "      <td>0</td>\n",
       "      <td>0</td>\n",
       "      <td>1</td>\n",
       "      <td>4</td>\n",
       "      <td>2</td>\n",
       "      <td>4740</td>\n",
       "      <td>0</td>\n",
       "      <td>42</td>\n",
       "      <td>1</td>\n",
       "      <td>1</td>\n",
       "      <td>...</td>\n",
       "      <td>4</td>\n",
       "      <td>24</td>\n",
       "      <td>2</td>\n",
       "      <td>1</td>\n",
       "      <td>2</td>\n",
       "      <td>1</td>\n",
       "      <td>0</td>\n",
       "      <td>0</td>\n",
       "      <td>24</td>\n",
       "      <td>24071</td>\n",
       "    </tr>\n",
       "  </tbody>\n",
       "</table>\n",
       "<p>5 rows × 23 columns</p>\n",
       "</div>"
      ],
      "text/plain": [
       "   Location_type  WH_capacity_size  zone  WH_regional_zone  Competitor_in_mkt  \\\n",
       "0              1                 2     3                 5                  2   \n",
       "1              0                 0     1                 4                  4   \n",
       "2              0                 1     2                 1                  4   \n",
       "3              0                 1     1                 2                  2   \n",
       "4              0                 0     1                 4                  2   \n",
       "\n",
       "   retail_shop_num  wh_owner_type  distributor_num  flood_impacted  \\\n",
       "0             4651              1               24               0   \n",
       "1             6217              0               47               0   \n",
       "2             4306              0               64               0   \n",
       "3             6000              1               50               0   \n",
       "4             4740              0               42               1   \n",
       "\n",
       "   electric_supply  ...  approved_wh_govt_certificate  govt_check_l3m  \\\n",
       "0                1  ...                             0              15   \n",
       "1                1  ...                             0              17   \n",
       "2                0  ...                             0              22   \n",
       "3                0  ...                             1              27   \n",
       "4                1  ...                             4              24   \n",
       "\n",
       "   breakdown range  transport_issue_range  storage_issue_range  \\\n",
       "0                2                      1                    2   \n",
       "1                1                      1                    1   \n",
       "2                2                      1                    2   \n",
       "3                1                      0                    2   \n",
       "4                2                      1                    2   \n",
       "\n",
       "   refill_req_range  wh_est_year_range  location_with_temp_reg_machines  \\\n",
       "0                 1                  0                                1   \n",
       "1                 0                  0                                0   \n",
       "2                 0                  0                                0   \n",
       "3                 2                  0                                1   \n",
       "4                 1                  0                                0   \n",
       "\n",
       "   storage issue and breakdown  product_wg_ton  \n",
       "0                           18           17115  \n",
       "1                            7            5074  \n",
       "2                           23           23137  \n",
       "3                           20           22115  \n",
       "4                           24           24071  \n",
       "\n",
       "[5 rows x 23 columns]"
      ]
     },
     "execution_count": 27,
     "metadata": {},
     "output_type": "execute_result"
    }
   ],
   "source": [
    "#Rearraning columns:\n",
    "desired_order=['Location_type', 'WH_capacity_size', 'zone', 'WH_regional_zone',\n",
    "       'Competitor_in_mkt', 'retail_shop_num', 'wh_owner_type',\n",
    "       'distributor_num', 'flood_impacted', 'electric_supply', 'dist_from_hub',\n",
    "       'workers_num', 'temp_reg_mach', 'approved_wh_govt_certificate',\n",
    "       'govt_check_l3m', 'breakdown range',\n",
    "       'transport_issue_range', 'storage_issue_range', 'refill_req_range',\n",
    "       'wh_est_year_range', 'location_with_temp_reg_machines',\n",
    "       'storage issue and breakdown','product_wg_ton']\n",
    "data=data.reindex(columns=desired_order)\n",
    "data.head()"
   ]
  },
  {
   "cell_type": "markdown",
   "id": "985cd62d",
   "metadata": {},
   "source": [
    "So we performed BINNING with 5 columns wich are 'storage_issue_reported_l3m','wh_breakdown_l3m' ,'transport_issue_l1y',wh_est_year and num_refill_req_l3m."
   ]
  },
  {
   "cell_type": "markdown",
   "id": "4b231734",
   "metadata": {},
   "source": [
    "Then we use OR operator to create column 'location_with_temp_reg_machines' and use '+' to create 'storage issue and breakdown'."
   ]
  },
  {
   "cell_type": "markdown",
   "id": "c6ec1273",
   "metadata": {},
   "source": [
    "# Outlier Treatment using IQR method"
   ]
  },
  {
   "cell_type": "code",
   "execution_count": 28,
   "id": "9c8a6617",
   "metadata": {},
   "outputs": [
    {
     "data": {
      "text/plain": [
       "<Figure size 1080x1440 with 0 Axes>"
      ]
     },
     "metadata": {},
     "output_type": "display_data"
    },
    {
     "data": {
      "image/png": "[encoded data removed]",
      "text/plain": [
       "<Figure size 720x2160 with 24 Axes>"
      ]
     },
     "metadata": {
      "needs_background": "light"
     },
     "output_type": "display_data"
    }
   ],
   "source": [
    "# Box Plot after Treating an Outliers\n",
    "plt.figure(figsize=(15,20))\n",
    "data.plot(kind='box', subplots=True, layout=(8,3), sharex=False,sharey=False,figsize=(10,30),grid =True)\n",
    "plt.show()"
   ]
  },
  {
   "cell_type": "code",
   "execution_count": 29,
   "id": "fc5ff66c",
   "metadata": {},
   "outputs": [],
   "source": [
    "# Identify and handle outliers\n",
    "Q1 = data.quantile(0.25)\n",
    "Q3 =  data.quantile(0.75)\n",
    "IQR = Q3 - Q1\n",
    "data1 = data[~((data < (Q1 - 1.5 * IQR)) | (data > (Q3 + 1.5 * IQR))).any(axis=1)]"
   ]
  },
  {
   "cell_type": "code",
   "execution_count": 30,
   "id": "b8201d17",
   "metadata": {},
   "outputs": [
    {
     "data": {
      "text/plain": [
       "<Figure size 1080x1440 with 0 Axes>"
      ]
     },
     "metadata": {},
     "output_type": "display_data"
    },
    {
     "data": {
      "image/png": "[encoded data removed]",
      "text/plain": [
       "<Figure size 720x2160 with 24 Axes>"
      ]
     },
     "metadata": {
      "needs_background": "light"
     },
     "output_type": "display_data"
    }
   ],
   "source": [
    "# Box Plot after Treating an Outliers\n",
    "plt.figure(figsize=(15,20))\n",
    "data1.plot(kind='box', subplots=True, layout=(8,3), sharex=False,sharey=False,figsize=(10,30),grid =True)\n",
    "plt.show()"
   ]
  },
  {
   "cell_type": "code",
   "execution_count": 31,
   "id": "e2e1ad1e",
   "metadata": {},
   "outputs": [
    {
     "data": {
      "text/plain": [
       "(22150, 23)"
      ]
     },
     "execution_count": 31,
     "metadata": {},
     "output_type": "execute_result"
    }
   ],
   "source": [
    "data.shape"
   ]
  },
  {
   "cell_type": "code",
   "execution_count": 32,
   "id": "07dfd90c",
   "metadata": {},
   "outputs": [
    {
     "data": {
      "text/plain": [
       "(13644, 23)"
      ]
     },
     "execution_count": 32,
     "metadata": {},
     "output_type": "execute_result"
    }
   ],
   "source": [
    "data1.shape"
   ]
  },
  {
   "cell_type": "markdown",
   "id": "14579f4b",
   "metadata": {},
   "source": [
    "# Checking VIF"
   ]
  },
  {
   "cell_type": "markdown",
   "id": "dcc1f211",
   "metadata": {},
   "source": [
    "VIF is a measure of multicollinearity between predictor variables in a regression model, and it assesses the correlation between each predictor variable and the other predictor variables. It helps identify variables that are highly correlated and may affect the model's performance."
   ]
  },
  {
   "cell_type": "code",
   "execution_count": 33,
   "id": "3ffcefc1",
   "metadata": {},
   "outputs": [],
   "source": [
    "X = data1.drop('product_wg_ton',axis = 1).values\n",
    "y = data1['product_wg_ton'].values"
   ]
  },
  {
   "cell_type": "code",
   "execution_count": 34,
   "id": "f49bc2f8",
   "metadata": {},
   "outputs": [
    {
     "name": "stdout",
     "output_type": "stream",
     "text": [
      "                    FEATURES COLUMN  VIF Factor\n",
      "0                     Location_type         NaN\n",
      "1                  WH_capacity_size    1.394770\n",
      "2                              zone    1.070678\n",
      "3                  WH_regional_zone    1.384286\n",
      "4                 Competitor_in_mkt    1.054277\n",
      "5                   retail_shop_num    1.037282\n",
      "6                     wh_owner_type    1.074992\n",
      "7                   distributor_num    1.000769\n",
      "8                    flood_impacted         NaN\n",
      "9                   electric_supply    1.199362\n",
      "10                    dist_from_hub    1.000945\n",
      "11                      workers_num    1.187358\n",
      "12                    temp_reg_mach         inf\n",
      "13     approved_wh_govt_certificate    1.078952\n",
      "14                   govt_check_l3m    1.126441\n",
      "15                  breakdown range    1.029232\n",
      "16            transport_issue_range  115.862843\n",
      "17              storage_issue_range    1.019394\n",
      "18                 refill_req_range    1.300627\n",
      "19                wh_est_year_range    1.304112\n",
      "20  location_with_temp_reg_machines         inf\n",
      "21      storage issue and breakdown    1.145650\n"
     ]
    }
   ],
   "source": [
    "#checking multicollinearity.\n",
    "#This will display the VIF values for each independent variable. Variables with high VIF values may indicate multicollinearity issues.\n",
    "import statsmodels.api as sm\n",
    "from statsmodels.stats.outliers_influence import variance_inflation_factor\n",
    "X = data1.drop('product_wg_ton',axis = 1)  # Add all your independent variables\n",
    "X = sm.add_constant(X)\n",
    "model = sm.OLS(data1['product_wg_ton'], X)\n",
    "results = model.fit()\n",
    "vif = pd.DataFrame()\n",
    "vif[\"FEATURES COLUMN\"] = X.columns\n",
    "vif[\"VIF Factor\"] = [variance_inflation_factor(X.values, i) for i in range(X.shape[1])]\n",
    "print(vif)"
   ]
  },
  {
   "cell_type": "markdown",
   "id": "0b580e58",
   "metadata": {},
   "source": [
    "If you encounter infinite values (inf) when calculating the Variance Inflation Factor (VIF), it indicates a perfect multicollinearity issue within your dataset. Perfect multicollinearity occurs when one or more predictor variables in a regression model can be perfectly predicted using a combination of other predictor variables.\n",
    "\n",
    "        When perfect multicollinearity exists, VIF cannot be computed because it involves dividing by zero, resulting in an infinite value (inf).\n",
    "        \n",
    "        If two or more variables are highly correlated, you can choose to keep only one of them and remove the others. Instead of removing variables, you can create new variables by combining the correlated ones. For example, you can calculate the average or sum of two correlated variables and use that as a single variable in your model.\n",
    "        \n",
    "        Remember that multicollinearity can negatively impact the interpretation and performance of your regression model.\n",
    "        \n",
    "        Division by zero: VIF involves dividing the variance of one predictor variable by the variance inflation factor. If the variance of a predictor variable is zero, division by zero occurs, resulting in NaN values.\n",
    "\n",
    "        Constant or near-constant variables: When a predictor variable has no variance or extremely low variance, it can lead to NaN values in VIF calculations. This often happens with constant variables or those with very few distinct values."
   ]
  },
  {
   "cell_type": "code",
   "execution_count": 35,
   "id": "3dbbef11",
   "metadata": {},
   "outputs": [],
   "source": [
    "#Since multicollinearity issues here we can drop location_with_temp_reg_machines and transport_issue_range"
   ]
  },
  {
   "cell_type": "markdown",
   "id": "76c954f2",
   "metadata": {},
   "source": [
    "# Mutual Information Gain"
   ]
  },
  {
   "cell_type": "markdown",
   "id": "52d31222",
   "metadata": {},
   "source": [
    "        Mutual information(MI)between two random variables is a non-negative value,which measures the dependency between the variables .It is equal to zero if and only if two random variables are independent ,and higher values mean higher dependency"
   ]
  },
  {
   "cell_type": "code",
   "execution_count": 36,
   "id": "8b1ddad2",
   "metadata": {},
   "outputs": [],
   "source": [
    "from sklearn.model_selection import train_test_split\n",
    "X_train,X_test,y_train,y_test=train_test_split(data1.drop(labels=['product_wg_ton'], axis=1),\n",
    "data1['product_wg_ton'],test_size=0.3,random_state=0)"
   ]
  },
  {
   "cell_type": "code",
   "execution_count": 37,
   "id": "919e65e4",
   "metadata": {},
   "outputs": [
    {
     "data": {
      "text/plain": [
       "array([2.26081549e-03, 1.34342305e-04, 1.10454527e-02, 4.96496912e-03,\n",
       "       0.00000000e+00, 5.95653421e-03, 0.00000000e+00, 1.01261952e-02,\n",
       "       0.00000000e+00, 0.00000000e+00, 0.00000000e+00, 0.00000000e+00,\n",
       "       1.02561784e-02, 9.15822351e-02, 6.21718673e-03, 1.40071707e-01,\n",
       "       4.40553057e-03, 1.14762624e+00, 4.80033797e-03, 2.81364884e-01,\n",
       "       1.09357012e-02, 1.59386820e+00])"
      ]
     },
     "execution_count": 37,
     "metadata": {},
     "output_type": "execute_result"
    }
   ],
   "source": [
    "from sklearn.feature_selection import mutual_info_regression\n",
    "mutual_info = mutual_info_regression(X_train.fillna(0), y_train)\n",
    "mutual_info"
   ]
  },
  {
   "cell_type": "code",
   "execution_count": 38,
   "id": "f8643610",
   "metadata": {},
   "outputs": [
    {
     "data": {
      "text/plain": [
       "storage issue and breakdown        1.593868\n",
       "storage_issue_range                1.147626\n",
       "wh_est_year_range                  0.281365\n",
       "breakdown range                    0.140072\n",
       "approved_wh_govt_certificate       0.091582\n",
       "zone                               0.011045\n",
       "location_with_temp_reg_machines    0.010936\n",
       "temp_reg_mach                      0.010256\n",
       "distributor_num                    0.010126\n",
       "govt_check_l3m                     0.006217\n",
       "retail_shop_num                    0.005957\n",
       "WH_regional_zone                   0.004965\n",
       "refill_req_range                   0.004800\n",
       "transport_issue_range              0.004406\n",
       "Location_type                      0.002261\n",
       "WH_capacity_size                   0.000134\n",
       "dist_from_hub                      0.000000\n",
       "electric_supply                    0.000000\n",
       "flood_impacted                     0.000000\n",
       "wh_owner_type                      0.000000\n",
       "Competitor_in_mkt                  0.000000\n",
       "workers_num                        0.000000\n",
       "dtype: float64"
      ]
     },
     "execution_count": 38,
     "metadata": {},
     "output_type": "execute_result"
    }
   ],
   "source": [
    "mutual_info = pd.Series(mutual_info)\n",
    "mutual_info.index = X_train.columns\n",
    "mutual_info.sort_values(ascending=False)"
   ]
  },
  {
   "cell_type": "code",
   "execution_count": 39,
   "id": "5dad2ed9",
   "metadata": {},
   "outputs": [
    {
     "data": {
      "text/plain": [
       "<AxesSubplot:>"
      ]
     },
     "execution_count": 39,
     "metadata": {},
     "output_type": "execute_result"
    },
    {
     "data": {
      "image/png": "[encoded data removed]",
      "text/plain": [
       "<Figure size 1080x360 with 1 Axes>"
      ]
     },
     "metadata": {
      "needs_background": "light"
     },
     "output_type": "display_data"
    }
   ],
   "source": [
    "mutual_info.sort_values(ascending=False).plot.bar(figsize=(15,5))"
   ]
  },
  {
   "cell_type": "code",
   "execution_count": 40,
   "id": "3edb2d43",
   "metadata": {},
   "outputs": [],
   "source": [
    "#Here we are accepting first 7 columns as per this MIG plot and as per grapical and ypothetical way."
   ]
  },
  {
   "cell_type": "markdown",
   "id": "ccc345c7",
   "metadata": {},
   "source": [
    "# Model Building"
   ]
  },
  {
   "cell_type": "code",
   "execution_count": 41,
   "id": "5aeda4f6",
   "metadata": {},
   "outputs": [
    {
     "data": {
      "text/html": [
       "<div>\n",
       "<style scoped>\n",
       "    .dataframe tbody tr th:only-of-type {\n",
       "        vertical-align: middle;\n",
       "    }\n",
       "\n",
       "    .dataframe tbody tr th {\n",
       "        vertical-align: top;\n",
       "    }\n",
       "\n",
       "    .dataframe thead th {\n",
       "        text-align: right;\n",
       "    }\n",
       "</style>\n",
       "<table border=\"1\" class=\"dataframe\">\n",
       "  <thead>\n",
       "    <tr style=\"text-align: right;\">\n",
       "      <th></th>\n",
       "      <th>temp_reg_mach</th>\n",
       "      <th>approved_wh_govt_certificate</th>\n",
       "      <th>breakdown range</th>\n",
       "      <th>storage_issue_range</th>\n",
       "      <th>wh_est_year_range</th>\n",
       "      <th>location_with_temp_reg_machines</th>\n",
       "      <th>storage issue and breakdown</th>\n",
       "      <th>product_wg_ton</th>\n",
       "    </tr>\n",
       "  </thead>\n",
       "  <tbody>\n",
       "    <tr>\n",
       "      <th>1</th>\n",
       "      <td>0</td>\n",
       "      <td>0</td>\n",
       "      <td>1</td>\n",
       "      <td>1</td>\n",
       "      <td>0</td>\n",
       "      <td>0</td>\n",
       "      <td>7</td>\n",
       "      <td>5074</td>\n",
       "    </tr>\n",
       "    <tr>\n",
       "      <th>2</th>\n",
       "      <td>0</td>\n",
       "      <td>0</td>\n",
       "      <td>2</td>\n",
       "      <td>2</td>\n",
       "      <td>0</td>\n",
       "      <td>0</td>\n",
       "      <td>23</td>\n",
       "      <td>23137</td>\n",
       "    </tr>\n",
       "    <tr>\n",
       "      <th>5</th>\n",
       "      <td>1</td>\n",
       "      <td>1</td>\n",
       "      <td>1</td>\n",
       "      <td>0</td>\n",
       "      <td>0</td>\n",
       "      <td>1</td>\n",
       "      <td>26</td>\n",
       "      <td>32134</td>\n",
       "    </tr>\n",
       "    <tr>\n",
       "      <th>6</th>\n",
       "      <td>0</td>\n",
       "      <td>2</td>\n",
       "      <td>1</td>\n",
       "      <td>0</td>\n",
       "      <td>0</td>\n",
       "      <td>0</td>\n",
       "      <td>27</td>\n",
       "      <td>30142</td>\n",
       "    </tr>\n",
       "    <tr>\n",
       "      <th>7</th>\n",
       "      <td>0</td>\n",
       "      <td>4</td>\n",
       "      <td>2</td>\n",
       "      <td>2</td>\n",
       "      <td>0</td>\n",
       "      <td>0</td>\n",
       "      <td>24</td>\n",
       "      <td>24093</td>\n",
       "    </tr>\n",
       "  </tbody>\n",
       "</table>\n",
       "</div>"
      ],
      "text/plain": [
       "   temp_reg_mach  approved_wh_govt_certificate  breakdown range  \\\n",
       "1              0                             0                1   \n",
       "2              0                             0                2   \n",
       "5              1                             1                1   \n",
       "6              0                             2                1   \n",
       "7              0                             4                2   \n",
       "\n",
       "   storage_issue_range  wh_est_year_range  location_with_temp_reg_machines  \\\n",
       "1                    1                  0                                0   \n",
       "2                    2                  0                                0   \n",
       "5                    0                  0                                1   \n",
       "6                    0                  0                                0   \n",
       "7                    2                  0                                0   \n",
       "\n",
       "   storage issue and breakdown  product_wg_ton  \n",
       "1                            7            5074  \n",
       "2                           23           23137  \n",
       "5                           26           32134  \n",
       "6                           27           30142  \n",
       "7                           24           24093  "
      ]
     },
     "execution_count": 41,
     "metadata": {},
     "output_type": "execute_result"
    }
   ],
   "source": [
    "#Creating new dataset data2 as a copy of data1 and then dropping less significant columns.\n",
    "data2=data1.drop(['Location_type', 'WH_capacity_size', 'zone', 'WH_regional_zone',\n",
    "       'Competitor_in_mkt', 'retail_shop_num', 'wh_owner_type',\n",
    "       'distributor_num', 'flood_impacted', 'electric_supply', 'dist_from_hub',\n",
    "       'workers_num','govt_check_l3m', 'transport_issue_range','refill_req_range'],axis=1)\n",
    "data2.head()"
   ]
  },
  {
   "cell_type": "code",
   "execution_count": 42,
   "id": "a753a369",
   "metadata": {},
   "outputs": [
    {
     "data": {
      "text/plain": [
       "(13644, 8)"
      ]
     },
     "execution_count": 42,
     "metadata": {},
     "output_type": "execute_result"
    }
   ],
   "source": [
    "data2.shape"
   ]
  },
  {
   "cell_type": "code",
   "execution_count": 43,
   "id": "8149f51d",
   "metadata": {},
   "outputs": [],
   "source": [
    "#Applying minmax scalar to data2 \n",
    "X = data2.drop('product_wg_ton',axis = 1).values\n",
    "y = data2['product_wg_ton'].values"
   ]
  },
  {
   "cell_type": "code",
   "execution_count": 44,
   "id": "c865fd3b",
   "metadata": {},
   "outputs": [],
   "source": [
    "from sklearn.preprocessing import MinMaxScaler\n",
    "scaler = MinMaxScaler()\n",
    "X = scaler.fit_transform(X)"
   ]
  },
  {
   "cell_type": "code",
   "execution_count": 45,
   "id": "04030369",
   "metadata": {},
   "outputs": [
    {
     "name": "stdout",
     "output_type": "stream",
     "text": [
      "Requirement already satisfied: XGBoost in c:\\users\\nandakishore\\new folder (2)\\lib\\site-packages (1.7.2)\n",
      "Requirement already satisfied: scipy in c:\\users\\nandakishore\\new folder (2)\\lib\\site-packages (from XGBoost) (1.9.3)\n",
      "Requirement already satisfied: numpy in c:\\users\\nandakishore\\new folder (2)\\lib\\site-packages (from XGBoost) (1.21.5)\n"
     ]
    }
   ],
   "source": [
    "!pip install XGBoost"
   ]
  },
  {
   "cell_type": "code",
   "execution_count": 46,
   "id": "492a8e79",
   "metadata": {},
   "outputs": [],
   "source": [
    "from sklearn.model_selection import train_test_split\n",
    "X_train,X_test,y_train,y_test = train_test_split(X,y,test_size=0.30,random_state=42)"
   ]
  },
  {
   "cell_type": "code",
   "execution_count": 47,
   "id": "15077c2f",
   "metadata": {},
   "outputs": [],
   "source": [
    "#importing neccessary libraries\n",
    "from sklearn.linear_model import LinearRegression, Lasso, Ridge\n",
    "from sklearn.tree import DecisionTreeRegressor\n",
    "from sklearn.ensemble import RandomForestRegressor\n",
    "from xgboost import XGBRegressor\n",
    "from sklearn.metrics import mean_squared_error"
   ]
  },
  {
   "cell_type": "markdown",
   "id": "0ab06c28",
   "metadata": {},
   "source": [
    "# Implimenting Different Algorithms"
   ]
  },
  {
   "cell_type": "code",
   "execution_count": 48,
   "id": "61d49099",
   "metadata": {},
   "outputs": [],
   "source": [
    "# Linear Regression\n",
    "linear_reg = LinearRegression()\n",
    "linear_reg.fit(X_train, y_train)\n",
    "linear_train_acc = linear_reg.score(X_train, y_train)\n",
    "linear_test_acc = linear_reg.score(X_test, y_test)"
   ]
  },
  {
   "cell_type": "code",
   "execution_count": 49,
   "id": "fe5b140c",
   "metadata": {},
   "outputs": [],
   "source": [
    "# Lasso\n",
    "lasso_reg = Lasso()\n",
    "lasso_reg.fit(X_train, y_train)\n",
    "lasso_train_acc = lasso_reg.score(X_train, y_train)\n",
    "lasso_test_acc = lasso_reg.score(X_test, y_test)"
   ]
  },
  {
   "cell_type": "code",
   "execution_count": 50,
   "id": "6fbbd2a8",
   "metadata": {},
   "outputs": [],
   "source": [
    "# Ridge\n",
    "ridge_reg = Ridge()\n",
    "ridge_reg.fit(X_train, y_train)\n",
    "ridge_train_acc = ridge_reg.score(X_train, y_train)\n",
    "ridge_test_acc = ridge_reg.score(X_test, y_test)"
   ]
  },
  {
   "cell_type": "code",
   "execution_count": 51,
   "id": "6df42ada",
   "metadata": {},
   "outputs": [],
   "source": [
    "# Decision Tree\n",
    "tree_reg = DecisionTreeRegressor()\n",
    "tree_reg.fit(X_train, y_train)\n",
    "tree_train_acc = tree_reg.score(X_train, y_train)\n",
    "tree_test_acc = tree_reg.score(X_test, y_test)"
   ]
  },
  {
   "cell_type": "code",
   "execution_count": 52,
   "id": "af8d10a4",
   "metadata": {},
   "outputs": [],
   "source": [
    "# Random Forest\n",
    "forest_reg = RandomForestRegressor()\n",
    "forest_reg.fit(X_train, y_train)\n",
    "forest_train_acc = forest_reg.score(X_train, y_train)\n",
    "forest_test_acc = forest_reg.score(X_test, y_test)"
   ]
  },
  {
   "cell_type": "code",
   "execution_count": 53,
   "id": "f2eec273",
   "metadata": {},
   "outputs": [],
   "source": [
    "# XGBoost\n",
    "xgb_reg = XGBRegressor()\n",
    "xgb_reg.fit(X_train, y_train)\n",
    "xgb_train_acc = xgb_reg.score(X_train, y_train)\n",
    "xgb_test_acc = xgb_reg.score(X_test, y_test)"
   ]
  },
  {
   "cell_type": "markdown",
   "id": "f9a357c6",
   "metadata": {},
   "source": [
    "# Finding train test acccuracy"
   ]
  },
  {
   "cell_type": "code",
   "execution_count": 54,
   "id": "25bd2536",
   "metadata": {},
   "outputs": [
    {
     "name": "stdout",
     "output_type": "stream",
     "text": [
      "Linear Regression Train Accuracy: 0.9446044774081352\n",
      "Linear Regression Test Accuracy: 0.9470057880311626\n",
      "Lasso Train Accuracy: 0.9446078446469865\n",
      "Lasso Test Accuracy: 0.9469714039985513\n",
      "Ridge Train Accuracy: 0.9446042252855383\n",
      "Ridge Test Accuracy: 0.9469252974717488\n",
      "Decision Tree Train Accuracy: 0.9928973669360671\n",
      "Decision Tree Test Accuracy: 0.9894427189196362\n",
      "Random Forest Train Accuracy: 0.9927871996615208\n",
      "Random Forest Test Accuracy: 0.9901674853952458\n",
      "XGBoost Train Accuracy: 0.99237213620006\n",
      "XGBoost Test Accuracy: 0.990822163633965\n"
     ]
    }
   ],
   "source": [
    "# Print the train and test accuracies\n",
    "print(\"Linear Regression Train Accuracy:\", linear_train_acc)\n",
    "print(\"Linear Regression Test Accuracy:\", linear_test_acc)\n",
    "print(\"Lasso Train Accuracy:\", lasso_train_acc)\n",
    "print(\"Lasso Test Accuracy:\", lasso_test_acc)\n",
    "print(\"Ridge Train Accuracy:\", ridge_train_acc)\n",
    "print(\"Ridge Test Accuracy:\", ridge_test_acc)\n",
    "print(\"Decision Tree Train Accuracy:\", tree_train_acc)\n",
    "print(\"Decision Tree Test Accuracy:\", tree_test_acc)\n",
    "print(\"Random Forest Train Accuracy:\", forest_train_acc)\n",
    "print(\"Random Forest Test Accuracy:\", forest_test_acc)\n",
    "print(\"XGBoost Train Accuracy:\", xgb_train_acc)\n",
    "print(\"XGBoost Test Accuracy:\", xgb_test_acc)"
   ]
  },
  {
   "cell_type": "markdown",
   "id": "ea93b32a",
   "metadata": {},
   "source": [
    "# Cross validation"
   ]
  },
  {
   "cell_type": "markdown",
   "id": "70056a24",
   "metadata": {},
   "source": [
    "It splits the data into 5 folds here and evaluates the model's performance on each fold. \n",
    "\n",
    "It returns an array of scores, where each score represents the performance of the model on a particular fold."
   ]
  },
  {
   "cell_type": "code",
   "execution_count": 55,
   "id": "c678e9e0",
   "metadata": {},
   "outputs": [],
   "source": [
    "from sklearn.model_selection import cross_val_score"
   ]
  },
  {
   "cell_type": "code",
   "execution_count": 56,
   "id": "a5a4961f",
   "metadata": {},
   "outputs": [
    {
     "name": "stdout",
     "output_type": "stream",
     "text": [
      "Linear Regression Cross-Validation Scores: [0.94418143 0.94566312 0.94210752 0.94852113 0.94589325]\n",
      "Lasso Cross-Validation Scores: [0.94417723 0.94565408 0.9421255  0.94851113 0.94587924]\n",
      "Ridge Cross-Validation Scores: [0.94419558 0.94562971 0.94216265 0.94848745 0.9458591 ]\n",
      "Decision Tree Cross-Validation Scores: [0.989586   0.98934786 0.98902546 0.98964174 0.99009056]\n",
      "Random Forest Cross-Validation Scores: [0.99023844 0.98988729 0.98959848 0.99004268 0.99069103]\n",
      "XGBoost Cross-Validation Scores: [0.99093857 0.99070585 0.99024212 0.99074364 0.99146471]\n",
      "Linear Regression Mean CV Score: 0.9452732879417265\n",
      "Lasso Mean CV Score: 0.9452694360420093\n",
      "Ridge Mean CV Score: 0.9452668969264805\n",
      "Decision Tree Mean CV Score: 0.9895383253241563\n",
      "Random Forest Mean CV Score: 0.9900915865527631\n",
      "XGBoost Mean CV Score: 0.9908189778043196\n"
     ]
    }
   ],
   "source": [
    "# Linear Regression\n",
    "linear_reg = LinearRegression()\n",
    "linear_scores = cross_val_score(linear_reg, X, y, cv=5)\n",
    "\n",
    "# Lasso\n",
    "lasso_reg = Lasso()\n",
    "lasso_scores = cross_val_score(lasso_reg, X, y, cv=5)\n",
    "\n",
    "# Ridge\n",
    "ridge_reg = Ridge()\n",
    "ridge_scores = cross_val_score(ridge_reg, X, y, cv=5)\n",
    "\n",
    "# Decision Tree\n",
    "tree_reg = DecisionTreeRegressor()\n",
    "tree_scores = cross_val_score(tree_reg, X, y, cv=5)\n",
    "\n",
    "# Random Forest\n",
    "forest_reg = RandomForestRegressor()\n",
    "forest_scores = cross_val_score(forest_reg, X, y, cv=5)\n",
    "\n",
    "# XGBoost\n",
    "xgb_reg = XGBRegressor()\n",
    "xgb_scores = cross_val_score(xgb_reg, X, y, cv=5)\n",
    "\n",
    "# Print the cross-validation scores\n",
    "print(\"Linear Regression Cross-Validation Scores:\", linear_scores)\n",
    "print(\"Lasso Cross-Validation Scores:\", lasso_scores)\n",
    "print(\"Ridge Cross-Validation Scores:\", ridge_scores)\n",
    "print(\"Decision Tree Cross-Validation Scores:\", tree_scores)\n",
    "print(\"Random Forest Cross-Validation Scores:\", forest_scores)\n",
    "print(\"XGBoost Cross-Validation Scores:\", xgb_scores)\n",
    "\n",
    "# Calculate and print the mean of cross-validation scores\n",
    "#The mean of the cross-validation scores provides an overall measure of the model's performance across all the folds. \n",
    "#It gives you an estimate of how well the model is expected to perform on unseen data.\n",
    "print(\"Linear Regression Mean CV Score:\", linear_scores.mean())\n",
    "print(\"Lasso Mean CV Score:\", lasso_scores.mean())\n",
    "print(\"Ridge Mean CV Score:\", ridge_scores.mean())\n",
    "print(\"Decision Tree Mean CV Score:\", tree_scores.mean())\n",
    "print(\"Random Forest Mean CV Score:\", forest_scores.mean())\n",
    "print(\"XGBoost Mean CV Score:\", xgb_scores.mean())"
   ]
  },
  {
   "cell_type": "markdown",
   "id": "cfaadba0",
   "metadata": {},
   "source": [
    "The mean score helps in comparing the performance of different models.\n",
    "\n",
    "It allows you to assess which model or configuration is likely to perform better on unseen data.\n",
    "\n",
    "Generally, a higher mean score indicates better model performance, but it should be considered alongside other evaluation metrics depending on the specific problem and requirements."
   ]
  },
  {
   "cell_type": "markdown",
   "id": "1ad5fe38",
   "metadata": {},
   "source": [
    "# Hyper parameter tuning of lasso, ridge, Desion Tree, Random Forest and xgb"
   ]
  },
  {
   "cell_type": "code",
   "execution_count": 57,
   "id": "a3714b8d",
   "metadata": {},
   "outputs": [],
   "source": [
    "from sklearn.model_selection import GridSearchCV"
   ]
  },
  {
   "cell_type": "code",
   "execution_count": 58,
   "id": "e483aee3",
   "metadata": {},
   "outputs": [
    {
     "name": "stdout",
     "output_type": "stream",
     "text": [
      "Lasso Best Parameters: {'alpha': 0.5}\n",
      "Lasso Best Score: 7877813.804319987\n",
      "Ridge Best Parameters: {'alpha': 0.1}\n",
      "Ridge Best Score: 7877817.244657735\n",
      "Decision Tree Best Parameters: {'max_depth': 10, 'min_samples_split': 10}\n",
      "Decision Tree Train Accuracy: 0.9915911810502854\n",
      "Decision Tree Test Accuracy: 0.989785426332505\n",
      "Random Forest Best Parameters: {'max_depth': 10, 'n_estimators': 300}\n",
      "Random Forest Train Accuracy: 0.9922678068804851\n",
      "Random Forest Test Accuracy: 0.990600822877733\n",
      "XGBoost Best Parameters: {'learning_rate': 0.1, 'max_depth': 5}\n",
      "XGBoost Train Accuracy: 0.9915819682139708\n",
      "XGBoost Test Accuracy: 0.9910658839570825\n"
     ]
    }
   ],
   "source": [
    "# Perform Grid Search for Lasso Regression\n",
    "\n",
    "# Define the parameter grid for each model\n",
    "lasso_regression_params = {'alpha': [0.1, 0.5, 1.0]}  # Example values for alpha\n",
    "ridge_regression_params = {'alpha': [0.1, 0.5, 1.0]}  # Example values for alpha\n",
    "\n",
    "# Perform Grid Search for Lasso Regression\n",
    "lasso_regression_grid = GridSearchCV(lasso_reg, param_grid=lasso_regression_params, scoring='neg_mean_squared_error')\n",
    "lasso_regression_grid.fit(X, y)\n",
    "\n",
    "# Perform Grid Search for Ridge Regression\n",
    "ridge_regression_grid = GridSearchCV(ridge_reg, param_grid=ridge_regression_params, scoring='neg_mean_squared_error')\n",
    "ridge_regression_grid.fit(X, y)\n",
    "\n",
    "# Decision Tree Regression with Grid Search\n",
    "tree_reg = DecisionTreeRegressor()\n",
    "tree_params = {'max_depth': [None, 5, 10],\n",
    "               'min_samples_split': [2, 5, 10]}# Example hyperparameters to tune  \n",
    "tree_grid_search = GridSearchCV(tree_reg, tree_params, cv=5)\n",
    "tree_grid_search.fit(X_train, y_train)\n",
    "tree_best_params = tree_grid_search.best_params_\n",
    "tree_best_model = tree_grid_search.best_estimator_\n",
    "tree_train_acc = tree_best_model.score(X_train, y_train)\n",
    "tree_test_acc = tree_best_model.score(X_test, y_test)\n",
    "\n",
    "# Random Forest Regression with Grid Search\n",
    "forest_reg = RandomForestRegressor()\n",
    "forest_params = {'n_estimators': [100, 200, 300],\n",
    "                 'max_depth': [None, 5, 10]}  # Example hyperparameters to tune\n",
    "forest_grid_search = GridSearchCV(forest_reg, forest_params, cv=5)\n",
    "forest_grid_search.fit(X_train, y_train)\n",
    "forest_best_params = forest_grid_search.best_params_\n",
    "forest_best_model = forest_grid_search.best_estimator_\n",
    "forest_train_acc = forest_best_model.score(X_train, y_train)\n",
    "forest_test_acc = forest_best_model.score(X_test, y_test)\n",
    "\n",
    "# XGBoost Regression with Grid Search\n",
    "xgb_reg = XGBRegressor()\n",
    "xgb_params = {'learning_rate': [0.1, 0.01, 0.001], 'max_depth': [3, 5, 7]}  # Example hyperparameters to tune\n",
    "xgb_grid_search = GridSearchCV(xgb_reg, xgb_params, cv=5)\n",
    "xgb_grid_search.fit(X_train, y_train)\n",
    "xgb_best_params = xgb_grid_search.best_params_\n",
    "xgb_best_model = xgb_grid_search.best_estimator_\n",
    "xgb_train_acc = xgb_best_model.score(X_train, y_train)\n",
    "xgb_test_acc = xgb_best_model.score(X_test, y_test)\n",
    "\n",
    "# Print the best parameters and train/test accuracies\n",
    "print(\"Lasso Best Parameters:\", lasso_regression_grid.best_params_)\n",
    "print(\"Lasso Best Score:\", -lasso_regression_grid.best_score_)\n",
    "print(\"Ridge Best Parameters:\", ridge_regression_grid.best_params_)\n",
    "print(\"Ridge Best Score:\", -ridge_regression_grid.best_score_)\n",
    "print(\"Decision Tree Best Parameters:\", tree_best_params)\n",
    "print(\"Decision Tree Train Accuracy:\", tree_train_acc)\n",
    "print(\"Decision Tree Test Accuracy:\", tree_test_acc)\n",
    "print(\"Random Forest Best Parameters:\", forest_best_params)\n",
    "print(\"Random Forest Train Accuracy:\", forest_train_acc)\n",
    "print(\"Random Forest Test Accuracy:\", forest_test_acc)\n",
    "print(\"XGBoost Best Parameters:\", xgb_best_params)\n",
    "print(\"XGBoost Train Accuracy:\", xgb_train_acc)\n",
    "print(\"XGBoost Test Accuracy:\", xgb_test_acc)"
   ]
  },
  {
   "cell_type": "code",
   "execution_count": 59,
   "id": "dec425ef",
   "metadata": {},
   "outputs": [],
   "source": [
    "#For Decision Tree,Random Forest and XGBoost we got test accuracy of 98%, 99% and 99% resp."
   ]
  },
  {
   "cell_type": "markdown",
   "id": "d1dc2620",
   "metadata": {},
   "source": [
    "To calculate the train accuracy,Test Accuracy we used the score method of each model and pass the training features (X_train) and labels (y_train) as arguments. \n",
    "\n",
    "The score method calculates the R-squared value, which represents the proportion of the variance in the dependent variable that can be predicted from the independent variables. \n",
    "\n",
    "Higher values indicate better model performance.\n",
    "\n",
    "Lasso Regression includes the hyperparameter alpha (α), which controls the strength of the L1 regularization term. Ridge Regression includes the hyperparameter alpha (α) as well, which controls the strength of the L2 regularization term. By defining a range of values for alpha and using grid search, you can systematically search for the best combination of hyperparameters that results in the optimal model performance."
   ]
  },
  {
   "cell_type": "markdown",
   "id": "e0f67263",
   "metadata": {},
   "source": [
    "# Checking Evaluation Matrics:"
   ]
  },
  {
   "cell_type": "markdown",
   "id": "849eb017",
   "metadata": {},
   "source": [
    "Here we are using Evaluation Matrics like Mean Squared Error (MSE), Root Mean Squared Error (RMSE), Mean Absolute Error (MAE), and R-squared (coefficient of determination).\n",
    "\n",
    ".Mean Squared Error (MSE): Measures the average squared difference between the predicted and actual values. A lower MSE is generally desirable, suggesting that the model's predictions are closer to the actual values.\n",
    "\n",
    ".Root Mean Squared Error (RMSE): Square root of the MSE, provides a measure of the average magnitude of the errors. It is in the same units as the target variable.\n",
    "\n",
    ".Mean Absolute Error (MAE): Measures the average absolute difference between the predicted and actual values. It represents the average magnitude of the errors, regardless of their direction.Similar to MSE, A lower MAE suggests that the model's predictions have less deviation from the actual values.\n",
    "\n",
    ".R-squared (R2): Also known as the coefficient of determination, it indicates the proportion of the variance in the target variable that can be explained by the regression model. It ranges from 0 to 1, and higher values indicate better fit.\n",
    "\n",
    "By calculating and examining these evaluation metrics for both the training and test sets, you can assess the performance of the regression model and understand how well it generalizes to unseen data."
   ]
  },
  {
   "cell_type": "code",
   "execution_count": 60,
   "id": "682f4fc6",
   "metadata": {},
   "outputs": [],
   "source": [
    "from sklearn.metrics import mean_squared_error, mean_absolute_error, r2_score#RMSE will derived from MSE."
   ]
  },
  {
   "cell_type": "markdown",
   "id": "460107f0",
   "metadata": {},
   "source": [
    "LINEAR REGRESSOR"
   ]
  },
  {
   "cell_type": "code",
   "execution_count": 61,
   "id": "a1f1e0ef",
   "metadata": {},
   "outputs": [
    {
     "data": {
      "text/plain": [
       "LinearRegression()"
      ]
     },
     "execution_count": 61,
     "metadata": {},
     "output_type": "execute_result"
    }
   ],
   "source": [
    "# Linear Regression\n",
    "linear_reg = LinearRegression()\n",
    "linear_reg.fit(X_train, y_train)"
   ]
  },
  {
   "cell_type": "code",
   "execution_count": 62,
   "id": "6b905301",
   "metadata": {},
   "outputs": [
    {
     "name": "stdout",
     "output_type": "stream",
     "text": [
      "Training Set Metrics:\n",
      "Mean Squared Error (MSE): 8080047.6534767635\n",
      "Root Mean Squared Error (RMSE): 2842.542462915332\n",
      "Mean Absolute Error (MAE): 2124.02249740645\n",
      "R-squared (R2): 0.9446044774081352\n",
      "\n",
      "Test Set Metrics:\n",
      "Mean Squared Error (MSE): 7388097.757199545\n",
      "Root Mean Squared Error (RMSE): 2718.1055456327567\n",
      "Mean Absolute Error (MAE): 2053.8457506672817\n",
      "R-squared (R2): 0.9470057880311626\n"
     ]
    }
   ],
   "source": [
    "# Make predictions on the training and test data\n",
    "y_train_pred = linear_reg.predict(X_train)\n",
    "y_test_pred_linear = linear_reg.predict(X_test)\n",
    "\n",
    "# Calculate evaluation metrics for training data\n",
    "linear_mse_train = mean_squared_error(y_train, y_train_pred)\n",
    "linear_rmse_train = mean_squared_error(y_train, y_train_pred, squared=False)\n",
    "linear_mae_train = mean_absolute_error(y_train, y_train_pred)\n",
    "linear_r2_train = r2_score(y_train, y_train_pred)\n",
    "\n",
    "# Calculate evaluation metrics for test data\n",
    "linear_mse_test = mean_squared_error(y_test, y_test_pred_linear)\n",
    "linear_rmse_test = mean_squared_error(y_test, y_test_pred_linear, squared=False)\n",
    "linear_mae_test = mean_absolute_error(y_test, y_test_pred_linear)\n",
    "linear_r2_test = r2_score(y_test, y_test_pred_linear)\n",
    "\n",
    "# Print the evaluation metrics\n",
    "print(\"Training Set Metrics:\")\n",
    "print(\"Mean Squared Error (MSE):\", linear_mse_train)\n",
    "print(\"Root Mean Squared Error (RMSE):\", linear_rmse_train)\n",
    "print(\"Mean Absolute Error (MAE):\", linear_mae_train)\n",
    "print(\"R-squared (R2):\", linear_r2_train)\n",
    "print()\n",
    "print(\"Test Set Metrics:\")\n",
    "print(\"Mean Squared Error (MSE):\", linear_mse_test)\n",
    "print(\"Root Mean Squared Error (RMSE):\", linear_rmse_test)\n",
    "print(\"Mean Absolute Error (MAE):\", linear_mae_test)\n",
    "print(\"R-squared (R2):\", linear_r2_test)"
   ]
  },
  {
   "cell_type": "markdown",
   "id": "888a475f",
   "metadata": {},
   "source": [
    "Conclusion  \n",
    "            \n",
    "            In this linear model we can infere that training and test values of MSE,RMSE,MAE are in acceptale range and not so much differed.Also training & test R2 is 94%.So its a generic model.Below regression graph gives a linear relationship."
   ]
  },
  {
   "cell_type": "code",
   "execution_count": 63,
   "id": "d5aae1bb",
   "metadata": {},
   "outputs": [
    {
     "data": {
      "text/plain": [
       "<matplotlib.colorbar.Colorbar at 0x16341ebfb50>"
      ]
     },
     "execution_count": 63,
     "metadata": {},
     "output_type": "execute_result"
    },
    {
     "data": {
      "image/png": "[encoded data removed]",
      "text/plain": [
       "<Figure size 432x288 with 2 Axes>"
      ]
     },
     "metadata": {
      "needs_background": "light"
     },
     "output_type": "display_data"
    }
   ],
   "source": [
    "#Regression scatter plot bet predicted and actual values\n",
    "# Define a condition to apply colors\n",
    "condition = y_test > y_test_pred_linear\n",
    "# Plot the predicted values against the true values\n",
    "plt.scatter(y_test, y_test_pred_linear, c=condition, cmap='coolwarm')\n",
    "plt.xlabel('True Values')\n",
    "plt.ylabel('Predicted Values')\n",
    "plt.title('linear Regression: True Values vs Predicted Values')\n",
    "plt.colorbar(label='Condition')"
   ]
  },
  {
   "cell_type": "markdown",
   "id": "7e97310b",
   "metadata": {},
   "source": [
    "We can observe the general trend of the scatter plot. If the points form a linear pattern along a diagonal line from the bottom-left to the top-right, it indicates a strong positive correlation between the true and predicted values. This suggests that the model is capturing the underlying patterns well.\n",
    "\n",
    "Scatter around the Trend Line: The dispersion of points around the diagonal trend line provides information about the model's accuracy. If the points are tightly clustered around the line, it indicates a higher accuracy and a good fit of the model. On the other hand, if the points are more spread out, it suggests that the model has a higher degree of variability in its predictions.\n",
    "\n",
    "Outliers: Look for any points that deviate significantly from the trend line or appear as outliers. These points represent instances where the model's predictions differ considerably from the true values. Outliers might indicate specific patterns or data points that the model struggles to capture accurately.\n",
    "\n",
    "Systematic Deviation: Check for any systematic deviation from the trend line. If the points consistently fall above or below the line, it suggests a bias in the model's predictions. This bias could indicate a specific pattern or relationship that the model fails to capture adequately."
   ]
  },
  {
   "cell_type": "markdown",
   "id": "0a1367e7",
   "metadata": {},
   "source": [
    "LASSO REGRESSOR"
   ]
  },
  {
   "cell_type": "code",
   "execution_count": 64,
   "id": "2784720c",
   "metadata": {},
   "outputs": [
    {
     "data": {
      "text/plain": [
       "Lasso()"
      ]
     },
     "execution_count": 64,
     "metadata": {},
     "output_type": "execute_result"
    }
   ],
   "source": [
    "# Lasso\n",
    "lasso_reg = Lasso()\n",
    "lasso_reg.fit(X_train, y_train)"
   ]
  },
  {
   "cell_type": "code",
   "execution_count": 65,
   "id": "3aa86910",
   "metadata": {},
   "outputs": [
    {
     "name": "stdout",
     "output_type": "stream",
     "text": [
      "Lasso Regression Train Performance:\n",
      "Train Mean Squared Error (MSE): 8079556.504569667\n",
      "Train Root Mean Squared Error (RMSE): 2842.4560690659173\n",
      "Train Mean Absolute Error (MAE): 2125.7167345754456\n",
      "Train R-squared: 0.9446078446469865\n",
      "Lasso Regression Test Performance:\n",
      "Test Mean Squared Error (MSE): 7392891.348514173\n",
      "Test Root Mean Squared Error (RMSE): 2718.987191678948\n",
      "Test Mean Absolute Error (MAE): 2055.9797828089604\n",
      "Test R-squared: 0.9469714039985513\n"
     ]
    }
   ],
   "source": [
    "# Make predictions on the training and test data\n",
    "y_train_pred = lasso_reg.predict(X_train)\n",
    "y_test_pred_las = lasso_reg.predict(X_test)\n",
    "\n",
    "# Calculate evaluation metrics for Lasso Regression on the training set\n",
    "lasso_mse_train = mean_squared_error(y_train, y_train_pred)\n",
    "lasso_rmse_train = np.sqrt(lasso_mse_train)\n",
    "lasso_r2_train = r2_score(y_train, y_train_pred)\n",
    "lasso_mae_train = mean_absolute_error(y_train, y_train_pred)\n",
    "\n",
    "# Calculate evaluation metrics for Lasso Regression on the test set\n",
    "lasso_mse_test = mean_squared_error(y_test, y_test_pred_las)\n",
    "lasso_rmse_test = np.sqrt(lasso_mse_test)\n",
    "lasso_r2_test = r2_score(y_test, y_test_pred_las)\n",
    "lasso_mae_test = mean_absolute_error(y_test, y_test_pred_las)\n",
    "\n",
    "print(\"Lasso Regression Train Performance:\")\n",
    "print(\"Train Mean Squared Error (MSE):\", lasso_mse_train)\n",
    "print(\"Train Root Mean Squared Error (RMSE):\", lasso_rmse_train)\n",
    "print(\"Train Mean Absolute Error (MAE):\", lasso_mae_train)\n",
    "print(\"Train R-squared:\", lasso_r2_train)\n",
    "\n",
    "print(\"Lasso Regression Test Performance:\")\n",
    "print(\"Test Mean Squared Error (MSE):\", lasso_mse_test)\n",
    "print(\"Test Root Mean Squared Error (RMSE):\", lasso_rmse_test)\n",
    "print(\"Test Mean Absolute Error (MAE):\", lasso_mae_test)\n",
    "print(\"Test R-squared:\", lasso_r2_test)"
   ]
  },
  {
   "cell_type": "markdown",
   "id": "150f3d81",
   "metadata": {},
   "source": [
    "Conclusion\n",
    "\n",
    "        In this lasso model,we can infere that training and test values of MSE,RMSE,MAE are in acceptale range.Also train and test R2 value is 94% . Its also a generic model."
   ]
  },
  {
   "cell_type": "code",
   "execution_count": 66,
   "id": "4033d946",
   "metadata": {},
   "outputs": [
    {
     "data": {
      "text/plain": [
       "<matplotlib.colorbar.Colorbar at 0x163424cf1f0>"
      ]
     },
     "execution_count": 66,
     "metadata": {},
     "output_type": "execute_result"
    },
    {
     "data": {
      "image/png": "[encoded data removed]",
      "text/plain": [
       "<Figure size 432x288 with 2 Axes>"
      ]
     },
     "metadata": {
      "needs_background": "light"
     },
     "output_type": "display_data"
    }
   ],
   "source": [
    "# Define a condition to apply colors\n",
    "condition = y_test > y_test_pred_las\n",
    "# Plot the predicted values against the true values\n",
    "plt.scatter(y_test, y_test_pred_las, c=condition, cmap='coolwarm')\n",
    "plt.xlabel('True Values')\n",
    "plt.ylabel('Predicted Values')\n",
    "plt.title('Lasso Regression: True Values vs Predicted Values')\n",
    "plt.colorbar(label='Condition')"
   ]
  },
  {
   "cell_type": "markdown",
   "id": "394e9bf1",
   "metadata": {},
   "source": [
    "RIDGE REGRESSOR"
   ]
  },
  {
   "cell_type": "code",
   "execution_count": 67,
   "id": "84480770",
   "metadata": {},
   "outputs": [
    {
     "data": {
      "text/plain": [
       "Ridge()"
      ]
     },
     "execution_count": 67,
     "metadata": {},
     "output_type": "execute_result"
    }
   ],
   "source": [
    "# Ridge\n",
    "ridge_reg = Ridge()\n",
    "ridge_reg.fit(X_train, y_train)"
   ]
  },
  {
   "cell_type": "code",
   "execution_count": 68,
   "id": "caf4e124",
   "metadata": {},
   "outputs": [
    {
     "name": "stdout",
     "output_type": "stream",
     "text": [
      "ridge Regression Train Performance:\n",
      "Train Mean Squared Error (MSE): 8080084.428336941\n",
      "Train Root Mean Squared Error (RMSE): 2842.548931564229\n",
      "Train Mean Absolute Error (MAE): 2129.2971004556534\n",
      "Train R-squared: 0.9446042252855383\n",
      "ridge Regression Test Performance:\n",
      "Test Mean Squared Error (MSE): 7399319.211380819\n",
      "Test Root Mean Squared Error (RMSE): 2720.168967432137\n",
      "Test Mean Absolute Error (MAE): 2059.882816891511\n",
      "Test R-squared: 0.9469252974717488\n"
     ]
    }
   ],
   "source": [
    "# Make predictions on the training and test data\n",
    "y_train_pred = ridge_reg.predict(X_train)\n",
    "y_test_pred_rid = ridge_reg.predict(X_test)\n",
    "\n",
    "# Calculate evaluation metrics for ridge Regression on the training set\n",
    "ridge_mse_train = mean_squared_error(y_train, y_train_pred)\n",
    "ridge_rmse_train = np.sqrt(ridge_mse_train)\n",
    "ridge_r2_train = r2_score(y_train, y_train_pred)\n",
    "ridge_mae_train = mean_absolute_error(y_train, y_train_pred)\n",
    "\n",
    "# Calculate evaluation metrics for ridge Regression on the test set\n",
    "ridge_mse_test = mean_squared_error(y_test, y_test_pred_rid)\n",
    "ridge_rmse_test = np.sqrt(ridge_mse_test)\n",
    "ridge_r2_test = r2_score(y_test, y_test_pred_rid)\n",
    "ridge_mae_test = mean_absolute_error(y_test, y_test_pred_rid)\n",
    "\n",
    "print(\"ridge Regression Train Performance:\")\n",
    "print(\"Train Mean Squared Error (MSE):\", ridge_mse_train)\n",
    "print(\"Train Root Mean Squared Error (RMSE):\", ridge_rmse_train)\n",
    "print(\"Train Mean Absolute Error (MAE):\", ridge_mae_train)\n",
    "print(\"Train R-squared:\", ridge_r2_train)\n",
    "\n",
    "print(\"ridge Regression Test Performance:\")\n",
    "print(\"Test Mean Squared Error (MSE):\", ridge_mse_test)\n",
    "print(\"Test Root Mean Squared Error (RMSE):\", ridge_rmse_test)\n",
    "print(\"Test Mean Absolute Error (MAE):\", ridge_mae_test)\n",
    "print(\"Test R-squared:\", ridge_r2_test)"
   ]
  },
  {
   "cell_type": "markdown",
   "id": "315eb390",
   "metadata": {},
   "source": [
    "Conclusion\n",
    "        \n",
    "        Here we can infere that training and test values of MSE,RMSE,MAE are in normal range. R2 values are 94% .It can e a generic Model"
   ]
  },
  {
   "cell_type": "code",
   "execution_count": 69,
   "id": "4070ab88",
   "metadata": {},
   "outputs": [
    {
     "data": {
      "text/plain": [
       "<matplotlib.colorbar.Colorbar at 0x16341ffa070>"
      ]
     },
     "execution_count": 69,
     "metadata": {},
     "output_type": "execute_result"
    },
    {
     "data": {
      "image/png": "[encoded data removed]",
      "text/plain": [
       "<Figure size 432x288 with 2 Axes>"
      ]
     },
     "metadata": {
      "needs_background": "light"
     },
     "output_type": "display_data"
    }
   ],
   "source": [
    "# Define a condition to apply colors\n",
    "condition = y_test > y_test_pred_rid\n",
    "# Plot the predicted values against the true values\n",
    "plt.scatter(y_test, y_test_pred_rid, c=condition, cmap='coolwarm')\n",
    "plt.xlabel('True Values')\n",
    "plt.ylabel('Predicted Values')\n",
    "plt.title('Ridge Regression: True Values vs Predicted Values')\n",
    "plt.colorbar(label='Condition')"
   ]
  },
  {
   "cell_type": "markdown",
   "id": "cafef0e0",
   "metadata": {},
   "source": [
    "DECISION TREE RERESSOR"
   ]
  },
  {
   "cell_type": "code",
   "execution_count": 70,
   "id": "b4c118c9",
   "metadata": {},
   "outputs": [
    {
     "data": {
      "text/plain": [
       "DecisionTreeRegressor()"
      ]
     },
     "execution_count": 70,
     "metadata": {},
     "output_type": "execute_result"
    }
   ],
   "source": [
    "# Decision Tree\n",
    "tree_reg = DecisionTreeRegressor()\n",
    "tree_reg.fit(X_train, y_train)"
   ]
  },
  {
   "cell_type": "code",
   "execution_count": 71,
   "id": "af5baaaf",
   "metadata": {},
   "outputs": [
    {
     "name": "stdout",
     "output_type": "stream",
     "text": [
      "Training Set Metrics:\n",
      "Mean Squared Error (MSE): 1035997.3322133684\n",
      "Root Mean Squared Error (RMSE): 1017.8395414864606\n",
      "Mean Absolute Error (MAE): 750.9792312750235\n",
      "R-squared (R2): 0.9928973669360671\n",
      "\n",
      "Test Set Metrics:\n",
      "Mean Squared Error (MSE): 1471518.2147302483\n",
      "Root Mean Squared Error (RMSE): 1213.061504924729\n",
      "Mean Absolute Error (MAE): 920.7593051819644\n",
      "R-squared (R2): 0.989444921988014\n"
     ]
    }
   ],
   "source": [
    "# Make predictions on the training and test data\n",
    "y_train_pred = tree_reg.predict(X_train)\n",
    "y_test_pred_dt = tree_reg.predict(X_test)\n",
    "\n",
    "# Calculate evaluation metrics for training data\n",
    "tree_mse_train = mean_squared_error(y_train, y_train_pred)\n",
    "tree_rmse_train = np.sqrt(tree_mse_train)\n",
    "tree_mae_train = mean_absolute_error(y_train, y_train_pred)\n",
    "tree_r2_train = r2_score(y_train, y_train_pred)\n",
    "\n",
    "# Calculate evaluation metrics for test data\n",
    "tree_mse_test = mean_squared_error(y_test, y_test_pred_dt)\n",
    "tree_rmse_test = np.sqrt(tree_mse_test)\n",
    "tree_mae_test = mean_absolute_error(y_test, y_test_pred_dt)\n",
    "tree_r2_test = r2_score(y_test, y_test_pred_dt)\n",
    "\n",
    "# Print the evaluation metrics\n",
    "print(\"Training Set Metrics:\")\n",
    "print(\"Mean Squared Error (MSE):\", tree_mse_train)\n",
    "print(\"Root Mean Squared Error (RMSE):\", tree_rmse_train)\n",
    "print(\"Mean Absolute Error (MAE):\", tree_mae_train)\n",
    "print(\"R-squared (R2):\", tree_r2_train)\n",
    "print()\n",
    "print(\"Test Set Metrics:\")\n",
    "print(\"Mean Squared Error (MSE):\", tree_mse_test)\n",
    "print(\"Root Mean Squared Error (RMSE):\",tree_rmse_test)\n",
    "print(\"Mean Absolute Error (MAE):\", tree_mae_test)\n",
    "print(\"R-squared (R2):\", tree_r2_test)"
   ]
  },
  {
   "cell_type": "markdown",
   "id": "1f49cad8",
   "metadata": {},
   "source": [
    "Conclusion\n",
    "\n",
    "        Here we can infere that training and test values of MSE,RMSE,MAE have comparable difference.The R2 values of training & testing gives 99 % & 98% .It can be a generic one."
   ]
  },
  {
   "cell_type": "code",
   "execution_count": 72,
   "id": "7823361b",
   "metadata": {},
   "outputs": [
    {
     "data": {
      "text/plain": [
       "<matplotlib.colorbar.Colorbar at 0x1633f4860d0>"
      ]
     },
     "execution_count": 72,
     "metadata": {},
     "output_type": "execute_result"
    },
    {
     "data": {
      "image/png": "[encoded data removed]",
      "text/plain": [
       "<Figure size 432x288 with 2 Axes>"
      ]
     },
     "metadata": {
      "needs_background": "light"
     },
     "output_type": "display_data"
    }
   ],
   "source": [
    "# Define a condition to apply colors\n",
    "condition = y_test > y_test_pred_dt\n",
    "# Plot the predicted values against the true values\n",
    "plt.scatter(y_test, y_test_pred_dt, c=condition, cmap='coolwarm')\n",
    "plt.xlabel('True Values')\n",
    "plt.ylabel('Predicted Values')\n",
    "plt.title('Decision Tree Regression: True Values vs Predicted Values')\n",
    "plt.colorbar(label='Condition')"
   ]
  },
  {
   "cell_type": "markdown",
   "id": "1d10d1b6",
   "metadata": {},
   "source": [
    "RANDOM FOREST REGRESSOR"
   ]
  },
  {
   "cell_type": "code",
   "execution_count": 73,
   "id": "fb7ccb4e",
   "metadata": {},
   "outputs": [
    {
     "data": {
      "text/plain": [
       "RandomForestRegressor()"
      ]
     },
     "execution_count": 73,
     "metadata": {},
     "output_type": "execute_result"
    }
   ],
   "source": [
    "forest_reg = RandomForestRegressor()\n",
    "forest_reg.fit(X_train, y_train)"
   ]
  },
  {
   "cell_type": "code",
   "execution_count": 74,
   "id": "c58e32f4",
   "metadata": {},
   "outputs": [
    {
     "name": "stdout",
     "output_type": "stream",
     "text": [
      "Training Set Metrics:\n",
      "Mean Squared Error (MSE): 1052096.8288451326\n",
      "Root Mean Squared Error (RMSE): 1025.7177140154754\n",
      "Mean Absolute Error (MAE): 774.6584749719755\n",
      "R-squared (R2): 0.9927869913457699\n",
      "\n",
      "Test Set Metrics:\n",
      "Mean Squared Error (MSE): 1373021.9393346868\n",
      "Root Mean Squared Error (RMSE): 1171.7601884919486\n",
      "Mean Absolute Error (MAE): 902.1356187641735\n",
      "R-squared (R2): 0.9901514275958163\n"
     ]
    }
   ],
   "source": [
    "forest_reg = RandomForestRegressor()\n",
    "forest_reg.fit(X_train, y_train)\n",
    "\n",
    "# Make predictions on the training and test data\n",
    "y_train_pred = forest_reg.predict(X_train)\n",
    "y_test_pred_rf = forest_reg.predict(X_test)\n",
    "\n",
    "# Calculate evaluation metrics for training data\n",
    "forest_mse_train = mean_squared_error(y_train, y_train_pred)\n",
    "forest_rmse_train = np.sqrt(forest_mse_train)\n",
    "forest_mae_train = mean_absolute_error(y_train, y_train_pred)\n",
    "forest_r2_train = r2_score(y_train, y_train_pred)\n",
    "\n",
    "# Calculate evaluation metrics for test data\n",
    "forest_mse_test = mean_squared_error(y_test, y_test_pred_rf)\n",
    "forest_rmse_test = np.sqrt(forest_mse_test)\n",
    "forest_mae_test = mean_absolute_error(y_test, y_test_pred_rf)\n",
    "forest_r2_test = r2_score(y_test, y_test_pred_rf)\n",
    "\n",
    "# Print the evaluation metrics\n",
    "print(\"Training Set Metrics:\")\n",
    "print(\"Mean Squared Error (MSE):\", forest_mse_train)\n",
    "print(\"Root Mean Squared Error (RMSE):\", forest_rmse_train)\n",
    "print(\"Mean Absolute Error (MAE):\", forest_mae_train)\n",
    "print(\"R-squared (R2):\", forest_r2_train)\n",
    "print()\n",
    "print(\"Test Set Metrics:\")\n",
    "print(\"Mean Squared Error (MSE):\", forest_mse_test)\n",
    "print(\"Root Mean Squared Error (RMSE):\", forest_rmse_test)\n",
    "print(\"Mean Absolute Error (MAE):\", forest_mae_test)\n",
    "print(\"R-squared (R2):\", forest_r2_test)"
   ]
  },
  {
   "cell_type": "markdown",
   "id": "31def7d9",
   "metadata": {},
   "source": [
    "Conclusion\n",
    "\n",
    "        Here we can infere that training and test values of MSE,RMSE,MAE are in normal range. Both values gives a R2 value of99%.We can accept this model."
   ]
  },
  {
   "cell_type": "code",
   "execution_count": 75,
   "id": "b06c42e9",
   "metadata": {},
   "outputs": [
    {
     "data": {
      "text/plain": [
       "<matplotlib.colorbar.Colorbar at 0x16341fbf3a0>"
      ]
     },
     "execution_count": 75,
     "metadata": {},
     "output_type": "execute_result"
    },
    {
     "data": {
      "image/png": "[encoded data removed]",
      "text/plain": [
       "<Figure size 432x288 with 2 Axes>"
      ]
     },
     "metadata": {
      "needs_background": "light"
     },
     "output_type": "display_data"
    }
   ],
   "source": [
    "# Define a condition to apply colors\n",
    "condition = y_test > y_test_pred_rf\n",
    "# Plot the predicted values against the true values\n",
    "plt.scatter(y_test, y_test_pred_rf, c=condition, cmap='coolwarm')\n",
    "plt.xlabel('True Values')\n",
    "plt.ylabel('Predicted Values')\n",
    "plt.title('Random Forest Regression: True Values vs Predicted Values')\n",
    "plt.colorbar(label='Condition')"
   ]
  },
  {
   "cell_type": "markdown",
   "id": "4ff0e90c",
   "metadata": {},
   "source": [
    "XGBOOST REGRESSOR"
   ]
  },
  {
   "cell_type": "code",
   "execution_count": 76,
   "id": "3c2d80d2",
   "metadata": {},
   "outputs": [
    {
     "name": "stdout",
     "output_type": "stream",
     "text": [
      "Training Set Metrics:\n",
      "Mean Squared Error (MSE): 1112608.025234097\n",
      "Root Mean Squared Error (RMSE): 1054.8023631155254\n",
      "Mean Absolute Error (MAE): 806.2319216040166\n",
      "R-squared (R2): 0.99237213620006\n",
      "\n",
      "Test Set Metrics:\n",
      "Mean Squared Error (MSE): 1279512.417539489\n",
      "Root Mean Squared Error (RMSE): 1131.155346333778\n",
      "Mean Absolute Error (MAE): 875.8968448014625\n",
      "R-squared (R2): 0.990822163633965\n"
     ]
    }
   ],
   "source": [
    "# Create and train the XGBoost regressor\n",
    "xgb_reg = XGBRegressor()\n",
    "xgb_reg.fit(X_train, y_train)\n",
    "\n",
    "# Make predictions on the training and test data\n",
    "y_train_pred = xgb_reg.predict(X_train)\n",
    "y_test_pred_xgb = xgb_reg.predict(X_test)\n",
    "\n",
    "# Calculate evaluation metrics for training data\n",
    "xgb_mse_train = mean_squared_error(y_train, y_train_pred)\n",
    "xgb_rmse_train = mean_squared_error(y_train, y_train_pred, squared=False)\n",
    "xgb_mae_train = mean_absolute_error(y_train, y_train_pred)\n",
    "xgb_r2_train = r2_score(y_train, y_train_pred)\n",
    "\n",
    "# Calculate evaluation metrics for test data\n",
    "xgb_mse_test = mean_squared_error(y_test, y_test_pred_xgb)\n",
    "xgb_rmse_test = mean_squared_error(y_test, y_test_pred_xgb, squared=False)\n",
    "xgb_mae_test = mean_absolute_error(y_test, y_test_pred_xgb)\n",
    "xgb_r2_test = r2_score(y_test, y_test_pred_xgb)\n",
    "\n",
    "# Print the evaluation metrics\n",
    "print(\"Training Set Metrics:\")\n",
    "print(\"Mean Squared Error (MSE):\", xgb_mse_train)\n",
    "print(\"Root Mean Squared Error (RMSE):\", xgb_rmse_train)\n",
    "print(\"Mean Absolute Error (MAE):\", xgb_mae_train)\n",
    "print(\"R-squared (R2):\", xgb_r2_train)\n",
    "print()\n",
    "print(\"Test Set Metrics:\")\n",
    "print(\"Mean Squared Error (MSE):\", xgb_mse_test)\n",
    "print(\"Root Mean Squared Error (RMSE):\", xgb_rmse_test)\n",
    "print(\"Mean Absolute Error (MAE):\", xgb_mae_test)\n",
    "print(\"R-squared (R2):\", xgb_r2_test)"
   ]
  },
  {
   "cell_type": "markdown",
   "id": "14c4a9d1",
   "metadata": {},
   "source": [
    "Conclusion\n",
    "\n",
    "       Here we can infere that training and test values of MSE,RMSE,MAE are nearer.Also both R2 values are 99%.So it can e a generic model."
   ]
  },
  {
   "cell_type": "code",
   "execution_count": 77,
   "id": "ef80c1dd",
   "metadata": {},
   "outputs": [
    {
     "data": {
      "text/plain": [
       "<matplotlib.colorbar.Colorbar at 0x1634277db50>"
      ]
     },
     "execution_count": 77,
     "metadata": {},
     "output_type": "execute_result"
    },
    {
     "data": {
      "image/png": "[encoded data removed]",
      "text/plain": [
       "<Figure size 432x288 with 2 Axes>"
      ]
     },
     "metadata": {
      "needs_background": "light"
     },
     "output_type": "display_data"
    }
   ],
   "source": [
    "# Define a condition to apply colors\n",
    "condition = y_test > y_test_pred_xgb\n",
    "# Plot the predicted values against the true values\n",
    "plt.scatter(y_test, y_test_pred_xgb, c=condition, cmap='coolwarm')\n",
    "plt.xlabel('True Values')\n",
    "plt.ylabel('Predicted Values')\n",
    "plt.title('XGBoost Regression: True Values vs Predicted Values')\n",
    "plt.colorbar(label='Condition')"
   ]
  },
  {
   "cell_type": "markdown",
   "id": "7599d4d9",
   "metadata": {},
   "source": [
    "# Comparing train and test MSE of 6 models"
   ]
  },
  {
   "cell_type": "code",
   "execution_count": 78,
   "id": "131d04e2",
   "metadata": {},
   "outputs": [
    {
     "data": {
      "image/png": "[encoded data removed]",
      "text/plain": [
       "<Figure size 432x288 with 1 Axes>"
      ]
     },
     "metadata": {
      "needs_background": "light"
     },
     "output_type": "display_data"
    }
   ],
   "source": [
    "# List of model names\n",
    "model_names = ['Linear','Lasso','Ridge','Decision Tree', 'Random Forest', 'XGBoost']\n",
    "\n",
    "# Train MSE values for each model\n",
    "train_mse = ['linear_mse_train' , 'lasso_mse_train' , 'ridge_mse_train', 'tree_mse_train' , 'forest_mse_train' ,'xgb_mse_train']\n",
    "\n",
    "# Test RMSE values for each model\n",
    "test_mse = ['linear_mse_test' , 'lasso_mse_test', 'ridge_mse_test', 'tree_mse_test', 'forest_mse_test', 'xgb_mse_test']\n",
    "\n",
    "# Plotting the graph\n",
    "plt.plot(model_names, train_mse, marker='o', label='Train MSE')\n",
    "plt.plot(model_names, test_mse, marker='o', label='Test MSE')\n",
    "\n",
    "# Set plot title and labels\n",
    "plt.title('Train vs Test MSE')\n",
    "plt.xlabel('Models')\n",
    "plt.ylabel('MSE')\n",
    "# Add legend\n",
    "plt.legend()\n",
    "# Display the plot\n",
    "plt.show()"
   ]
  },
  {
   "cell_type": "markdown",
   "id": "4d272259",
   "metadata": {},
   "source": [
    "# Comparing train and test RMSE of 6 models"
   ]
  },
  {
   "cell_type": "code",
   "execution_count": 79,
   "id": "8d263a5d",
   "metadata": {},
   "outputs": [
    {
     "data": {
      "image/png": "[encoded data removed]",
      "text/plain": [
       "<Figure size 432x288 with 1 Axes>"
      ]
     },
     "metadata": {
      "needs_background": "light"
     },
     "output_type": "display_data"
    }
   ],
   "source": [
    "# List of model names\n",
    "model_names = ['Linear','Lasso','Ridge','Decision Tree', 'Random Forest', 'XGBoost']\n",
    "\n",
    "# Train RMSE values for each model\n",
    "train_rmse = ['linear_rmse_train' , 'lasso_rmse_ train', 'ridge_rmse_train', 'tree_rmse_train', 'forest_rmse_train', 'xgb_rmse_train']\n",
    "\n",
    "# Test RMSE values for each model\n",
    "test_rmse = ['linear_rmse_test' , 'lasso_rmse_test', 'ridge_rmse_test', 'tree_rmse_test', 'forest_rmse_test', 'xgb_rmse_test']\n",
    "\n",
    "# Plotting the graph\n",
    "plt.plot(model_names, train_rmse, marker='o', label='Train RMSE')\n",
    "plt.plot(model_names, test_rmse, marker='o', label='Test RMSE')\n",
    "\n",
    "# Set plot title and labels\n",
    "plt.title('Train vs Test RMSE')\n",
    "plt.xlabel('Models')\n",
    "plt.ylabel('RMSE')\n",
    "# Add legend\n",
    "plt.legend()\n",
    "# Display the plot\n",
    "plt.show()"
   ]
  },
  {
   "cell_type": "markdown",
   "id": "059f8bf2",
   "metadata": {},
   "source": [
    "# Comparing train and test MAE of 6 models"
   ]
  },
  {
   "cell_type": "code",
   "execution_count": 80,
   "id": "c66c98b1",
   "metadata": {},
   "outputs": [
    {
     "data": {
      "image/png": "[encoded data removed]",
      "text/plain": [
       "<Figure size 432x288 with 1 Axes>"
      ]
     },
     "metadata": {
      "needs_background": "light"
     },
     "output_type": "display_data"
    }
   ],
   "source": [
    "# List of model names\n",
    "model_names = ['Linear','Lasso','Ridge','Decision Tree', 'Random Forest', 'XGBoost']\n",
    "\n",
    "# Train MAE values for each model\n",
    "train_mae = ['linear_mae_train' , 'lasso_mae_train', 'ridge_mae_train', 'tree_mae_train', 'forest_mae_train', 'xgb_mae_train']\n",
    "\n",
    "# Test MAE values for each model\n",
    "test_mae = ['linear_mae_test' , 'lasso_mae_test', 'ridge_mae_test', 'tree_mae_test','forest_mae_test', 'xgb_mae_test']\n",
    "\n",
    "# Plotting the graph\n",
    "plt.plot(model_names, train_mae, marker='o', label='Train MAE')\n",
    "plt.plot(model_names, test_mae, marker='o', label='Test MAE')\n",
    "\n",
    "# Set plot title and labels\n",
    "plt.title('LINE PLOT Train vs Test MAE')\n",
    "plt.xlabel('Models')\n",
    "plt.ylabel('MAE')\n",
    "# Add legend\n",
    "plt.legend()\n",
    "# Display the plot\n",
    "plt.show()"
   ]
  },
  {
   "cell_type": "markdown",
   "id": "00c5a00f",
   "metadata": {},
   "source": [
    "# Comparing train and test R2 of 6 models"
   ]
  },
  {
   "cell_type": "code",
   "execution_count": 81,
   "id": "ffc9ee5a",
   "metadata": {},
   "outputs": [
    {
     "data": {
      "image/png": "[encoded data removed]",
      "text/plain": [
       "<Figure size 432x288 with 1 Axes>"
      ]
     },
     "metadata": {
      "needs_background": "light"
     },
     "output_type": "display_data"
    }
   ],
   "source": [
    "# List of model names\n",
    "model_names = ['Linear','Lasso','Ridge','Decision Tree', 'Random Forest', 'XGBoost']\n",
    "\n",
    "# Train MSE values for each model\n",
    "train_r2 = ['linear_r2_train' , 'lasso_r2_train','ridge_r2_train', 'tree_r2_train', 'forest_r2_train', 'xgb_r2_train']\n",
    "\n",
    "# Test RMSE values for each model\n",
    "test_r2 = ['linear_r2_test' , 'lasso_r2_test', 'ridge_r2_test', 'tree_r2_test', 'forest_r2_test', 'xgb_r2_test']\n",
    "\n",
    "# Plotting the graph\n",
    "plt.plot(model_names,train_r2, marker='o', label='Train r2')\n",
    "plt.plot(model_names,test_r2 , marker='o', label='Test r2')\n",
    "\n",
    "# Set plot title and labels\n",
    "plt.title('Train vs Test r2')\n",
    "plt.xlabel('Models')\n",
    "plt.ylabel('r2')\n",
    "# Add legend\n",
    "plt.legend()\n",
    "# Display the plot\n",
    "plt.show()"
   ]
  },
  {
   "cell_type": "markdown",
   "id": "744854a6",
   "metadata": {},
   "source": [
    "# Using test data to predict on top three models"
   ]
  },
  {
   "cell_type": "code",
   "execution_count": 82,
   "id": "604e9969",
   "metadata": {},
   "outputs": [],
   "source": [
    "test_data = pd.read_excel(r'C:\\Users\\Nandakishore\\Desktop\\Supply chain test dataset.xlsx')"
   ]
  },
  {
   "cell_type": "code",
   "execution_count": 83,
   "id": "5df2dad5",
   "metadata": {},
   "outputs": [
    {
     "data": {
      "text/html": [
       "<div>\n",
       "<style scoped>\n",
       "    .dataframe tbody tr th:only-of-type {\n",
       "        vertical-align: middle;\n",
       "    }\n",
       "\n",
       "    .dataframe tbody tr th {\n",
       "        vertical-align: top;\n",
       "    }\n",
       "\n",
       "    .dataframe thead th {\n",
       "        text-align: right;\n",
       "    }\n",
       "</style>\n",
       "<table border=\"1\" class=\"dataframe\">\n",
       "  <thead>\n",
       "    <tr style=\"text-align: right;\">\n",
       "      <th></th>\n",
       "      <th>Ware_house_ID</th>\n",
       "      <th>WH_Manager_ID</th>\n",
       "      <th>Location_type</th>\n",
       "      <th>WH_capacity_size</th>\n",
       "      <th>zone</th>\n",
       "      <th>WH_regional_zone</th>\n",
       "      <th>num_refill_req_l3m</th>\n",
       "      <th>transport_issue_l1y</th>\n",
       "      <th>Competitor_in_mkt</th>\n",
       "      <th>retail_shop_num</th>\n",
       "      <th>...</th>\n",
       "      <th>flood_proof</th>\n",
       "      <th>electric_supply</th>\n",
       "      <th>dist_from_hub</th>\n",
       "      <th>workers_num</th>\n",
       "      <th>wh_est_year</th>\n",
       "      <th>storage_issue_reported_l3m</th>\n",
       "      <th>temp_reg_mach</th>\n",
       "      <th>approved_wh_govt_certificate</th>\n",
       "      <th>wh_breakdown_l3m</th>\n",
       "      <th>govt_check_l3m</th>\n",
       "    </tr>\n",
       "  </thead>\n",
       "  <tbody>\n",
       "    <tr>\n",
       "      <th>0</th>\n",
       "      <td>WH_122250</td>\n",
       "      <td>EID_72250</td>\n",
       "      <td>Rural</td>\n",
       "      <td>Large</td>\n",
       "      <td>North</td>\n",
       "      <td>Zone 6</td>\n",
       "      <td>7</td>\n",
       "      <td>0</td>\n",
       "      <td>2</td>\n",
       "      <td>5397</td>\n",
       "      <td>...</td>\n",
       "      <td>0</td>\n",
       "      <td>1</td>\n",
       "      <td>75</td>\n",
       "      <td>30.0</td>\n",
       "      <td>2019.0</td>\n",
       "      <td>9</td>\n",
       "      <td>1</td>\n",
       "      <td>A</td>\n",
       "      <td>1</td>\n",
       "      <td>29</td>\n",
       "    </tr>\n",
       "    <tr>\n",
       "      <th>1</th>\n",
       "      <td>WH_122251</td>\n",
       "      <td>EID_72251</td>\n",
       "      <td>Rural</td>\n",
       "      <td>Large</td>\n",
       "      <td>North</td>\n",
       "      <td>Zone 6</td>\n",
       "      <td>8</td>\n",
       "      <td>2</td>\n",
       "      <td>2</td>\n",
       "      <td>5183</td>\n",
       "      <td>...</td>\n",
       "      <td>0</td>\n",
       "      <td>0</td>\n",
       "      <td>138</td>\n",
       "      <td>20.0</td>\n",
       "      <td>2006.0</td>\n",
       "      <td>25</td>\n",
       "      <td>0</td>\n",
       "      <td>A</td>\n",
       "      <td>4</td>\n",
       "      <td>23</td>\n",
       "    </tr>\n",
       "    <tr>\n",
       "      <th>2</th>\n",
       "      <td>WH_122252</td>\n",
       "      <td>EID_72252</td>\n",
       "      <td>Rural</td>\n",
       "      <td>Large</td>\n",
       "      <td>North</td>\n",
       "      <td>Zone 6</td>\n",
       "      <td>3</td>\n",
       "      <td>0</td>\n",
       "      <td>4</td>\n",
       "      <td>4665</td>\n",
       "      <td>...</td>\n",
       "      <td>0</td>\n",
       "      <td>1</td>\n",
       "      <td>188</td>\n",
       "      <td>34.0</td>\n",
       "      <td>NaN</td>\n",
       "      <td>24</td>\n",
       "      <td>0</td>\n",
       "      <td>B</td>\n",
       "      <td>4</td>\n",
       "      <td>23</td>\n",
       "    </tr>\n",
       "    <tr>\n",
       "      <th>3</th>\n",
       "      <td>WH_122253</td>\n",
       "      <td>EID_72253</td>\n",
       "      <td>Rural</td>\n",
       "      <td>Mid</td>\n",
       "      <td>North</td>\n",
       "      <td>Zone 2</td>\n",
       "      <td>2</td>\n",
       "      <td>0</td>\n",
       "      <td>3</td>\n",
       "      <td>5196</td>\n",
       "      <td>...</td>\n",
       "      <td>0</td>\n",
       "      <td>1</td>\n",
       "      <td>156</td>\n",
       "      <td>31.0</td>\n",
       "      <td>NaN</td>\n",
       "      <td>15</td>\n",
       "      <td>0</td>\n",
       "      <td>A</td>\n",
       "      <td>4</td>\n",
       "      <td>1</td>\n",
       "    </tr>\n",
       "    <tr>\n",
       "      <th>4</th>\n",
       "      <td>WH_122254</td>\n",
       "      <td>EID_72254</td>\n",
       "      <td>Rural</td>\n",
       "      <td>Mid</td>\n",
       "      <td>North</td>\n",
       "      <td>Zone 2</td>\n",
       "      <td>5</td>\n",
       "      <td>2</td>\n",
       "      <td>4</td>\n",
       "      <td>8275</td>\n",
       "      <td>...</td>\n",
       "      <td>0</td>\n",
       "      <td>1</td>\n",
       "      <td>237</td>\n",
       "      <td>NaN</td>\n",
       "      <td>NaN</td>\n",
       "      <td>21</td>\n",
       "      <td>1</td>\n",
       "      <td>B+</td>\n",
       "      <td>2</td>\n",
       "      <td>12</td>\n",
       "    </tr>\n",
       "  </tbody>\n",
       "</table>\n",
       "<p>5 rows × 23 columns</p>\n",
       "</div>"
      ],
      "text/plain": [
       "  Ware_house_ID WH_Manager_ID Location_type WH_capacity_size   zone  \\\n",
       "0     WH_122250     EID_72250         Rural            Large  North   \n",
       "1     WH_122251     EID_72251         Rural            Large  North   \n",
       "2     WH_122252     EID_72252         Rural            Large  North   \n",
       "3     WH_122253     EID_72253         Rural              Mid  North   \n",
       "4     WH_122254     EID_72254         Rural              Mid  North   \n",
       "\n",
       "  WH_regional_zone  num_refill_req_l3m  transport_issue_l1y  \\\n",
       "0           Zone 6                   7                    0   \n",
       "1           Zone 6                   8                    2   \n",
       "2           Zone 6                   3                    0   \n",
       "3           Zone 2                   2                    0   \n",
       "4           Zone 2                   5                    2   \n",
       "\n",
       "   Competitor_in_mkt  retail_shop_num  ... flood_proof  electric_supply  \\\n",
       "0                  2             5397  ...           0                1   \n",
       "1                  2             5183  ...           0                0   \n",
       "2                  4             4665  ...           0                1   \n",
       "3                  3             5196  ...           0                1   \n",
       "4                  4             8275  ...           0                1   \n",
       "\n",
       "   dist_from_hub  workers_num  wh_est_year  storage_issue_reported_l3m  \\\n",
       "0             75         30.0       2019.0                           9   \n",
       "1            138         20.0       2006.0                          25   \n",
       "2            188         34.0          NaN                          24   \n",
       "3            156         31.0          NaN                          15   \n",
       "4            237          NaN          NaN                          21   \n",
       "\n",
       "   temp_reg_mach  approved_wh_govt_certificate  wh_breakdown_l3m  \\\n",
       "0              1                             A                 1   \n",
       "1              0                             A                 4   \n",
       "2              0                             B                 4   \n",
       "3              0                             A                 4   \n",
       "4              1                            B+                 2   \n",
       "\n",
       "   govt_check_l3m  \n",
       "0              29  \n",
       "1              23  \n",
       "2              23  \n",
       "3               1  \n",
       "4              12  \n",
       "\n",
       "[5 rows x 23 columns]"
      ]
     },
     "execution_count": 83,
     "metadata": {},
     "output_type": "execute_result"
    }
   ],
   "source": [
    "test_data.head()"
   ]
  },
  {
   "cell_type": "code",
   "execution_count": 84,
   "id": "fe52b4a2",
   "metadata": {},
   "outputs": [
    {
     "data": {
      "text/plain": [
       "(2750, 23)"
      ]
     },
     "execution_count": 84,
     "metadata": {},
     "output_type": "execute_result"
    }
   ],
   "source": [
    "test_data.shape"
   ]
  },
  {
   "cell_type": "code",
   "execution_count": 85,
   "id": "d6075ddb",
   "metadata": {},
   "outputs": [
    {
     "data": {
      "text/plain": [
       "Ware_house_ID                      0\n",
       "WH_Manager_ID                      0\n",
       "Location_type                      0\n",
       "WH_capacity_size                   0\n",
       "zone                               0\n",
       "WH_regional_zone                   0\n",
       "num_refill_req_l3m                 0\n",
       "transport_issue_l1y                0\n",
       "Competitor_in_mkt                  0\n",
       "retail_shop_num                    0\n",
       "wh_owner_type                      0\n",
       "distributor_num                    0\n",
       "flood_impacted                     0\n",
       "flood_proof                        0\n",
       "electric_supply                    0\n",
       "dist_from_hub                      0\n",
       "workers_num                      110\n",
       "wh_est_year                     1288\n",
       "storage_issue_reported_l3m         0\n",
       "temp_reg_mach                      0\n",
       "approved_wh_govt_certificate     101\n",
       "wh_breakdown_l3m                   0\n",
       "govt_check_l3m                     0\n",
       "dtype: int64"
      ]
     },
     "execution_count": 85,
     "metadata": {},
     "output_type": "execute_result"
    }
   ],
   "source": [
    "test_data.isnull().sum()"
   ]
  },
  {
   "cell_type": "code",
   "execution_count": 86,
   "id": "1ebfb4e4",
   "metadata": {},
   "outputs": [
    {
     "data": {
      "text/plain": [
       "2009.2236662106702"
      ]
     },
     "execution_count": 86,
     "metadata": {},
     "output_type": "execute_result"
    }
   ],
   "source": [
    "test_data.wh_est_year.mean()"
   ]
  },
  {
   "cell_type": "code",
   "execution_count": 87,
   "id": "fa456de1",
   "metadata": {},
   "outputs": [
    {
     "data": {
      "text/plain": [
       "28.0"
      ]
     },
     "execution_count": 87,
     "metadata": {},
     "output_type": "execute_result"
    }
   ],
   "source": [
    "test_data['workers_num'].median()"
   ]
  },
  {
   "cell_type": "code",
   "execution_count": 88,
   "id": "e8b4be9c",
   "metadata": {},
   "outputs": [
    {
     "data": {
      "text/plain": [
       "29.00719696969697"
      ]
     },
     "execution_count": 88,
     "metadata": {},
     "output_type": "execute_result"
    }
   ],
   "source": [
    "test_data['workers_num'].mean()"
   ]
  },
  {
   "cell_type": "code",
   "execution_count": 89,
   "id": "fcaefaad",
   "metadata": {},
   "outputs": [
    {
     "data": {
      "text/plain": [
       "0    C\n",
       "Name: approved_wh_govt_certificate, dtype: object"
      ]
     },
     "execution_count": 89,
     "metadata": {},
     "output_type": "execute_result"
    }
   ],
   "source": [
    "test_data['approved_wh_govt_certificate'].mode()"
   ]
  },
  {
   "cell_type": "code",
   "execution_count": 90,
   "id": "7ca274eb",
   "metadata": {},
   "outputs": [],
   "source": [
    "test_data['wh_est_year'] = test_data['wh_est_year'].fillna(2009)"
   ]
  },
  {
   "cell_type": "code",
   "execution_count": 91,
   "id": "7c9bd3ec",
   "metadata": {},
   "outputs": [],
   "source": [
    "test_data['workers_num'] = test_data['workers_num'].fillna(28)"
   ]
  },
  {
   "cell_type": "code",
   "execution_count": 92,
   "id": "a147d405",
   "metadata": {},
   "outputs": [],
   "source": [
    "test_data['approved_wh_govt_certificate'].fillna(test_data['approved_wh_govt_certificate'].mode()[0], inplace=True)"
   ]
  },
  {
   "cell_type": "code",
   "execution_count": 93,
   "id": "5eb83cca",
   "metadata": {},
   "outputs": [],
   "source": [
    "test_data = test_data.drop(['Ware_house_ID','WH_Manager_ID','flood_proof'],axis=1)"
   ]
  },
  {
   "cell_type": "code",
   "execution_count": 94,
   "id": "744ef1df",
   "metadata": {},
   "outputs": [
    {
     "data": {
      "text/plain": [
       "Location_type                   0\n",
       "WH_capacity_size                0\n",
       "zone                            0\n",
       "WH_regional_zone                0\n",
       "num_refill_req_l3m              0\n",
       "transport_issue_l1y             0\n",
       "Competitor_in_mkt               0\n",
       "retail_shop_num                 0\n",
       "wh_owner_type                   0\n",
       "distributor_num                 0\n",
       "flood_impacted                  0\n",
       "electric_supply                 0\n",
       "dist_from_hub                   0\n",
       "workers_num                     0\n",
       "wh_est_year                     0\n",
       "storage_issue_reported_l3m      0\n",
       "temp_reg_mach                   0\n",
       "approved_wh_govt_certificate    0\n",
       "wh_breakdown_l3m                0\n",
       "govt_check_l3m                  0\n",
       "dtype: int64"
      ]
     },
     "execution_count": 94,
     "metadata": {},
     "output_type": "execute_result"
    }
   ],
   "source": [
    "test_data.isnull().sum()"
   ]
  },
  {
   "cell_type": "markdown",
   "id": "d14c1c16",
   "metadata": {},
   "source": [
    "# Feature Engineering:"
   ]
  },
  {
   "cell_type": "markdown",
   "id": "d83fa1d6",
   "metadata": {},
   "source": [
    "BINNING OF NEW COLUMNs"
   ]
  },
  {
   "cell_type": "code",
   "execution_count": 95,
   "id": "dc5cf13a",
   "metadata": {},
   "outputs": [],
   "source": [
    "#Creating bins and labels 1:Warehouse Breakdown\n",
    "bins = [0,2,4,6]\n",
    "labels = ['less','medium','more']\n",
    "test_data['breakdown range'] = pd.cut(test_data['wh_breakdown_l3m'],bins = bins, labels = labels)"
   ]
  },
  {
   "cell_type": "code",
   "execution_count": 96,
   "id": "e8e6d33d",
   "metadata": {},
   "outputs": [],
   "source": [
    "#Creating bins and labels 2:Transport issues\n",
    "bins = [-1,1,3,5]\n",
    "labels = ['low','medium','high']\n",
    "test_data['transport_issue_range'] = pd.cut(test_data['transport_issue_l1y'],bins = bins, labels = labels)"
   ]
  },
  {
   "cell_type": "code",
   "execution_count": 97,
   "id": "363da95f",
   "metadata": {},
   "outputs": [],
   "source": [
    "#Creating bins and labels 3:Storage Issues Reported\n",
    "bins = [-1,10,20,30,40]\n",
    "labels = ['low','medium','high','very high']\n",
    "test_data['storage_issue_range'] = pd.cut(test_data['storage_issue_reported_l3m'],bins = bins, labels = labels)"
   ]
  },
  {
   "cell_type": "code",
   "execution_count": 98,
   "id": "3bf37393",
   "metadata": {},
   "outputs": [],
   "source": [
    "#Creating bins and labels 4:Refill Request Range\n",
    "bins = [-1,2,5,8]\n",
    "labels = ['less','medium','more']\n",
    "test_data['refill_req_range'] = pd.cut(test_data['num_refill_req_l3m'],bins = bins, labels = labels)"
   ]
  },
  {
   "cell_type": "code",
   "execution_count": 99,
   "id": "91e7eca5",
   "metadata": {},
   "outputs": [],
   "source": [
    "#Creating bins and labels 5:Warehouse Est Year\n",
    "bins = [1995,2004,2013,2023]\n",
    "labels = ['old_age','middle_age','new_age']\n",
    "test_data['wh_est_year_range'] = pd.cut(test_data['wh_est_year'],bins = bins, labels = labels)"
   ]
  },
  {
   "cell_type": "code",
   "execution_count": 100,
   "id": "20e8e4d0",
   "metadata": {},
   "outputs": [],
   "source": [
    "test_data = test_data.drop(['wh_breakdown_l3m','transport_issue_l1y','storage_issue_reported_l3m','num_refill_req_l3m','wh_est_year'],axis=1)"
   ]
  },
  {
   "cell_type": "code",
   "execution_count": 101,
   "id": "50572e2f",
   "metadata": {},
   "outputs": [
    {
     "data": {
      "text/html": [
       "<div>\n",
       "<style scoped>\n",
       "    .dataframe tbody tr th:only-of-type {\n",
       "        vertical-align: middle;\n",
       "    }\n",
       "\n",
       "    .dataframe tbody tr th {\n",
       "        vertical-align: top;\n",
       "    }\n",
       "\n",
       "    .dataframe thead th {\n",
       "        text-align: right;\n",
       "    }\n",
       "</style>\n",
       "<table border=\"1\" class=\"dataframe\">\n",
       "  <thead>\n",
       "    <tr style=\"text-align: right;\">\n",
       "      <th></th>\n",
       "      <th>Location_type</th>\n",
       "      <th>WH_capacity_size</th>\n",
       "      <th>zone</th>\n",
       "      <th>WH_regional_zone</th>\n",
       "      <th>Competitor_in_mkt</th>\n",
       "      <th>retail_shop_num</th>\n",
       "      <th>wh_owner_type</th>\n",
       "      <th>distributor_num</th>\n",
       "      <th>flood_impacted</th>\n",
       "      <th>electric_supply</th>\n",
       "      <th>dist_from_hub</th>\n",
       "      <th>workers_num</th>\n",
       "      <th>temp_reg_mach</th>\n",
       "      <th>approved_wh_govt_certificate</th>\n",
       "      <th>govt_check_l3m</th>\n",
       "      <th>breakdown range</th>\n",
       "      <th>transport_issue_range</th>\n",
       "      <th>storage_issue_range</th>\n",
       "      <th>refill_req_range</th>\n",
       "      <th>wh_est_year_range</th>\n",
       "    </tr>\n",
       "  </thead>\n",
       "  <tbody>\n",
       "    <tr>\n",
       "      <th>0</th>\n",
       "      <td>Rural</td>\n",
       "      <td>Large</td>\n",
       "      <td>North</td>\n",
       "      <td>Zone 6</td>\n",
       "      <td>2</td>\n",
       "      <td>5397</td>\n",
       "      <td>Company Owned</td>\n",
       "      <td>26</td>\n",
       "      <td>0</td>\n",
       "      <td>1</td>\n",
       "      <td>75</td>\n",
       "      <td>30.0</td>\n",
       "      <td>1</td>\n",
       "      <td>A</td>\n",
       "      <td>29</td>\n",
       "      <td>less</td>\n",
       "      <td>low</td>\n",
       "      <td>low</td>\n",
       "      <td>more</td>\n",
       "      <td>new_age</td>\n",
       "    </tr>\n",
       "    <tr>\n",
       "      <th>1</th>\n",
       "      <td>Rural</td>\n",
       "      <td>Large</td>\n",
       "      <td>North</td>\n",
       "      <td>Zone 6</td>\n",
       "      <td>2</td>\n",
       "      <td>5183</td>\n",
       "      <td>Rented</td>\n",
       "      <td>61</td>\n",
       "      <td>0</td>\n",
       "      <td>0</td>\n",
       "      <td>138</td>\n",
       "      <td>20.0</td>\n",
       "      <td>0</td>\n",
       "      <td>A</td>\n",
       "      <td>23</td>\n",
       "      <td>medium</td>\n",
       "      <td>medium</td>\n",
       "      <td>high</td>\n",
       "      <td>more</td>\n",
       "      <td>middle_age</td>\n",
       "    </tr>\n",
       "    <tr>\n",
       "      <th>2</th>\n",
       "      <td>Rural</td>\n",
       "      <td>Large</td>\n",
       "      <td>North</td>\n",
       "      <td>Zone 6</td>\n",
       "      <td>4</td>\n",
       "      <td>4665</td>\n",
       "      <td>Rented</td>\n",
       "      <td>26</td>\n",
       "      <td>0</td>\n",
       "      <td>1</td>\n",
       "      <td>188</td>\n",
       "      <td>34.0</td>\n",
       "      <td>0</td>\n",
       "      <td>B</td>\n",
       "      <td>23</td>\n",
       "      <td>medium</td>\n",
       "      <td>low</td>\n",
       "      <td>high</td>\n",
       "      <td>medium</td>\n",
       "      <td>middle_age</td>\n",
       "    </tr>\n",
       "    <tr>\n",
       "      <th>3</th>\n",
       "      <td>Rural</td>\n",
       "      <td>Mid</td>\n",
       "      <td>North</td>\n",
       "      <td>Zone 2</td>\n",
       "      <td>3</td>\n",
       "      <td>5196</td>\n",
       "      <td>Rented</td>\n",
       "      <td>36</td>\n",
       "      <td>0</td>\n",
       "      <td>1</td>\n",
       "      <td>156</td>\n",
       "      <td>31.0</td>\n",
       "      <td>0</td>\n",
       "      <td>A</td>\n",
       "      <td>1</td>\n",
       "      <td>medium</td>\n",
       "      <td>low</td>\n",
       "      <td>medium</td>\n",
       "      <td>less</td>\n",
       "      <td>middle_age</td>\n",
       "    </tr>\n",
       "    <tr>\n",
       "      <th>4</th>\n",
       "      <td>Rural</td>\n",
       "      <td>Mid</td>\n",
       "      <td>North</td>\n",
       "      <td>Zone 2</td>\n",
       "      <td>4</td>\n",
       "      <td>8275</td>\n",
       "      <td>Rented</td>\n",
       "      <td>58</td>\n",
       "      <td>0</td>\n",
       "      <td>1</td>\n",
       "      <td>237</td>\n",
       "      <td>28.0</td>\n",
       "      <td>1</td>\n",
       "      <td>B+</td>\n",
       "      <td>12</td>\n",
       "      <td>less</td>\n",
       "      <td>medium</td>\n",
       "      <td>high</td>\n",
       "      <td>medium</td>\n",
       "      <td>middle_age</td>\n",
       "    </tr>\n",
       "  </tbody>\n",
       "</table>\n",
       "</div>"
      ],
      "text/plain": [
       "  Location_type WH_capacity_size   zone WH_regional_zone  Competitor_in_mkt  \\\n",
       "0         Rural            Large  North           Zone 6                  2   \n",
       "1         Rural            Large  North           Zone 6                  2   \n",
       "2         Rural            Large  North           Zone 6                  4   \n",
       "3         Rural              Mid  North           Zone 2                  3   \n",
       "4         Rural              Mid  North           Zone 2                  4   \n",
       "\n",
       "   retail_shop_num  wh_owner_type  distributor_num  flood_impacted  \\\n",
       "0             5397  Company Owned               26               0   \n",
       "1             5183         Rented               61               0   \n",
       "2             4665         Rented               26               0   \n",
       "3             5196         Rented               36               0   \n",
       "4             8275         Rented               58               0   \n",
       "\n",
       "   electric_supply  dist_from_hub  workers_num  temp_reg_mach  \\\n",
       "0                1             75         30.0              1   \n",
       "1                0            138         20.0              0   \n",
       "2                1            188         34.0              0   \n",
       "3                1            156         31.0              0   \n",
       "4                1            237         28.0              1   \n",
       "\n",
       "  approved_wh_govt_certificate  govt_check_l3m breakdown range  \\\n",
       "0                            A              29            less   \n",
       "1                            A              23          medium   \n",
       "2                            B              23          medium   \n",
       "3                            A               1          medium   \n",
       "4                           B+              12            less   \n",
       "\n",
       "  transport_issue_range storage_issue_range refill_req_range wh_est_year_range  \n",
       "0                   low                 low             more           new_age  \n",
       "1                medium                high             more        middle_age  \n",
       "2                   low                high           medium        middle_age  \n",
       "3                   low              medium             less        middle_age  \n",
       "4                medium                high           medium        middle_age  "
      ]
     },
     "execution_count": 101,
     "metadata": {},
     "output_type": "execute_result"
    }
   ],
   "source": [
    "test_data.head()"
   ]
  },
  {
   "cell_type": "code",
   "execution_count": 102,
   "id": "7e2630ab",
   "metadata": {},
   "outputs": [
    {
     "data": {
      "text/plain": [
       "(2750, 20)"
      ]
     },
     "execution_count": 102,
     "metadata": {},
     "output_type": "execute_result"
    }
   ],
   "source": [
    "test_data.shape"
   ]
  },
  {
   "cell_type": "markdown",
   "id": "ed488e67",
   "metadata": {},
   "source": [
    "ENCODING CATEGORICAL VALUES INTO NUMERICAL"
   ]
  },
  {
   "cell_type": "code",
   "execution_count": 103,
   "id": "af95f2ca",
   "metadata": {},
   "outputs": [],
   "source": [
    "# Import label encoder\n",
    "from sklearn import preprocessing\n",
    "label_encoder = preprocessing.LabelEncoder()\n",
    "test_data['Location_type']= label_encoder.fit_transform(test_data['Location_type'])\n",
    "test_data['WH_capacity_size']= label_encoder.fit_transform(test_data['WH_capacity_size'])\n",
    "test_data['zone']= label_encoder.fit_transform(test_data['zone'])\n",
    "test_data['WH_regional_zone']= label_encoder.fit_transform(test_data['WH_regional_zone'])\n",
    "test_data['wh_owner_type']= label_encoder.fit_transform(test_data['wh_owner_type'])\n",
    "test_data['approved_wh_govt_certificate']= label_encoder.fit_transform(test_data['approved_wh_govt_certificate'])"
   ]
  },
  {
   "cell_type": "code",
   "execution_count": 104,
   "id": "25f74642",
   "metadata": {},
   "outputs": [],
   "source": [
    "test_data['breakdown range']= label_encoder.fit_transform(test_data['breakdown range'])\n",
    "test_data['transport_issue_range']= label_encoder.fit_transform(test_data['transport_issue_range'])\n",
    "test_data['storage_issue_range']= label_encoder.fit_transform(test_data['storage_issue_range'])\n",
    "test_data['refill_req_range']= label_encoder.fit_transform(test_data['refill_req_range'])\n",
    "test_data['wh_est_year_range']= label_encoder.fit_transform(test_data['wh_est_year_range'])"
   ]
  },
  {
   "cell_type": "code",
   "execution_count": 105,
   "id": "40ce4bbb",
   "metadata": {},
   "outputs": [
    {
     "data": {
      "text/html": [
       "<div>\n",
       "<style scoped>\n",
       "    .dataframe tbody tr th:only-of-type {\n",
       "        vertical-align: middle;\n",
       "    }\n",
       "\n",
       "    .dataframe tbody tr th {\n",
       "        vertical-align: top;\n",
       "    }\n",
       "\n",
       "    .dataframe thead th {\n",
       "        text-align: right;\n",
       "    }\n",
       "</style>\n",
       "<table border=\"1\" class=\"dataframe\">\n",
       "  <thead>\n",
       "    <tr style=\"text-align: right;\">\n",
       "      <th></th>\n",
       "      <th>Location_type</th>\n",
       "      <th>WH_capacity_size</th>\n",
       "      <th>zone</th>\n",
       "      <th>WH_regional_zone</th>\n",
       "      <th>Competitor_in_mkt</th>\n",
       "      <th>retail_shop_num</th>\n",
       "      <th>wh_owner_type</th>\n",
       "      <th>distributor_num</th>\n",
       "      <th>flood_impacted</th>\n",
       "      <th>electric_supply</th>\n",
       "      <th>dist_from_hub</th>\n",
       "      <th>workers_num</th>\n",
       "      <th>temp_reg_mach</th>\n",
       "      <th>approved_wh_govt_certificate</th>\n",
       "      <th>govt_check_l3m</th>\n",
       "      <th>breakdown range</th>\n",
       "      <th>transport_issue_range</th>\n",
       "      <th>storage_issue_range</th>\n",
       "      <th>refill_req_range</th>\n",
       "      <th>wh_est_year_range</th>\n",
       "    </tr>\n",
       "  </thead>\n",
       "  <tbody>\n",
       "    <tr>\n",
       "      <th>0</th>\n",
       "      <td>0</td>\n",
       "      <td>0</td>\n",
       "      <td>1</td>\n",
       "      <td>5</td>\n",
       "      <td>2</td>\n",
       "      <td>5397</td>\n",
       "      <td>0</td>\n",
       "      <td>26</td>\n",
       "      <td>0</td>\n",
       "      <td>1</td>\n",
       "      <td>75</td>\n",
       "      <td>30.0</td>\n",
       "      <td>1</td>\n",
       "      <td>0</td>\n",
       "      <td>29</td>\n",
       "      <td>0</td>\n",
       "      <td>1</td>\n",
       "      <td>1</td>\n",
       "      <td>2</td>\n",
       "      <td>1</td>\n",
       "    </tr>\n",
       "    <tr>\n",
       "      <th>1</th>\n",
       "      <td>0</td>\n",
       "      <td>0</td>\n",
       "      <td>1</td>\n",
       "      <td>5</td>\n",
       "      <td>2</td>\n",
       "      <td>5183</td>\n",
       "      <td>1</td>\n",
       "      <td>61</td>\n",
       "      <td>0</td>\n",
       "      <td>0</td>\n",
       "      <td>138</td>\n",
       "      <td>20.0</td>\n",
       "      <td>0</td>\n",
       "      <td>0</td>\n",
       "      <td>23</td>\n",
       "      <td>1</td>\n",
       "      <td>2</td>\n",
       "      <td>0</td>\n",
       "      <td>2</td>\n",
       "      <td>0</td>\n",
       "    </tr>\n",
       "    <tr>\n",
       "      <th>2</th>\n",
       "      <td>0</td>\n",
       "      <td>0</td>\n",
       "      <td>1</td>\n",
       "      <td>5</td>\n",
       "      <td>4</td>\n",
       "      <td>4665</td>\n",
       "      <td>1</td>\n",
       "      <td>26</td>\n",
       "      <td>0</td>\n",
       "      <td>1</td>\n",
       "      <td>188</td>\n",
       "      <td>34.0</td>\n",
       "      <td>0</td>\n",
       "      <td>2</td>\n",
       "      <td>23</td>\n",
       "      <td>1</td>\n",
       "      <td>1</td>\n",
       "      <td>0</td>\n",
       "      <td>1</td>\n",
       "      <td>0</td>\n",
       "    </tr>\n",
       "    <tr>\n",
       "      <th>3</th>\n",
       "      <td>0</td>\n",
       "      <td>1</td>\n",
       "      <td>1</td>\n",
       "      <td>1</td>\n",
       "      <td>3</td>\n",
       "      <td>5196</td>\n",
       "      <td>1</td>\n",
       "      <td>36</td>\n",
       "      <td>0</td>\n",
       "      <td>1</td>\n",
       "      <td>156</td>\n",
       "      <td>31.0</td>\n",
       "      <td>0</td>\n",
       "      <td>0</td>\n",
       "      <td>1</td>\n",
       "      <td>1</td>\n",
       "      <td>1</td>\n",
       "      <td>2</td>\n",
       "      <td>0</td>\n",
       "      <td>0</td>\n",
       "    </tr>\n",
       "    <tr>\n",
       "      <th>4</th>\n",
       "      <td>0</td>\n",
       "      <td>1</td>\n",
       "      <td>1</td>\n",
       "      <td>1</td>\n",
       "      <td>4</td>\n",
       "      <td>8275</td>\n",
       "      <td>1</td>\n",
       "      <td>58</td>\n",
       "      <td>0</td>\n",
       "      <td>1</td>\n",
       "      <td>237</td>\n",
       "      <td>28.0</td>\n",
       "      <td>1</td>\n",
       "      <td>3</td>\n",
       "      <td>12</td>\n",
       "      <td>0</td>\n",
       "      <td>2</td>\n",
       "      <td>0</td>\n",
       "      <td>1</td>\n",
       "      <td>0</td>\n",
       "    </tr>\n",
       "  </tbody>\n",
       "</table>\n",
       "</div>"
      ],
      "text/plain": [
       "   Location_type  WH_capacity_size  zone  WH_regional_zone  Competitor_in_mkt  \\\n",
       "0              0                 0     1                 5                  2   \n",
       "1              0                 0     1                 5                  2   \n",
       "2              0                 0     1                 5                  4   \n",
       "3              0                 1     1                 1                  3   \n",
       "4              0                 1     1                 1                  4   \n",
       "\n",
       "   retail_shop_num  wh_owner_type  distributor_num  flood_impacted  \\\n",
       "0             5397              0               26               0   \n",
       "1             5183              1               61               0   \n",
       "2             4665              1               26               0   \n",
       "3             5196              1               36               0   \n",
       "4             8275              1               58               0   \n",
       "\n",
       "   electric_supply  dist_from_hub  workers_num  temp_reg_mach  \\\n",
       "0                1             75         30.0              1   \n",
       "1                0            138         20.0              0   \n",
       "2                1            188         34.0              0   \n",
       "3                1            156         31.0              0   \n",
       "4                1            237         28.0              1   \n",
       "\n",
       "   approved_wh_govt_certificate  govt_check_l3m  breakdown range  \\\n",
       "0                             0              29                0   \n",
       "1                             0              23                1   \n",
       "2                             2              23                1   \n",
       "3                             0               1                1   \n",
       "4                             3              12                0   \n",
       "\n",
       "   transport_issue_range  storage_issue_range  refill_req_range  \\\n",
       "0                      1                    1                 2   \n",
       "1                      2                    0                 2   \n",
       "2                      1                    0                 1   \n",
       "3                      1                    2                 0   \n",
       "4                      2                    0                 1   \n",
       "\n",
       "   wh_est_year_range  \n",
       "0                  1  \n",
       "1                  0  \n",
       "2                  0  \n",
       "3                  0  \n",
       "4                  0  "
      ]
     },
     "execution_count": 105,
     "metadata": {},
     "output_type": "execute_result"
    }
   ],
   "source": [
    "test_data.head()"
   ]
  },
  {
   "cell_type": "markdown",
   "id": "ee4b406f",
   "metadata": {},
   "source": [
    "# Implimenting new columns:"
   ]
  },
  {
   "cell_type": "markdown",
   "id": "5d2266af",
   "metadata": {},
   "source": [
    "Feature engineering 1 :Using logical operator OR.\n",
    "\n",
    "Column name :Location OR Temperature Regulatory Machines."
   ]
  },
  {
   "cell_type": "code",
   "execution_count": 106,
   "id": "a48f3abc",
   "metadata": {},
   "outputs": [],
   "source": [
    "test_data['location_with_temp_reg_machines'] = test_data['Location_type'] | test_data['temp_reg_mach'] "
   ]
  },
  {
   "cell_type": "markdown",
   "id": "ff926466",
   "metadata": {},
   "source": [
    "Feature Engineering 2\n",
    "\n",
    "Here combining storage issues and warehouse breakdown and creating a new column shows standard of WH.\n"
   ]
  },
  {
   "cell_type": "code",
   "execution_count": 107,
   "id": "24cfae66",
   "metadata": {},
   "outputs": [],
   "source": [
    "test_data['storage_issue_breakdown'] = test_data['storage_issue_range'] + test_data['breakdown range']"
   ]
  },
  {
   "cell_type": "code",
   "execution_count": 108,
   "id": "a1876f7c",
   "metadata": {},
   "outputs": [
    {
     "data": {
      "text/html": [
       "<div>\n",
       "<style scoped>\n",
       "    .dataframe tbody tr th:only-of-type {\n",
       "        vertical-align: middle;\n",
       "    }\n",
       "\n",
       "    .dataframe tbody tr th {\n",
       "        vertical-align: top;\n",
       "    }\n",
       "\n",
       "    .dataframe thead th {\n",
       "        text-align: right;\n",
       "    }\n",
       "</style>\n",
       "<table border=\"1\" class=\"dataframe\">\n",
       "  <thead>\n",
       "    <tr style=\"text-align: right;\">\n",
       "      <th></th>\n",
       "      <th>Location_type</th>\n",
       "      <th>WH_capacity_size</th>\n",
       "      <th>zone</th>\n",
       "      <th>WH_regional_zone</th>\n",
       "      <th>Competitor_in_mkt</th>\n",
       "      <th>retail_shop_num</th>\n",
       "      <th>wh_owner_type</th>\n",
       "      <th>distributor_num</th>\n",
       "      <th>flood_impacted</th>\n",
       "      <th>electric_supply</th>\n",
       "      <th>...</th>\n",
       "      <th>temp_reg_mach</th>\n",
       "      <th>approved_wh_govt_certificate</th>\n",
       "      <th>govt_check_l3m</th>\n",
       "      <th>breakdown range</th>\n",
       "      <th>transport_issue_range</th>\n",
       "      <th>storage_issue_range</th>\n",
       "      <th>refill_req_range</th>\n",
       "      <th>wh_est_year_range</th>\n",
       "      <th>location_with_temp_reg_machines</th>\n",
       "      <th>storage_issue_breakdown</th>\n",
       "    </tr>\n",
       "  </thead>\n",
       "  <tbody>\n",
       "    <tr>\n",
       "      <th>0</th>\n",
       "      <td>0</td>\n",
       "      <td>0</td>\n",
       "      <td>1</td>\n",
       "      <td>5</td>\n",
       "      <td>2</td>\n",
       "      <td>5397</td>\n",
       "      <td>0</td>\n",
       "      <td>26</td>\n",
       "      <td>0</td>\n",
       "      <td>1</td>\n",
       "      <td>...</td>\n",
       "      <td>1</td>\n",
       "      <td>0</td>\n",
       "      <td>29</td>\n",
       "      <td>0</td>\n",
       "      <td>1</td>\n",
       "      <td>1</td>\n",
       "      <td>2</td>\n",
       "      <td>1</td>\n",
       "      <td>1</td>\n",
       "      <td>1</td>\n",
       "    </tr>\n",
       "    <tr>\n",
       "      <th>1</th>\n",
       "      <td>0</td>\n",
       "      <td>0</td>\n",
       "      <td>1</td>\n",
       "      <td>5</td>\n",
       "      <td>2</td>\n",
       "      <td>5183</td>\n",
       "      <td>1</td>\n",
       "      <td>61</td>\n",
       "      <td>0</td>\n",
       "      <td>0</td>\n",
       "      <td>...</td>\n",
       "      <td>0</td>\n",
       "      <td>0</td>\n",
       "      <td>23</td>\n",
       "      <td>1</td>\n",
       "      <td>2</td>\n",
       "      <td>0</td>\n",
       "      <td>2</td>\n",
       "      <td>0</td>\n",
       "      <td>0</td>\n",
       "      <td>1</td>\n",
       "    </tr>\n",
       "    <tr>\n",
       "      <th>2</th>\n",
       "      <td>0</td>\n",
       "      <td>0</td>\n",
       "      <td>1</td>\n",
       "      <td>5</td>\n",
       "      <td>4</td>\n",
       "      <td>4665</td>\n",
       "      <td>1</td>\n",
       "      <td>26</td>\n",
       "      <td>0</td>\n",
       "      <td>1</td>\n",
       "      <td>...</td>\n",
       "      <td>0</td>\n",
       "      <td>2</td>\n",
       "      <td>23</td>\n",
       "      <td>1</td>\n",
       "      <td>1</td>\n",
       "      <td>0</td>\n",
       "      <td>1</td>\n",
       "      <td>0</td>\n",
       "      <td>0</td>\n",
       "      <td>1</td>\n",
       "    </tr>\n",
       "    <tr>\n",
       "      <th>3</th>\n",
       "      <td>0</td>\n",
       "      <td>1</td>\n",
       "      <td>1</td>\n",
       "      <td>1</td>\n",
       "      <td>3</td>\n",
       "      <td>5196</td>\n",
       "      <td>1</td>\n",
       "      <td>36</td>\n",
       "      <td>0</td>\n",
       "      <td>1</td>\n",
       "      <td>...</td>\n",
       "      <td>0</td>\n",
       "      <td>0</td>\n",
       "      <td>1</td>\n",
       "      <td>1</td>\n",
       "      <td>1</td>\n",
       "      <td>2</td>\n",
       "      <td>0</td>\n",
       "      <td>0</td>\n",
       "      <td>0</td>\n",
       "      <td>3</td>\n",
       "    </tr>\n",
       "    <tr>\n",
       "      <th>4</th>\n",
       "      <td>0</td>\n",
       "      <td>1</td>\n",
       "      <td>1</td>\n",
       "      <td>1</td>\n",
       "      <td>4</td>\n",
       "      <td>8275</td>\n",
       "      <td>1</td>\n",
       "      <td>58</td>\n",
       "      <td>0</td>\n",
       "      <td>1</td>\n",
       "      <td>...</td>\n",
       "      <td>1</td>\n",
       "      <td>3</td>\n",
       "      <td>12</td>\n",
       "      <td>0</td>\n",
       "      <td>2</td>\n",
       "      <td>0</td>\n",
       "      <td>1</td>\n",
       "      <td>0</td>\n",
       "      <td>1</td>\n",
       "      <td>0</td>\n",
       "    </tr>\n",
       "  </tbody>\n",
       "</table>\n",
       "<p>5 rows × 22 columns</p>\n",
       "</div>"
      ],
      "text/plain": [
       "   Location_type  WH_capacity_size  zone  WH_regional_zone  Competitor_in_mkt  \\\n",
       "0              0                 0     1                 5                  2   \n",
       "1              0                 0     1                 5                  2   \n",
       "2              0                 0     1                 5                  4   \n",
       "3              0                 1     1                 1                  3   \n",
       "4              0                 1     1                 1                  4   \n",
       "\n",
       "   retail_shop_num  wh_owner_type  distributor_num  flood_impacted  \\\n",
       "0             5397              0               26               0   \n",
       "1             5183              1               61               0   \n",
       "2             4665              1               26               0   \n",
       "3             5196              1               36               0   \n",
       "4             8275              1               58               0   \n",
       "\n",
       "   electric_supply  ...  temp_reg_mach  approved_wh_govt_certificate  \\\n",
       "0                1  ...              1                             0   \n",
       "1                0  ...              0                             0   \n",
       "2                1  ...              0                             2   \n",
       "3                1  ...              0                             0   \n",
       "4                1  ...              1                             3   \n",
       "\n",
       "   govt_check_l3m  breakdown range  transport_issue_range  \\\n",
       "0              29                0                      1   \n",
       "1              23                1                      2   \n",
       "2              23                1                      1   \n",
       "3               1                1                      1   \n",
       "4              12                0                      2   \n",
       "\n",
       "   storage_issue_range  refill_req_range  wh_est_year_range  \\\n",
       "0                    1                 2                  1   \n",
       "1                    0                 2                  0   \n",
       "2                    0                 1                  0   \n",
       "3                    2                 0                  0   \n",
       "4                    0                 1                  0   \n",
       "\n",
       "   location_with_temp_reg_machines  storage_issue_breakdown  \n",
       "0                                1                        1  \n",
       "1                                0                        1  \n",
       "2                                0                        1  \n",
       "3                                0                        3  \n",
       "4                                1                        0  \n",
       "\n",
       "[5 rows x 22 columns]"
      ]
     },
     "execution_count": 108,
     "metadata": {},
     "output_type": "execute_result"
    }
   ],
   "source": [
    "test_data.head()"
   ]
  },
  {
   "cell_type": "code",
   "execution_count": 109,
   "id": "50af3edf",
   "metadata": {},
   "outputs": [
    {
     "data": {
      "text/plain": [
       "Index(['Location_type', 'WH_capacity_size', 'zone', 'WH_regional_zone',\n",
       "       'Competitor_in_mkt', 'retail_shop_num', 'wh_owner_type',\n",
       "       'distributor_num', 'flood_impacted', 'electric_supply', 'dist_from_hub',\n",
       "       'workers_num', 'temp_reg_mach', 'approved_wh_govt_certificate',\n",
       "       'govt_check_l3m', 'breakdown range', 'transport_issue_range',\n",
       "       'storage_issue_range', 'refill_req_range', 'wh_est_year_range',\n",
       "       'location_with_temp_reg_machines', 'storage_issue_breakdown'],\n",
       "      dtype='object')"
      ]
     },
     "execution_count": 109,
     "metadata": {},
     "output_type": "execute_result"
    }
   ],
   "source": [
    "test_data.columns"
   ]
  },
  {
   "cell_type": "markdown",
   "id": "938dc88d",
   "metadata": {},
   "source": [
    "So we performed BINNING with 5 columns wich are 'storage_issue_reported_l3m','wh_breakdown_l3m' ,'transport_issue_l1y',wh_est_year and num_refill_req_l3m."
   ]
  },
  {
   "cell_type": "markdown",
   "id": "6b968647",
   "metadata": {},
   "source": [
    "Then we use OR operator to create column 'location_with_temp_reg_machines' and use '+' to create 'storage issue and breakdown'."
   ]
  },
  {
   "cell_type": "code",
   "execution_count": 110,
   "id": "5f6996ce",
   "metadata": {},
   "outputs": [
    {
     "data": {
      "text/html": [
       "<div>\n",
       "<style scoped>\n",
       "    .dataframe tbody tr th:only-of-type {\n",
       "        vertical-align: middle;\n",
       "    }\n",
       "\n",
       "    .dataframe tbody tr th {\n",
       "        vertical-align: top;\n",
       "    }\n",
       "\n",
       "    .dataframe thead th {\n",
       "        text-align: right;\n",
       "    }\n",
       "</style>\n",
       "<table border=\"1\" class=\"dataframe\">\n",
       "  <thead>\n",
       "    <tr style=\"text-align: right;\">\n",
       "      <th></th>\n",
       "      <th>temp_reg_mach</th>\n",
       "      <th>approved_wh_govt_certificate</th>\n",
       "      <th>breakdown range</th>\n",
       "      <th>storage_issue_range</th>\n",
       "      <th>wh_est_year_range</th>\n",
       "      <th>location_with_temp_reg_machines</th>\n",
       "      <th>storage_issue_breakdown</th>\n",
       "    </tr>\n",
       "  </thead>\n",
       "  <tbody>\n",
       "    <tr>\n",
       "      <th>0</th>\n",
       "      <td>1</td>\n",
       "      <td>0</td>\n",
       "      <td>0</td>\n",
       "      <td>1</td>\n",
       "      <td>1</td>\n",
       "      <td>1</td>\n",
       "      <td>1</td>\n",
       "    </tr>\n",
       "    <tr>\n",
       "      <th>1</th>\n",
       "      <td>0</td>\n",
       "      <td>0</td>\n",
       "      <td>1</td>\n",
       "      <td>0</td>\n",
       "      <td>0</td>\n",
       "      <td>0</td>\n",
       "      <td>1</td>\n",
       "    </tr>\n",
       "    <tr>\n",
       "      <th>2</th>\n",
       "      <td>0</td>\n",
       "      <td>2</td>\n",
       "      <td>1</td>\n",
       "      <td>0</td>\n",
       "      <td>0</td>\n",
       "      <td>0</td>\n",
       "      <td>1</td>\n",
       "    </tr>\n",
       "    <tr>\n",
       "      <th>3</th>\n",
       "      <td>0</td>\n",
       "      <td>0</td>\n",
       "      <td>1</td>\n",
       "      <td>2</td>\n",
       "      <td>0</td>\n",
       "      <td>0</td>\n",
       "      <td>3</td>\n",
       "    </tr>\n",
       "    <tr>\n",
       "      <th>4</th>\n",
       "      <td>1</td>\n",
       "      <td>3</td>\n",
       "      <td>0</td>\n",
       "      <td>0</td>\n",
       "      <td>0</td>\n",
       "      <td>1</td>\n",
       "      <td>0</td>\n",
       "    </tr>\n",
       "  </tbody>\n",
       "</table>\n",
       "</div>"
      ],
      "text/plain": [
       "   temp_reg_mach  approved_wh_govt_certificate  breakdown range  \\\n",
       "0              1                             0                0   \n",
       "1              0                             0                1   \n",
       "2              0                             2                1   \n",
       "3              0                             0                1   \n",
       "4              1                             3                0   \n",
       "\n",
       "   storage_issue_range  wh_est_year_range  location_with_temp_reg_machines  \\\n",
       "0                    1                  1                                1   \n",
       "1                    0                  0                                0   \n",
       "2                    0                  0                                0   \n",
       "3                    2                  0                                0   \n",
       "4                    0                  0                                1   \n",
       "\n",
       "   storage_issue_breakdown  \n",
       "0                        1  \n",
       "1                        1  \n",
       "2                        1  \n",
       "3                        3  \n",
       "4                        0  "
      ]
     },
     "execution_count": 110,
     "metadata": {},
     "output_type": "execute_result"
    }
   ],
   "source": [
    "#Creating new dataset data2 as a copy of data1 and then dropping less significant columns.\n",
    "test_data1=test_data.drop(['Location_type', 'WH_capacity_size', 'zone', 'WH_regional_zone',\n",
    "       'Competitor_in_mkt', 'retail_shop_num', 'wh_owner_type',\n",
    "       'distributor_num', 'flood_impacted', 'electric_supply', 'dist_from_hub',\n",
    "       'workers_num','govt_check_l3m', 'transport_issue_range','refill_req_range'],axis=1)\n",
    "test_data1.head()"
   ]
  },
  {
   "cell_type": "code",
   "execution_count": 111,
   "id": "5c5e534a",
   "metadata": {},
   "outputs": [
    {
     "data": {
      "text/plain": [
       "(2750, 7)"
      ]
     },
     "execution_count": 111,
     "metadata": {},
     "output_type": "execute_result"
    }
   ],
   "source": [
    "test_data1.shape"
   ]
  },
  {
   "cell_type": "code",
   "execution_count": 112,
   "id": "4e148dcb",
   "metadata": {},
   "outputs": [
    {
     "data": {
      "text/plain": [
       "Index(['temp_reg_mach', 'approved_wh_govt_certificate', 'breakdown range',\n",
       "       'storage_issue_range', 'wh_est_year_range',\n",
       "       'location_with_temp_reg_machines', 'storage_issue_breakdown'],\n",
       "      dtype='object')"
      ]
     },
     "execution_count": 112,
     "metadata": {},
     "output_type": "execute_result"
    }
   ],
   "source": [
    "test_data1.columns"
   ]
  },
  {
   "cell_type": "code",
   "execution_count": 113,
   "id": "6f118cfe",
   "metadata": {},
   "outputs": [],
   "source": [
    "#Applying minmamx scaler\n",
    "test_data1[['temp_reg_mach', 'approved_wh_govt_certificate', 'breakdown range',\n",
    "       'storage_issue_range', 'wh_est_year_range',\n",
    "       'location_with_temp_reg_machines', 'storage_issue_breakdown']] = scaler.fit_transform(test_data1[['temp_reg_mach', 'approved_wh_govt_certificate', 'breakdown range',\n",
    "       'storage_issue_range', 'wh_est_year_range',\n",
    "       'location_with_temp_reg_machines', 'storage_issue_breakdown']])"
   ]
  },
  {
   "cell_type": "code",
   "execution_count": 115,
   "id": "25b8dfa7",
   "metadata": {},
   "outputs": [
    {
     "data": {
      "text/plain": [
       "array([ 1.05985798e+04,  8.42098348e+03,  8.52235848e+03, ...,\n",
       "       -1.82211188e+15,  3.86727559e+04,  1.01106580e+04])"
      ]
     },
     "execution_count": 115,
     "metadata": {},
     "output_type": "execute_result"
    }
   ],
   "source": [
    "# Predict on linear regressor\n",
    "X_test = test_data1\n",
    "linear_test_pred = linear_reg.predict(X_test)\n",
    "linear_test_pred"
   ]
  },
  {
   "cell_type": "code",
   "execution_count": 116,
   "id": "2c823a4a",
   "metadata": {},
   "outputs": [
    {
     "data": {
      "text/plain": [
       "array([10089.        ,  7535.28571429,  6975.94117647, ...,\n",
       "       12110.5       , 42073.        ,  8616.08333333])"
      ]
     },
     "execution_count": 116,
     "metadata": {},
     "output_type": "execute_result"
    }
   ],
   "source": [
    "# Predict on decision tree\n",
    "X_test = test_data1\n",
    "dt_test_pred = tree_reg.predict(X_test)\n",
    "dt_test_pred"
   ]
  },
  {
   "cell_type": "code",
   "execution_count": 117,
   "id": "ad63919f",
   "metadata": {},
   "outputs": [
    {
     "data": {
      "text/plain": [
       "array([10240.34871429,  7563.35605744,  6992.4031499 , ...,\n",
       "       12105.95911111, 41896.5862619 ,  8605.47435484])"
      ]
     },
     "execution_count": 117,
     "metadata": {},
     "output_type": "execute_result"
    }
   ],
   "source": [
    "# Predict on random forest\n",
    "X_test = test_data1\n",
    "rf_test_pred = forest_reg.predict(X_test)\n",
    "rf_test_pred"
   ]
  },
  {
   "cell_type": "code",
   "execution_count": 118,
   "id": "16495c20",
   "metadata": {},
   "outputs": [
    {
     "data": {
      "text/plain": [
       "array([10067.769 ,  7824.4746,  6681.821 , ..., 11287.048 , 41460.723 ,\n",
       "        8653.207 ], dtype=float32)"
      ]
     },
     "execution_count": 118,
     "metadata": {},
     "output_type": "execute_result"
    }
   ],
   "source": [
    "# Predict on xgoost\n",
    "X_test = test_data1\n",
    "xgb_test_pred = xgb_reg.predict(X_test)\n",
    "xgb_test_pred"
   ]
  },
  {
   "cell_type": "code",
   "execution_count": 119,
   "id": "bfbd3886",
   "metadata": {},
   "outputs": [],
   "source": [
    "# Adding three new columns to the test dataframe, one for each prediction made by the linear reressor,Random Forest  and Gradient XGBoosting .\n",
    "test_data1['linear_prediction'] = linear_test_pred\n",
    "test_data1['rf_prediction'] = rf_test_pred\n",
    "test_data1['xgb_prediction'] = xgb_test_pred\n",
    "test_data1['dt_prediction'] = dt_test_pred"
   ]
  },
  {
   "cell_type": "code",
   "execution_count": 121,
   "id": "44f48b9f",
   "metadata": {},
   "outputs": [
    {
     "data": {
      "text/html": [
       "<div>\n",
       "<style scoped>\n",
       "    .dataframe tbody tr th:only-of-type {\n",
       "        vertical-align: middle;\n",
       "    }\n",
       "\n",
       "    .dataframe tbody tr th {\n",
       "        vertical-align: top;\n",
       "    }\n",
       "\n",
       "    .dataframe thead th {\n",
       "        text-align: right;\n",
       "    }\n",
       "</style>\n",
       "<table border=\"1\" class=\"dataframe\">\n",
       "  <thead>\n",
       "    <tr style=\"text-align: right;\">\n",
       "      <th></th>\n",
       "      <th>temp_reg_mach</th>\n",
       "      <th>approved_wh_govt_certificate</th>\n",
       "      <th>breakdown range</th>\n",
       "      <th>storage_issue_range</th>\n",
       "      <th>wh_est_year_range</th>\n",
       "      <th>location_with_temp_reg_machines</th>\n",
       "      <th>storage_issue_breakdown</th>\n",
       "      <th>linear_prediction</th>\n",
       "      <th>rf_prediction</th>\n",
       "      <th>xgb_prediction</th>\n",
       "      <th>dt_prediction</th>\n",
       "    </tr>\n",
       "  </thead>\n",
       "  <tbody>\n",
       "    <tr>\n",
       "      <th>0</th>\n",
       "      <td>1.0</td>\n",
       "      <td>0.00</td>\n",
       "      <td>0.000000</td>\n",
       "      <td>0.333333</td>\n",
       "      <td>0.5</td>\n",
       "      <td>1.0</td>\n",
       "      <td>0.2</td>\n",
       "      <td>10598.579830</td>\n",
       "      <td>10240.348714</td>\n",
       "      <td>10067.768555</td>\n",
       "      <td>10089.000000</td>\n",
       "    </tr>\n",
       "    <tr>\n",
       "      <th>1</th>\n",
       "      <td>0.0</td>\n",
       "      <td>0.00</td>\n",
       "      <td>0.333333</td>\n",
       "      <td>0.000000</td>\n",
       "      <td>0.0</td>\n",
       "      <td>0.0</td>\n",
       "      <td>0.2</td>\n",
       "      <td>8420.983476</td>\n",
       "      <td>7563.356057</td>\n",
       "      <td>7824.474609</td>\n",
       "      <td>7535.285714</td>\n",
       "    </tr>\n",
       "    <tr>\n",
       "      <th>2</th>\n",
       "      <td>0.0</td>\n",
       "      <td>0.50</td>\n",
       "      <td>0.333333</td>\n",
       "      <td>0.000000</td>\n",
       "      <td>0.0</td>\n",
       "      <td>0.0</td>\n",
       "      <td>0.2</td>\n",
       "      <td>8522.358476</td>\n",
       "      <td>6992.403150</td>\n",
       "      <td>6681.820801</td>\n",
       "      <td>6975.941176</td>\n",
       "    </tr>\n",
       "    <tr>\n",
       "      <th>3</th>\n",
       "      <td>0.0</td>\n",
       "      <td>0.00</td>\n",
       "      <td>0.333333</td>\n",
       "      <td>0.666667</td>\n",
       "      <td>0.0</td>\n",
       "      <td>0.0</td>\n",
       "      <td>0.6</td>\n",
       "      <td>29175.739726</td>\n",
       "      <td>25861.447207</td>\n",
       "      <td>27351.384766</td>\n",
       "      <td>25864.923077</td>\n",
       "    </tr>\n",
       "    <tr>\n",
       "      <th>4</th>\n",
       "      <td>1.0</td>\n",
       "      <td>0.75</td>\n",
       "      <td>0.000000</td>\n",
       "      <td>0.000000</td>\n",
       "      <td>0.0</td>\n",
       "      <td>1.0</td>\n",
       "      <td>0.0</td>\n",
       "      <td>-284.032670</td>\n",
       "      <td>5088.247262</td>\n",
       "      <td>4894.844727</td>\n",
       "      <td>5130.500000</td>\n",
       "    </tr>\n",
       "    <tr>\n",
       "      <th>5</th>\n",
       "      <td>0.0</td>\n",
       "      <td>1.00</td>\n",
       "      <td>0.000000</td>\n",
       "      <td>0.333333</td>\n",
       "      <td>0.0</td>\n",
       "      <td>0.0</td>\n",
       "      <td>0.2</td>\n",
       "      <td>9504.095455</td>\n",
       "      <td>9488.815430</td>\n",
       "      <td>9557.055664</td>\n",
       "      <td>9491.761905</td>\n",
       "    </tr>\n",
       "    <tr>\n",
       "      <th>6</th>\n",
       "      <td>0.0</td>\n",
       "      <td>0.50</td>\n",
       "      <td>0.666667</td>\n",
       "      <td>0.000000</td>\n",
       "      <td>1.0</td>\n",
       "      <td>0.0</td>\n",
       "      <td>0.4</td>\n",
       "      <td>19333.874622</td>\n",
       "      <td>12101.475548</td>\n",
       "      <td>11481.495117</td>\n",
       "      <td>12106.666667</td>\n",
       "    </tr>\n",
       "    <tr>\n",
       "      <th>7</th>\n",
       "      <td>0.0</td>\n",
       "      <td>0.75</td>\n",
       "      <td>0.000000</td>\n",
       "      <td>0.666667</td>\n",
       "      <td>0.0</td>\n",
       "      <td>0.0</td>\n",
       "      <td>0.4</td>\n",
       "      <td>19830.786080</td>\n",
       "      <td>19838.437034</td>\n",
       "      <td>19789.517578</td>\n",
       "      <td>19849.833333</td>\n",
       "    </tr>\n",
       "    <tr>\n",
       "      <th>8</th>\n",
       "      <td>0.0</td>\n",
       "      <td>1.00</td>\n",
       "      <td>0.333333</td>\n",
       "      <td>0.666667</td>\n",
       "      <td>0.0</td>\n",
       "      <td>0.0</td>\n",
       "      <td>0.6</td>\n",
       "      <td>29378.489726</td>\n",
       "      <td>25798.440177</td>\n",
       "      <td>27224.416016</td>\n",
       "      <td>25819.428571</td>\n",
       "    </tr>\n",
       "    <tr>\n",
       "      <th>9</th>\n",
       "      <td>1.0</td>\n",
       "      <td>1.00</td>\n",
       "      <td>0.333333</td>\n",
       "      <td>0.000000</td>\n",
       "      <td>1.0</td>\n",
       "      <td>1.0</td>\n",
       "      <td>0.2</td>\n",
       "      <td>10578.329830</td>\n",
       "      <td>7583.136745</td>\n",
       "      <td>8152.631348</td>\n",
       "      <td>7595.357143</td>\n",
       "    </tr>\n",
       "  </tbody>\n",
       "</table>\n",
       "</div>"
      ],
      "text/plain": [
       "   temp_reg_mach  approved_wh_govt_certificate  breakdown range  \\\n",
       "0            1.0                          0.00         0.000000   \n",
       "1            0.0                          0.00         0.333333   \n",
       "2            0.0                          0.50         0.333333   \n",
       "3            0.0                          0.00         0.333333   \n",
       "4            1.0                          0.75         0.000000   \n",
       "5            0.0                          1.00         0.000000   \n",
       "6            0.0                          0.50         0.666667   \n",
       "7            0.0                          0.75         0.000000   \n",
       "8            0.0                          1.00         0.333333   \n",
       "9            1.0                          1.00         0.333333   \n",
       "\n",
       "   storage_issue_range  wh_est_year_range  location_with_temp_reg_machines  \\\n",
       "0             0.333333                0.5                              1.0   \n",
       "1             0.000000                0.0                              0.0   \n",
       "2             0.000000                0.0                              0.0   \n",
       "3             0.666667                0.0                              0.0   \n",
       "4             0.000000                0.0                              1.0   \n",
       "5             0.333333                0.0                              0.0   \n",
       "6             0.000000                1.0                              0.0   \n",
       "7             0.666667                0.0                              0.0   \n",
       "8             0.666667                0.0                              0.0   \n",
       "9             0.000000                1.0                              1.0   \n",
       "\n",
       "   storage_issue_breakdown  linear_prediction  rf_prediction  xgb_prediction  \\\n",
       "0                      0.2       10598.579830   10240.348714    10067.768555   \n",
       "1                      0.2        8420.983476    7563.356057     7824.474609   \n",
       "2                      0.2        8522.358476    6992.403150     6681.820801   \n",
       "3                      0.6       29175.739726   25861.447207    27351.384766   \n",
       "4                      0.0        -284.032670    5088.247262     4894.844727   \n",
       "5                      0.2        9504.095455    9488.815430     9557.055664   \n",
       "6                      0.4       19333.874622   12101.475548    11481.495117   \n",
       "7                      0.4       19830.786080   19838.437034    19789.517578   \n",
       "8                      0.6       29378.489726   25798.440177    27224.416016   \n",
       "9                      0.2       10578.329830    7583.136745     8152.631348   \n",
       "\n",
       "   dt_prediction  \n",
       "0   10089.000000  \n",
       "1    7535.285714  \n",
       "2    6975.941176  \n",
       "3   25864.923077  \n",
       "4    5130.500000  \n",
       "5    9491.761905  \n",
       "6   12106.666667  \n",
       "7   19849.833333  \n",
       "8   25819.428571  \n",
       "9    7595.357143  "
      ]
     },
     "execution_count": 121,
     "metadata": {},
     "output_type": "execute_result"
    }
   ],
   "source": [
    "test_data1.head(10)"
   ]
  },
  {
   "cell_type": "code",
   "execution_count": null,
   "id": "01200fec",
   "metadata": {},
   "outputs": [],
   "source": []
  }
 ],
 "metadata": {
  "kernelspec": {
   "display_name": "Python 3 (ipykernel)",
   "language": "python",
   "name": "python3"
  },
  "language_info": {
   "codemirror_mode": {
    "name": "ipython",
    "version": 3
   },
   "file_extension": ".py",
   "mimetype": "text/x-python",
   "name": "python",
   "nbconvert_exporter": "python",
   "pygments_lexer": "ipython3",
   "version": "3.9.12"
  }
 },
 "nbformat": 4,
 "nbformat_minor": 5
}
