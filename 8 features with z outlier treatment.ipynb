{
 "cells": [
  {
   "cell_type": "code",
   "execution_count": 1,
   "id": "cdcaaeb7",
   "metadata": {},
   "outputs": [],
   "source": [
    "import numpy as np\n",
    "import pandas as pd \n",
    "import math\n",
    "import matplotlib.pyplot as plt\n",
    "import seaborn as sns\n",
    "import matplotlib.patches as patches\n",
    "%matplotlib inline\n",
    "\n",
    "import warnings\n",
    "warnings.filterwarnings('ignore')"
   ]
  },
  {
   "cell_type": "code",
   "execution_count": 2,
   "id": "0f98e6ff",
   "metadata": {},
   "outputs": [],
   "source": [
    "dat=pd.read_excel(r'C:\\Users\\Nandakishore\\Desktop\\live project\\supplychain dataset.xlsx')"
   ]
  },
  {
   "cell_type": "code",
   "execution_count": 3,
   "id": "f0c2c636",
   "metadata": {},
   "outputs": [
    {
     "data": {
      "text/html": [
       "<div>\n",
       "<style scoped>\n",
       "    .dataframe tbody tr th:only-of-type {\n",
       "        vertical-align: middle;\n",
       "    }\n",
       "\n",
       "    .dataframe tbody tr th {\n",
       "        vertical-align: top;\n",
       "    }\n",
       "\n",
       "    .dataframe thead th {\n",
       "        text-align: right;\n",
       "    }\n",
       "</style>\n",
       "<table border=\"1\" class=\"dataframe\">\n",
       "  <thead>\n",
       "    <tr style=\"text-align: right;\">\n",
       "      <th></th>\n",
       "      <th>Ware_house_ID</th>\n",
       "      <th>WH_Manager_ID</th>\n",
       "      <th>Location_type</th>\n",
       "      <th>WH_capacity_size</th>\n",
       "      <th>zone</th>\n",
       "      <th>WH_regional_zone</th>\n",
       "      <th>num_refill_req_l3m</th>\n",
       "      <th>transport_issue_l1y</th>\n",
       "      <th>Competitor_in_mkt</th>\n",
       "      <th>retail_shop_num</th>\n",
       "      <th>...</th>\n",
       "      <th>electric_supply</th>\n",
       "      <th>dist_from_hub</th>\n",
       "      <th>workers_num</th>\n",
       "      <th>wh_est_year</th>\n",
       "      <th>storage_issue_reported_l3m</th>\n",
       "      <th>temp_reg_mach</th>\n",
       "      <th>approved_wh_govt_certificate</th>\n",
       "      <th>wh_breakdown_l3m</th>\n",
       "      <th>govt_check_l3m</th>\n",
       "      <th>product_wg_ton</th>\n",
       "    </tr>\n",
       "  </thead>\n",
       "  <tbody>\n",
       "    <tr>\n",
       "      <th>0</th>\n",
       "      <td>WH_100000</td>\n",
       "      <td>EID_50000</td>\n",
       "      <td>Urban</td>\n",
       "      <td>Small</td>\n",
       "      <td>West</td>\n",
       "      <td>Zone 6</td>\n",
       "      <td>3</td>\n",
       "      <td>1</td>\n",
       "      <td>2</td>\n",
       "      <td>4651</td>\n",
       "      <td>...</td>\n",
       "      <td>1</td>\n",
       "      <td>91</td>\n",
       "      <td>29.0</td>\n",
       "      <td>NaN</td>\n",
       "      <td>13</td>\n",
       "      <td>0</td>\n",
       "      <td>A</td>\n",
       "      <td>5</td>\n",
       "      <td>15</td>\n",
       "      <td>17115</td>\n",
       "    </tr>\n",
       "    <tr>\n",
       "      <th>1</th>\n",
       "      <td>WH_100001</td>\n",
       "      <td>EID_50001</td>\n",
       "      <td>Rural</td>\n",
       "      <td>Large</td>\n",
       "      <td>North</td>\n",
       "      <td>Zone 5</td>\n",
       "      <td>0</td>\n",
       "      <td>0</td>\n",
       "      <td>4</td>\n",
       "      <td>6217</td>\n",
       "      <td>...</td>\n",
       "      <td>1</td>\n",
       "      <td>210</td>\n",
       "      <td>31.0</td>\n",
       "      <td>NaN</td>\n",
       "      <td>4</td>\n",
       "      <td>0</td>\n",
       "      <td>A</td>\n",
       "      <td>3</td>\n",
       "      <td>17</td>\n",
       "      <td>5074</td>\n",
       "    </tr>\n",
       "    <tr>\n",
       "      <th>2</th>\n",
       "      <td>WH_100002</td>\n",
       "      <td>EID_50002</td>\n",
       "      <td>Rural</td>\n",
       "      <td>Mid</td>\n",
       "      <td>South</td>\n",
       "      <td>Zone 2</td>\n",
       "      <td>1</td>\n",
       "      <td>0</td>\n",
       "      <td>4</td>\n",
       "      <td>4306</td>\n",
       "      <td>...</td>\n",
       "      <td>0</td>\n",
       "      <td>161</td>\n",
       "      <td>37.0</td>\n",
       "      <td>NaN</td>\n",
       "      <td>17</td>\n",
       "      <td>0</td>\n",
       "      <td>A</td>\n",
       "      <td>6</td>\n",
       "      <td>22</td>\n",
       "      <td>23137</td>\n",
       "    </tr>\n",
       "    <tr>\n",
       "      <th>3</th>\n",
       "      <td>WH_100003</td>\n",
       "      <td>EID_50003</td>\n",
       "      <td>Rural</td>\n",
       "      <td>Mid</td>\n",
       "      <td>North</td>\n",
       "      <td>Zone 3</td>\n",
       "      <td>7</td>\n",
       "      <td>4</td>\n",
       "      <td>2</td>\n",
       "      <td>6000</td>\n",
       "      <td>...</td>\n",
       "      <td>0</td>\n",
       "      <td>103</td>\n",
       "      <td>21.0</td>\n",
       "      <td>NaN</td>\n",
       "      <td>17</td>\n",
       "      <td>1</td>\n",
       "      <td>A+</td>\n",
       "      <td>3</td>\n",
       "      <td>27</td>\n",
       "      <td>22115</td>\n",
       "    </tr>\n",
       "    <tr>\n",
       "      <th>4</th>\n",
       "      <td>WH_100004</td>\n",
       "      <td>EID_50004</td>\n",
       "      <td>Rural</td>\n",
       "      <td>Large</td>\n",
       "      <td>North</td>\n",
       "      <td>Zone 5</td>\n",
       "      <td>3</td>\n",
       "      <td>1</td>\n",
       "      <td>2</td>\n",
       "      <td>4740</td>\n",
       "      <td>...</td>\n",
       "      <td>1</td>\n",
       "      <td>112</td>\n",
       "      <td>25.0</td>\n",
       "      <td>2009.0</td>\n",
       "      <td>18</td>\n",
       "      <td>0</td>\n",
       "      <td>C</td>\n",
       "      <td>6</td>\n",
       "      <td>24</td>\n",
       "      <td>24071</td>\n",
       "    </tr>\n",
       "  </tbody>\n",
       "</table>\n",
       "<p>5 rows × 24 columns</p>\n",
       "</div>"
      ],
      "text/plain": [
       "  Ware_house_ID WH_Manager_ID Location_type WH_capacity_size   zone  \\\n",
       "0     WH_100000     EID_50000         Urban            Small   West   \n",
       "1     WH_100001     EID_50001         Rural            Large  North   \n",
       "2     WH_100002     EID_50002         Rural              Mid  South   \n",
       "3     WH_100003     EID_50003         Rural              Mid  North   \n",
       "4     WH_100004     EID_50004         Rural            Large  North   \n",
       "\n",
       "  WH_regional_zone  num_refill_req_l3m  transport_issue_l1y  \\\n",
       "0           Zone 6                   3                    1   \n",
       "1           Zone 5                   0                    0   \n",
       "2           Zone 2                   1                    0   \n",
       "3           Zone 3                   7                    4   \n",
       "4           Zone 5                   3                    1   \n",
       "\n",
       "   Competitor_in_mkt  retail_shop_num  ... electric_supply  dist_from_hub  \\\n",
       "0                  2             4651  ...               1             91   \n",
       "1                  4             6217  ...               1            210   \n",
       "2                  4             4306  ...               0            161   \n",
       "3                  2             6000  ...               0            103   \n",
       "4                  2             4740  ...               1            112   \n",
       "\n",
       "   workers_num  wh_est_year  storage_issue_reported_l3m  temp_reg_mach  \\\n",
       "0         29.0          NaN                          13              0   \n",
       "1         31.0          NaN                           4              0   \n",
       "2         37.0          NaN                          17              0   \n",
       "3         21.0          NaN                          17              1   \n",
       "4         25.0       2009.0                          18              0   \n",
       "\n",
       "   approved_wh_govt_certificate  wh_breakdown_l3m  govt_check_l3m  \\\n",
       "0                             A                 5              15   \n",
       "1                             A                 3              17   \n",
       "2                             A                 6              22   \n",
       "3                            A+                 3              27   \n",
       "4                             C                 6              24   \n",
       "\n",
       "   product_wg_ton  \n",
       "0           17115  \n",
       "1            5074  \n",
       "2           23137  \n",
       "3           22115  \n",
       "4           24071  \n",
       "\n",
       "[5 rows x 24 columns]"
      ]
     },
     "execution_count": 3,
     "metadata": {},
     "output_type": "execute_result"
    }
   ],
   "source": [
    "dat.head()"
   ]
  },
  {
   "cell_type": "code",
   "execution_count": 4,
   "id": "982a8f40",
   "metadata": {},
   "outputs": [
    {
     "data": {
      "text/plain": [
       "Ware_house_ID                       0\n",
       "WH_Manager_ID                       0\n",
       "Location_type                       0\n",
       "WH_capacity_size                    0\n",
       "zone                                0\n",
       "WH_regional_zone                    0\n",
       "num_refill_req_l3m                  0\n",
       "transport_issue_l1y                 0\n",
       "Competitor_in_mkt                   0\n",
       "retail_shop_num                     0\n",
       "wh_owner_type                       0\n",
       "distributor_num                     0\n",
       "flood_impacted                      0\n",
       "flood_proof                         0\n",
       "electric_supply                     0\n",
       "dist_from_hub                       0\n",
       "workers_num                       877\n",
       "wh_est_year                     10545\n",
       "storage_issue_reported_l3m          0\n",
       "temp_reg_mach                       0\n",
       "approved_wh_govt_certificate      805\n",
       "wh_breakdown_l3m                    0\n",
       "govt_check_l3m                      0\n",
       "product_wg_ton                      0\n",
       "dtype: int64"
      ]
     },
     "execution_count": 4,
     "metadata": {},
     "output_type": "execute_result"
    }
   ],
   "source": [
    "dat.isnull().sum()"
   ]
  },
  {
   "cell_type": "code",
   "execution_count": 5,
   "id": "8b69a98e",
   "metadata": {},
   "outputs": [
    {
     "data": {
      "text/plain": [
       "2009.4012063765617"
      ]
     },
     "execution_count": 5,
     "metadata": {},
     "output_type": "execute_result"
    }
   ],
   "source": [
    "dat.wh_est_year.mean()"
   ]
  },
  {
   "cell_type": "code",
   "execution_count": 6,
   "id": "33e30104",
   "metadata": {},
   "outputs": [
    {
     "data": {
      "text/plain": [
       "28.0"
      ]
     },
     "execution_count": 6,
     "metadata": {},
     "output_type": "execute_result"
    }
   ],
   "source": [
    "dat['workers_num'].median()"
   ]
  },
  {
   "cell_type": "code",
   "execution_count": 7,
   "id": "aaa2f127",
   "metadata": {},
   "outputs": [
    {
     "data": {
      "text/plain": [
       "0    C\n",
       "Name: approved_wh_govt_certificate, dtype: object"
      ]
     },
     "execution_count": 7,
     "metadata": {},
     "output_type": "execute_result"
    }
   ],
   "source": [
    "dat['approved_wh_govt_certificate'].mode()"
   ]
  },
  {
   "cell_type": "code",
   "execution_count": 8,
   "id": "657449a4",
   "metadata": {},
   "outputs": [],
   "source": [
    "dat['wh_est_year'] = dat['wh_est_year'].fillna(2009)"
   ]
  },
  {
   "cell_type": "code",
   "execution_count": 9,
   "id": "4f7fe7a0",
   "metadata": {},
   "outputs": [],
   "source": [
    "dat['workers_num'] = dat['workers_num'].fillna(28)"
   ]
  },
  {
   "cell_type": "code",
   "execution_count": 10,
   "id": "6afed624",
   "metadata": {},
   "outputs": [],
   "source": [
    "dat['approved_wh_govt_certificate'].fillna(dat['approved_wh_govt_certificate'].mode()[0], inplace=True)"
   ]
  },
  {
   "cell_type": "code",
   "execution_count": 11,
   "id": "cabb3ccc",
   "metadata": {},
   "outputs": [],
   "source": [
    "dat = dat.drop(['Ware_house_ID','WH_Manager_ID','flood_proof'],axis=1)"
   ]
  },
  {
   "cell_type": "code",
   "execution_count": 12,
   "id": "fb50d872",
   "metadata": {},
   "outputs": [
    {
     "data": {
      "text/plain": [
       "Location_type                   0\n",
       "WH_capacity_size                0\n",
       "zone                            0\n",
       "WH_regional_zone                0\n",
       "num_refill_req_l3m              0\n",
       "transport_issue_l1y             0\n",
       "Competitor_in_mkt               0\n",
       "retail_shop_num                 0\n",
       "wh_owner_type                   0\n",
       "distributor_num                 0\n",
       "flood_impacted                  0\n",
       "electric_supply                 0\n",
       "dist_from_hub                   0\n",
       "workers_num                     0\n",
       "wh_est_year                     0\n",
       "storage_issue_reported_l3m      0\n",
       "temp_reg_mach                   0\n",
       "approved_wh_govt_certificate    0\n",
       "wh_breakdown_l3m                0\n",
       "govt_check_l3m                  0\n",
       "product_wg_ton                  0\n",
       "dtype: int64"
      ]
     },
     "execution_count": 12,
     "metadata": {},
     "output_type": "execute_result"
    }
   ],
   "source": [
    "dat.isnull().sum()"
   ]
  },
  {
   "cell_type": "markdown",
   "id": "06c381d5",
   "metadata": {},
   "source": [
    "# Feature Engineering:"
   ]
  },
  {
   "cell_type": "markdown",
   "id": "d5fc4ea7",
   "metadata": {},
   "source": [
    "BINNING OF NEW COLUMNs"
   ]
  },
  {
   "cell_type": "code",
   "execution_count": 13,
   "id": "edc89ccc",
   "metadata": {},
   "outputs": [],
   "source": [
    "#Creating bins and labels 1:Warehouse Breakdown\n",
    "bins = [0,2,4,6]\n",
    "labels = ['less','medium','more']\n",
    "dat['breakdown range'] = pd.cut(dat['wh_breakdown_l3m'],bins = bins, labels = labels)"
   ]
  },
  {
   "cell_type": "code",
   "execution_count": 14,
   "id": "34d73437",
   "metadata": {},
   "outputs": [],
   "source": [
    "#Creating bins and labels 2:Transport issues\n",
    "bins = [-1,1,3,5]\n",
    "labels = ['low','medium','high']\n",
    "dat['transport_issue_range'] = pd.cut(dat['transport_issue_l1y'],bins = bins, labels = labels)"
   ]
  },
  {
   "cell_type": "code",
   "execution_count": 15,
   "id": "ab3b6f69",
   "metadata": {},
   "outputs": [],
   "source": [
    "#Creating bins and labels 3:Storage Issues Reported\n",
    "bins = [-1,10,20,30,40]\n",
    "labels = ['low','medium','high','very high']\n",
    "dat['storage_issue_range'] = pd.cut(dat['storage_issue_reported_l3m'],bins = bins, labels = labels)"
   ]
  },
  {
   "cell_type": "code",
   "execution_count": 16,
   "id": "842b08ce",
   "metadata": {},
   "outputs": [],
   "source": [
    "#Creating bins and labels 4:Refill Request Range\n",
    "bins = [-1,2,5,8]\n",
    "labels = ['less','medium','more']\n",
    "dat['refill_req_range'] = pd.cut(dat['num_refill_req_l3m'],bins = bins, labels = labels)"
   ]
  },
  {
   "cell_type": "code",
   "execution_count": 17,
   "id": "81e85319",
   "metadata": {},
   "outputs": [],
   "source": [
    "#Creating bins and labels 5:Warehouse Est Year\n",
    "bins = [1995,2004,2013,2023]\n",
    "labels = ['old_age','middle_age','new_age']\n",
    "dat['wh_est_year_range'] = pd.cut(dat['wh_est_year'],bins = bins, labels = labels)"
   ]
  },
  {
   "cell_type": "code",
   "execution_count": 18,
   "id": "ed5a18a6",
   "metadata": {},
   "outputs": [],
   "source": [
    "data = dat.copy()# We now dropping the base columns of newly binned columns.Its did in the copy of our dataset."
   ]
  },
  {
   "cell_type": "code",
   "execution_count": 19,
   "id": "9864e3d0",
   "metadata": {},
   "outputs": [],
   "source": [
    "data = data.drop(['wh_breakdown_l3m','transport_issue_l1y','storage_issue_reported_l3m','num_refill_req_l3m','wh_est_year'],axis=1)"
   ]
  },
  {
   "cell_type": "code",
   "execution_count": 20,
   "id": "7722254c",
   "metadata": {},
   "outputs": [
    {
     "data": {
      "text/html": [
       "<div>\n",
       "<style scoped>\n",
       "    .dataframe tbody tr th:only-of-type {\n",
       "        vertical-align: middle;\n",
       "    }\n",
       "\n",
       "    .dataframe tbody tr th {\n",
       "        vertical-align: top;\n",
       "    }\n",
       "\n",
       "    .dataframe thead th {\n",
       "        text-align: right;\n",
       "    }\n",
       "</style>\n",
       "<table border=\"1\" class=\"dataframe\">\n",
       "  <thead>\n",
       "    <tr style=\"text-align: right;\">\n",
       "      <th></th>\n",
       "      <th>Location_type</th>\n",
       "      <th>WH_capacity_size</th>\n",
       "      <th>zone</th>\n",
       "      <th>WH_regional_zone</th>\n",
       "      <th>Competitor_in_mkt</th>\n",
       "      <th>retail_shop_num</th>\n",
       "      <th>wh_owner_type</th>\n",
       "      <th>distributor_num</th>\n",
       "      <th>flood_impacted</th>\n",
       "      <th>electric_supply</th>\n",
       "      <th>...</th>\n",
       "      <th>workers_num</th>\n",
       "      <th>temp_reg_mach</th>\n",
       "      <th>approved_wh_govt_certificate</th>\n",
       "      <th>govt_check_l3m</th>\n",
       "      <th>product_wg_ton</th>\n",
       "      <th>breakdown range</th>\n",
       "      <th>transport_issue_range</th>\n",
       "      <th>storage_issue_range</th>\n",
       "      <th>refill_req_range</th>\n",
       "      <th>wh_est_year_range</th>\n",
       "    </tr>\n",
       "  </thead>\n",
       "  <tbody>\n",
       "    <tr>\n",
       "      <th>0</th>\n",
       "      <td>Urban</td>\n",
       "      <td>Small</td>\n",
       "      <td>West</td>\n",
       "      <td>Zone 6</td>\n",
       "      <td>2</td>\n",
       "      <td>4651</td>\n",
       "      <td>Rented</td>\n",
       "      <td>24</td>\n",
       "      <td>0</td>\n",
       "      <td>1</td>\n",
       "      <td>...</td>\n",
       "      <td>29.0</td>\n",
       "      <td>0</td>\n",
       "      <td>A</td>\n",
       "      <td>15</td>\n",
       "      <td>17115</td>\n",
       "      <td>more</td>\n",
       "      <td>low</td>\n",
       "      <td>medium</td>\n",
       "      <td>medium</td>\n",
       "      <td>middle_age</td>\n",
       "    </tr>\n",
       "    <tr>\n",
       "      <th>1</th>\n",
       "      <td>Rural</td>\n",
       "      <td>Large</td>\n",
       "      <td>North</td>\n",
       "      <td>Zone 5</td>\n",
       "      <td>4</td>\n",
       "      <td>6217</td>\n",
       "      <td>Company Owned</td>\n",
       "      <td>47</td>\n",
       "      <td>0</td>\n",
       "      <td>1</td>\n",
       "      <td>...</td>\n",
       "      <td>31.0</td>\n",
       "      <td>0</td>\n",
       "      <td>A</td>\n",
       "      <td>17</td>\n",
       "      <td>5074</td>\n",
       "      <td>medium</td>\n",
       "      <td>low</td>\n",
       "      <td>low</td>\n",
       "      <td>less</td>\n",
       "      <td>middle_age</td>\n",
       "    </tr>\n",
       "    <tr>\n",
       "      <th>2</th>\n",
       "      <td>Rural</td>\n",
       "      <td>Mid</td>\n",
       "      <td>South</td>\n",
       "      <td>Zone 2</td>\n",
       "      <td>4</td>\n",
       "      <td>4306</td>\n",
       "      <td>Company Owned</td>\n",
       "      <td>64</td>\n",
       "      <td>0</td>\n",
       "      <td>0</td>\n",
       "      <td>...</td>\n",
       "      <td>37.0</td>\n",
       "      <td>0</td>\n",
       "      <td>A</td>\n",
       "      <td>22</td>\n",
       "      <td>23137</td>\n",
       "      <td>more</td>\n",
       "      <td>low</td>\n",
       "      <td>medium</td>\n",
       "      <td>less</td>\n",
       "      <td>middle_age</td>\n",
       "    </tr>\n",
       "    <tr>\n",
       "      <th>3</th>\n",
       "      <td>Rural</td>\n",
       "      <td>Mid</td>\n",
       "      <td>North</td>\n",
       "      <td>Zone 3</td>\n",
       "      <td>2</td>\n",
       "      <td>6000</td>\n",
       "      <td>Rented</td>\n",
       "      <td>50</td>\n",
       "      <td>0</td>\n",
       "      <td>0</td>\n",
       "      <td>...</td>\n",
       "      <td>21.0</td>\n",
       "      <td>1</td>\n",
       "      <td>A+</td>\n",
       "      <td>27</td>\n",
       "      <td>22115</td>\n",
       "      <td>medium</td>\n",
       "      <td>high</td>\n",
       "      <td>medium</td>\n",
       "      <td>more</td>\n",
       "      <td>middle_age</td>\n",
       "    </tr>\n",
       "    <tr>\n",
       "      <th>4</th>\n",
       "      <td>Rural</td>\n",
       "      <td>Large</td>\n",
       "      <td>North</td>\n",
       "      <td>Zone 5</td>\n",
       "      <td>2</td>\n",
       "      <td>4740</td>\n",
       "      <td>Company Owned</td>\n",
       "      <td>42</td>\n",
       "      <td>1</td>\n",
       "      <td>1</td>\n",
       "      <td>...</td>\n",
       "      <td>25.0</td>\n",
       "      <td>0</td>\n",
       "      <td>C</td>\n",
       "      <td>24</td>\n",
       "      <td>24071</td>\n",
       "      <td>more</td>\n",
       "      <td>low</td>\n",
       "      <td>medium</td>\n",
       "      <td>medium</td>\n",
       "      <td>middle_age</td>\n",
       "    </tr>\n",
       "  </tbody>\n",
       "</table>\n",
       "<p>5 rows × 21 columns</p>\n",
       "</div>"
      ],
      "text/plain": [
       "  Location_type WH_capacity_size   zone WH_regional_zone  Competitor_in_mkt  \\\n",
       "0         Urban            Small   West           Zone 6                  2   \n",
       "1         Rural            Large  North           Zone 5                  4   \n",
       "2         Rural              Mid  South           Zone 2                  4   \n",
       "3         Rural              Mid  North           Zone 3                  2   \n",
       "4         Rural            Large  North           Zone 5                  2   \n",
       "\n",
       "   retail_shop_num  wh_owner_type  distributor_num  flood_impacted  \\\n",
       "0             4651         Rented               24               0   \n",
       "1             6217  Company Owned               47               0   \n",
       "2             4306  Company Owned               64               0   \n",
       "3             6000         Rented               50               0   \n",
       "4             4740  Company Owned               42               1   \n",
       "\n",
       "   electric_supply  ...  workers_num  temp_reg_mach  \\\n",
       "0                1  ...         29.0              0   \n",
       "1                1  ...         31.0              0   \n",
       "2                0  ...         37.0              0   \n",
       "3                0  ...         21.0              1   \n",
       "4                1  ...         25.0              0   \n",
       "\n",
       "   approved_wh_govt_certificate govt_check_l3m  product_wg_ton  \\\n",
       "0                             A             15           17115   \n",
       "1                             A             17            5074   \n",
       "2                             A             22           23137   \n",
       "3                            A+             27           22115   \n",
       "4                             C             24           24071   \n",
       "\n",
       "   breakdown range transport_issue_range storage_issue_range refill_req_range  \\\n",
       "0             more                   low              medium           medium   \n",
       "1           medium                   low                 low             less   \n",
       "2             more                   low              medium             less   \n",
       "3           medium                  high              medium             more   \n",
       "4             more                   low              medium           medium   \n",
       "\n",
       "  wh_est_year_range  \n",
       "0        middle_age  \n",
       "1        middle_age  \n",
       "2        middle_age  \n",
       "3        middle_age  \n",
       "4        middle_age  \n",
       "\n",
       "[5 rows x 21 columns]"
      ]
     },
     "execution_count": 20,
     "metadata": {},
     "output_type": "execute_result"
    }
   ],
   "source": [
    "data.head()"
   ]
  },
  {
   "cell_type": "markdown",
   "id": "f47b2e40",
   "metadata": {},
   "source": [
    "ENCODING CATEGORICAL VALUES INTO NUMERICAL"
   ]
  },
  {
   "cell_type": "code",
   "execution_count": 21,
   "id": "ec85ef54",
   "metadata": {},
   "outputs": [],
   "source": [
    "# Import label encoder\n",
    "from sklearn import preprocessing\n",
    "label_encoder = preprocessing.LabelEncoder()\n",
    "data['Location_type']= label_encoder.fit_transform(data['Location_type'])\n",
    "data['WH_capacity_size']= label_encoder.fit_transform(data['WH_capacity_size'])\n",
    "data['zone']= label_encoder.fit_transform(data['zone'])\n",
    "data['WH_regional_zone']= label_encoder.fit_transform(data['WH_regional_zone'])\n",
    "data['wh_owner_type']= label_encoder.fit_transform(data['wh_owner_type'])\n",
    "data['approved_wh_govt_certificate']= label_encoder.fit_transform(data['approved_wh_govt_certificate'])"
   ]
  },
  {
   "cell_type": "code",
   "execution_count": 22,
   "id": "87ea8d81",
   "metadata": {},
   "outputs": [],
   "source": [
    "data['breakdown range']= label_encoder.fit_transform(data['breakdown range'])\n",
    "data['transport_issue_range']= label_encoder.fit_transform(data['transport_issue_range'])\n",
    "data['storage_issue_range']= label_encoder.fit_transform(data['storage_issue_range'])\n",
    "data['refill_req_range']= label_encoder.fit_transform(data['refill_req_range'])\n",
    "data['wh_est_year_range']= label_encoder.fit_transform(data['wh_est_year_range'])"
   ]
  },
  {
   "cell_type": "code",
   "execution_count": 23,
   "id": "226f7b9e",
   "metadata": {},
   "outputs": [
    {
     "data": {
      "text/html": [
       "<div>\n",
       "<style scoped>\n",
       "    .dataframe tbody tr th:only-of-type {\n",
       "        vertical-align: middle;\n",
       "    }\n",
       "\n",
       "    .dataframe tbody tr th {\n",
       "        vertical-align: top;\n",
       "    }\n",
       "\n",
       "    .dataframe thead th {\n",
       "        text-align: right;\n",
       "    }\n",
       "</style>\n",
       "<table border=\"1\" class=\"dataframe\">\n",
       "  <thead>\n",
       "    <tr style=\"text-align: right;\">\n",
       "      <th></th>\n",
       "      <th>Location_type</th>\n",
       "      <th>WH_capacity_size</th>\n",
       "      <th>zone</th>\n",
       "      <th>WH_regional_zone</th>\n",
       "      <th>Competitor_in_mkt</th>\n",
       "      <th>retail_shop_num</th>\n",
       "      <th>wh_owner_type</th>\n",
       "      <th>distributor_num</th>\n",
       "      <th>flood_impacted</th>\n",
       "      <th>electric_supply</th>\n",
       "      <th>...</th>\n",
       "      <th>workers_num</th>\n",
       "      <th>temp_reg_mach</th>\n",
       "      <th>approved_wh_govt_certificate</th>\n",
       "      <th>govt_check_l3m</th>\n",
       "      <th>product_wg_ton</th>\n",
       "      <th>breakdown range</th>\n",
       "      <th>transport_issue_range</th>\n",
       "      <th>storage_issue_range</th>\n",
       "      <th>refill_req_range</th>\n",
       "      <th>wh_est_year_range</th>\n",
       "    </tr>\n",
       "  </thead>\n",
       "  <tbody>\n",
       "    <tr>\n",
       "      <th>0</th>\n",
       "      <td>1</td>\n",
       "      <td>2</td>\n",
       "      <td>3</td>\n",
       "      <td>5</td>\n",
       "      <td>2</td>\n",
       "      <td>4651</td>\n",
       "      <td>1</td>\n",
       "      <td>24</td>\n",
       "      <td>0</td>\n",
       "      <td>1</td>\n",
       "      <td>...</td>\n",
       "      <td>29.0</td>\n",
       "      <td>0</td>\n",
       "      <td>0</td>\n",
       "      <td>15</td>\n",
       "      <td>17115</td>\n",
       "      <td>2</td>\n",
       "      <td>1</td>\n",
       "      <td>2</td>\n",
       "      <td>1</td>\n",
       "      <td>0</td>\n",
       "    </tr>\n",
       "    <tr>\n",
       "      <th>1</th>\n",
       "      <td>0</td>\n",
       "      <td>0</td>\n",
       "      <td>1</td>\n",
       "      <td>4</td>\n",
       "      <td>4</td>\n",
       "      <td>6217</td>\n",
       "      <td>0</td>\n",
       "      <td>47</td>\n",
       "      <td>0</td>\n",
       "      <td>1</td>\n",
       "      <td>...</td>\n",
       "      <td>31.0</td>\n",
       "      <td>0</td>\n",
       "      <td>0</td>\n",
       "      <td>17</td>\n",
       "      <td>5074</td>\n",
       "      <td>1</td>\n",
       "      <td>1</td>\n",
       "      <td>1</td>\n",
       "      <td>0</td>\n",
       "      <td>0</td>\n",
       "    </tr>\n",
       "    <tr>\n",
       "      <th>2</th>\n",
       "      <td>0</td>\n",
       "      <td>1</td>\n",
       "      <td>2</td>\n",
       "      <td>1</td>\n",
       "      <td>4</td>\n",
       "      <td>4306</td>\n",
       "      <td>0</td>\n",
       "      <td>64</td>\n",
       "      <td>0</td>\n",
       "      <td>0</td>\n",
       "      <td>...</td>\n",
       "      <td>37.0</td>\n",
       "      <td>0</td>\n",
       "      <td>0</td>\n",
       "      <td>22</td>\n",
       "      <td>23137</td>\n",
       "      <td>2</td>\n",
       "      <td>1</td>\n",
       "      <td>2</td>\n",
       "      <td>0</td>\n",
       "      <td>0</td>\n",
       "    </tr>\n",
       "    <tr>\n",
       "      <th>3</th>\n",
       "      <td>0</td>\n",
       "      <td>1</td>\n",
       "      <td>1</td>\n",
       "      <td>2</td>\n",
       "      <td>2</td>\n",
       "      <td>6000</td>\n",
       "      <td>1</td>\n",
       "      <td>50</td>\n",
       "      <td>0</td>\n",
       "      <td>0</td>\n",
       "      <td>...</td>\n",
       "      <td>21.0</td>\n",
       "      <td>1</td>\n",
       "      <td>1</td>\n",
       "      <td>27</td>\n",
       "      <td>22115</td>\n",
       "      <td>1</td>\n",
       "      <td>0</td>\n",
       "      <td>2</td>\n",
       "      <td>2</td>\n",
       "      <td>0</td>\n",
       "    </tr>\n",
       "    <tr>\n",
       "      <th>4</th>\n",
       "      <td>0</td>\n",
       "      <td>0</td>\n",
       "      <td>1</td>\n",
       "      <td>4</td>\n",
       "      <td>2</td>\n",
       "      <td>4740</td>\n",
       "      <td>0</td>\n",
       "      <td>42</td>\n",
       "      <td>1</td>\n",
       "      <td>1</td>\n",
       "      <td>...</td>\n",
       "      <td>25.0</td>\n",
       "      <td>0</td>\n",
       "      <td>4</td>\n",
       "      <td>24</td>\n",
       "      <td>24071</td>\n",
       "      <td>2</td>\n",
       "      <td>1</td>\n",
       "      <td>2</td>\n",
       "      <td>1</td>\n",
       "      <td>0</td>\n",
       "    </tr>\n",
       "  </tbody>\n",
       "</table>\n",
       "<p>5 rows × 21 columns</p>\n",
       "</div>"
      ],
      "text/plain": [
       "   Location_type  WH_capacity_size  zone  WH_regional_zone  Competitor_in_mkt  \\\n",
       "0              1                 2     3                 5                  2   \n",
       "1              0                 0     1                 4                  4   \n",
       "2              0                 1     2                 1                  4   \n",
       "3              0                 1     1                 2                  2   \n",
       "4              0                 0     1                 4                  2   \n",
       "\n",
       "   retail_shop_num  wh_owner_type  distributor_num  flood_impacted  \\\n",
       "0             4651              1               24               0   \n",
       "1             6217              0               47               0   \n",
       "2             4306              0               64               0   \n",
       "3             6000              1               50               0   \n",
       "4             4740              0               42               1   \n",
       "\n",
       "   electric_supply  ...  workers_num  temp_reg_mach  \\\n",
       "0                1  ...         29.0              0   \n",
       "1                1  ...         31.0              0   \n",
       "2                0  ...         37.0              0   \n",
       "3                0  ...         21.0              1   \n",
       "4                1  ...         25.0              0   \n",
       "\n",
       "   approved_wh_govt_certificate  govt_check_l3m  product_wg_ton  \\\n",
       "0                             0              15           17115   \n",
       "1                             0              17            5074   \n",
       "2                             0              22           23137   \n",
       "3                             1              27           22115   \n",
       "4                             4              24           24071   \n",
       "\n",
       "   breakdown range  transport_issue_range  storage_issue_range  \\\n",
       "0                2                      1                    2   \n",
       "1                1                      1                    1   \n",
       "2                2                      1                    2   \n",
       "3                1                      0                    2   \n",
       "4                2                      1                    2   \n",
       "\n",
       "   refill_req_range  wh_est_year_range  \n",
       "0                 1                  0  \n",
       "1                 0                  0  \n",
       "2                 0                  0  \n",
       "3                 2                  0  \n",
       "4                 1                  0  \n",
       "\n",
       "[5 rows x 21 columns]"
      ]
     },
     "execution_count": 23,
     "metadata": {},
     "output_type": "execute_result"
    }
   ],
   "source": [
    "data.head()"
   ]
  },
  {
   "cell_type": "markdown",
   "id": "8739ffbe",
   "metadata": {},
   "source": [
    "# Implimenting new columns:"
   ]
  },
  {
   "cell_type": "markdown",
   "id": "a772b046",
   "metadata": {},
   "source": [
    "Feature engineering 1 :Using logical operator OR.\n",
    "\n",
    "Column name :Location OR Temperature Regulatory Machines."
   ]
  },
  {
   "cell_type": "code",
   "execution_count": 24,
   "id": "0b23a8fb",
   "metadata": {},
   "outputs": [],
   "source": [
    "data['location_with_temp_reg_machines'] = data['Location_type'] | data['temp_reg_mach'] "
   ]
  },
  {
   "cell_type": "markdown",
   "id": "c723856c",
   "metadata": {},
   "source": [
    "Feature Engineering 2\n",
    "\n",
    "Here combining storage issues and warehouse breakdown and creating a new column shows standard of WH.\n"
   ]
  },
  {
   "cell_type": "code",
   "execution_count": 25,
   "id": "09450d97",
   "metadata": {},
   "outputs": [
    {
     "data": {
      "image/png": "[encoded data removed]",
      "text/plain": [
       "<Figure size 432x288 with 1 Axes>"
      ]
     },
     "metadata": {
      "needs_background": "light"
     },
     "output_type": "display_data"
    }
   ],
   "source": [
    "storage_issue_breakdown= (dat.storage_issue_reported_l3m)+(dat.wh_breakdown_l3m)\n",
    "sns.regplot(x = storage_issue_breakdown,y = dat.product_wg_ton)\n",
    "plt.xlabel('storage issue and breakdown')\n",
    "plt.ylabel('product_wg_ton')\n",
    "plt.title('storage issue and breakdown')\n",
    "plt.show()"
   ]
  },
  {
   "cell_type": "code",
   "execution_count": 26,
   "id": "13af8591",
   "metadata": {},
   "outputs": [
    {
     "data": {
      "text/html": [
       "<div>\n",
       "<style scoped>\n",
       "    .dataframe tbody tr th:only-of-type {\n",
       "        vertical-align: middle;\n",
       "    }\n",
       "\n",
       "    .dataframe tbody tr th {\n",
       "        vertical-align: top;\n",
       "    }\n",
       "\n",
       "    .dataframe thead th {\n",
       "        text-align: right;\n",
       "    }\n",
       "</style>\n",
       "<table border=\"1\" class=\"dataframe\">\n",
       "  <thead>\n",
       "    <tr style=\"text-align: right;\">\n",
       "      <th></th>\n",
       "      <th>Location_type</th>\n",
       "      <th>WH_capacity_size</th>\n",
       "      <th>zone</th>\n",
       "      <th>WH_regional_zone</th>\n",
       "      <th>Competitor_in_mkt</th>\n",
       "      <th>retail_shop_num</th>\n",
       "      <th>wh_owner_type</th>\n",
       "      <th>distributor_num</th>\n",
       "      <th>flood_impacted</th>\n",
       "      <th>electric_supply</th>\n",
       "      <th>...</th>\n",
       "      <th>approved_wh_govt_certificate</th>\n",
       "      <th>govt_check_l3m</th>\n",
       "      <th>product_wg_ton</th>\n",
       "      <th>breakdown range</th>\n",
       "      <th>transport_issue_range</th>\n",
       "      <th>storage_issue_range</th>\n",
       "      <th>refill_req_range</th>\n",
       "      <th>wh_est_year_range</th>\n",
       "      <th>location_with_temp_reg_machines</th>\n",
       "      <th>storage issue and breakdown</th>\n",
       "    </tr>\n",
       "  </thead>\n",
       "  <tbody>\n",
       "    <tr>\n",
       "      <th>0</th>\n",
       "      <td>1</td>\n",
       "      <td>2</td>\n",
       "      <td>3</td>\n",
       "      <td>5</td>\n",
       "      <td>2</td>\n",
       "      <td>4651</td>\n",
       "      <td>1</td>\n",
       "      <td>24</td>\n",
       "      <td>0</td>\n",
       "      <td>1</td>\n",
       "      <td>...</td>\n",
       "      <td>0</td>\n",
       "      <td>15</td>\n",
       "      <td>17115</td>\n",
       "      <td>2</td>\n",
       "      <td>1</td>\n",
       "      <td>2</td>\n",
       "      <td>1</td>\n",
       "      <td>0</td>\n",
       "      <td>1</td>\n",
       "      <td>18</td>\n",
       "    </tr>\n",
       "    <tr>\n",
       "      <th>1</th>\n",
       "      <td>0</td>\n",
       "      <td>0</td>\n",
       "      <td>1</td>\n",
       "      <td>4</td>\n",
       "      <td>4</td>\n",
       "      <td>6217</td>\n",
       "      <td>0</td>\n",
       "      <td>47</td>\n",
       "      <td>0</td>\n",
       "      <td>1</td>\n",
       "      <td>...</td>\n",
       "      <td>0</td>\n",
       "      <td>17</td>\n",
       "      <td>5074</td>\n",
       "      <td>1</td>\n",
       "      <td>1</td>\n",
       "      <td>1</td>\n",
       "      <td>0</td>\n",
       "      <td>0</td>\n",
       "      <td>0</td>\n",
       "      <td>7</td>\n",
       "    </tr>\n",
       "    <tr>\n",
       "      <th>2</th>\n",
       "      <td>0</td>\n",
       "      <td>1</td>\n",
       "      <td>2</td>\n",
       "      <td>1</td>\n",
       "      <td>4</td>\n",
       "      <td>4306</td>\n",
       "      <td>0</td>\n",
       "      <td>64</td>\n",
       "      <td>0</td>\n",
       "      <td>0</td>\n",
       "      <td>...</td>\n",
       "      <td>0</td>\n",
       "      <td>22</td>\n",
       "      <td>23137</td>\n",
       "      <td>2</td>\n",
       "      <td>1</td>\n",
       "      <td>2</td>\n",
       "      <td>0</td>\n",
       "      <td>0</td>\n",
       "      <td>0</td>\n",
       "      <td>23</td>\n",
       "    </tr>\n",
       "    <tr>\n",
       "      <th>3</th>\n",
       "      <td>0</td>\n",
       "      <td>1</td>\n",
       "      <td>1</td>\n",
       "      <td>2</td>\n",
       "      <td>2</td>\n",
       "      <td>6000</td>\n",
       "      <td>1</td>\n",
       "      <td>50</td>\n",
       "      <td>0</td>\n",
       "      <td>0</td>\n",
       "      <td>...</td>\n",
       "      <td>1</td>\n",
       "      <td>27</td>\n",
       "      <td>22115</td>\n",
       "      <td>1</td>\n",
       "      <td>0</td>\n",
       "      <td>2</td>\n",
       "      <td>2</td>\n",
       "      <td>0</td>\n",
       "      <td>1</td>\n",
       "      <td>20</td>\n",
       "    </tr>\n",
       "    <tr>\n",
       "      <th>4</th>\n",
       "      <td>0</td>\n",
       "      <td>0</td>\n",
       "      <td>1</td>\n",
       "      <td>4</td>\n",
       "      <td>2</td>\n",
       "      <td>4740</td>\n",
       "      <td>0</td>\n",
       "      <td>42</td>\n",
       "      <td>1</td>\n",
       "      <td>1</td>\n",
       "      <td>...</td>\n",
       "      <td>4</td>\n",
       "      <td>24</td>\n",
       "      <td>24071</td>\n",
       "      <td>2</td>\n",
       "      <td>1</td>\n",
       "      <td>2</td>\n",
       "      <td>1</td>\n",
       "      <td>0</td>\n",
       "      <td>0</td>\n",
       "      <td>24</td>\n",
       "    </tr>\n",
       "  </tbody>\n",
       "</table>\n",
       "<p>5 rows × 23 columns</p>\n",
       "</div>"
      ],
      "text/plain": [
       "   Location_type  WH_capacity_size  zone  WH_regional_zone  Competitor_in_mkt  \\\n",
       "0              1                 2     3                 5                  2   \n",
       "1              0                 0     1                 4                  4   \n",
       "2              0                 1     2                 1                  4   \n",
       "3              0                 1     1                 2                  2   \n",
       "4              0                 0     1                 4                  2   \n",
       "\n",
       "   retail_shop_num  wh_owner_type  distributor_num  flood_impacted  \\\n",
       "0             4651              1               24               0   \n",
       "1             6217              0               47               0   \n",
       "2             4306              0               64               0   \n",
       "3             6000              1               50               0   \n",
       "4             4740              0               42               1   \n",
       "\n",
       "   electric_supply  ...  approved_wh_govt_certificate  govt_check_l3m  \\\n",
       "0                1  ...                             0              15   \n",
       "1                1  ...                             0              17   \n",
       "2                0  ...                             0              22   \n",
       "3                0  ...                             1              27   \n",
       "4                1  ...                             4              24   \n",
       "\n",
       "   product_wg_ton  breakdown range  transport_issue_range  \\\n",
       "0           17115                2                      1   \n",
       "1            5074                1                      1   \n",
       "2           23137                2                      1   \n",
       "3           22115                1                      0   \n",
       "4           24071                2                      1   \n",
       "\n",
       "   storage_issue_range  refill_req_range  wh_est_year_range  \\\n",
       "0                    2                 1                  0   \n",
       "1                    1                 0                  0   \n",
       "2                    2                 0                  0   \n",
       "3                    2                 2                  0   \n",
       "4                    2                 1                  0   \n",
       "\n",
       "   location_with_temp_reg_machines  storage issue and breakdown  \n",
       "0                                1                           18  \n",
       "1                                0                            7  \n",
       "2                                0                           23  \n",
       "3                                1                           20  \n",
       "4                                0                           24  \n",
       "\n",
       "[5 rows x 23 columns]"
      ]
     },
     "execution_count": 26,
     "metadata": {},
     "output_type": "execute_result"
    }
   ],
   "source": [
    "# Creating New Column in our Dataset as storage issue and breakdown\n",
    "data['storage issue and breakdown'] = storage_issue_breakdown\n",
    "data.head()"
   ]
  },
  {
   "cell_type": "code",
   "execution_count": 27,
   "id": "23ed2281",
   "metadata": {},
   "outputs": [
    {
     "data": {
      "text/html": [
       "<div>\n",
       "<style scoped>\n",
       "    .dataframe tbody tr th:only-of-type {\n",
       "        vertical-align: middle;\n",
       "    }\n",
       "\n",
       "    .dataframe tbody tr th {\n",
       "        vertical-align: top;\n",
       "    }\n",
       "\n",
       "    .dataframe thead th {\n",
       "        text-align: right;\n",
       "    }\n",
       "</style>\n",
       "<table border=\"1\" class=\"dataframe\">\n",
       "  <thead>\n",
       "    <tr style=\"text-align: right;\">\n",
       "      <th></th>\n",
       "      <th>Location_type</th>\n",
       "      <th>WH_capacity_size</th>\n",
       "      <th>zone</th>\n",
       "      <th>WH_regional_zone</th>\n",
       "      <th>Competitor_in_mkt</th>\n",
       "      <th>retail_shop_num</th>\n",
       "      <th>wh_owner_type</th>\n",
       "      <th>distributor_num</th>\n",
       "      <th>flood_impacted</th>\n",
       "      <th>electric_supply</th>\n",
       "      <th>...</th>\n",
       "      <th>approved_wh_govt_certificate</th>\n",
       "      <th>govt_check_l3m</th>\n",
       "      <th>breakdown range</th>\n",
       "      <th>transport_issue_range</th>\n",
       "      <th>storage_issue_range</th>\n",
       "      <th>refill_req_range</th>\n",
       "      <th>wh_est_year_range</th>\n",
       "      <th>location_with_temp_reg_machines</th>\n",
       "      <th>storage issue and breakdown</th>\n",
       "      <th>product_wg_ton</th>\n",
       "    </tr>\n",
       "  </thead>\n",
       "  <tbody>\n",
       "    <tr>\n",
       "      <th>0</th>\n",
       "      <td>1</td>\n",
       "      <td>2</td>\n",
       "      <td>3</td>\n",
       "      <td>5</td>\n",
       "      <td>2</td>\n",
       "      <td>4651</td>\n",
       "      <td>1</td>\n",
       "      <td>24</td>\n",
       "      <td>0</td>\n",
       "      <td>1</td>\n",
       "      <td>...</td>\n",
       "      <td>0</td>\n",
       "      <td>15</td>\n",
       "      <td>2</td>\n",
       "      <td>1</td>\n",
       "      <td>2</td>\n",
       "      <td>1</td>\n",
       "      <td>0</td>\n",
       "      <td>1</td>\n",
       "      <td>18</td>\n",
       "      <td>17115</td>\n",
       "    </tr>\n",
       "    <tr>\n",
       "      <th>1</th>\n",
       "      <td>0</td>\n",
       "      <td>0</td>\n",
       "      <td>1</td>\n",
       "      <td>4</td>\n",
       "      <td>4</td>\n",
       "      <td>6217</td>\n",
       "      <td>0</td>\n",
       "      <td>47</td>\n",
       "      <td>0</td>\n",
       "      <td>1</td>\n",
       "      <td>...</td>\n",
       "      <td>0</td>\n",
       "      <td>17</td>\n",
       "      <td>1</td>\n",
       "      <td>1</td>\n",
       "      <td>1</td>\n",
       "      <td>0</td>\n",
       "      <td>0</td>\n",
       "      <td>0</td>\n",
       "      <td>7</td>\n",
       "      <td>5074</td>\n",
       "    </tr>\n",
       "    <tr>\n",
       "      <th>2</th>\n",
       "      <td>0</td>\n",
       "      <td>1</td>\n",
       "      <td>2</td>\n",
       "      <td>1</td>\n",
       "      <td>4</td>\n",
       "      <td>4306</td>\n",
       "      <td>0</td>\n",
       "      <td>64</td>\n",
       "      <td>0</td>\n",
       "      <td>0</td>\n",
       "      <td>...</td>\n",
       "      <td>0</td>\n",
       "      <td>22</td>\n",
       "      <td>2</td>\n",
       "      <td>1</td>\n",
       "      <td>2</td>\n",
       "      <td>0</td>\n",
       "      <td>0</td>\n",
       "      <td>0</td>\n",
       "      <td>23</td>\n",
       "      <td>23137</td>\n",
       "    </tr>\n",
       "    <tr>\n",
       "      <th>3</th>\n",
       "      <td>0</td>\n",
       "      <td>1</td>\n",
       "      <td>1</td>\n",
       "      <td>2</td>\n",
       "      <td>2</td>\n",
       "      <td>6000</td>\n",
       "      <td>1</td>\n",
       "      <td>50</td>\n",
       "      <td>0</td>\n",
       "      <td>0</td>\n",
       "      <td>...</td>\n",
       "      <td>1</td>\n",
       "      <td>27</td>\n",
       "      <td>1</td>\n",
       "      <td>0</td>\n",
       "      <td>2</td>\n",
       "      <td>2</td>\n",
       "      <td>0</td>\n",
       "      <td>1</td>\n",
       "      <td>20</td>\n",
       "      <td>22115</td>\n",
       "    </tr>\n",
       "    <tr>\n",
       "      <th>4</th>\n",
       "      <td>0</td>\n",
       "      <td>0</td>\n",
       "      <td>1</td>\n",
       "      <td>4</td>\n",
       "      <td>2</td>\n",
       "      <td>4740</td>\n",
       "      <td>0</td>\n",
       "      <td>42</td>\n",
       "      <td>1</td>\n",
       "      <td>1</td>\n",
       "      <td>...</td>\n",
       "      <td>4</td>\n",
       "      <td>24</td>\n",
       "      <td>2</td>\n",
       "      <td>1</td>\n",
       "      <td>2</td>\n",
       "      <td>1</td>\n",
       "      <td>0</td>\n",
       "      <td>0</td>\n",
       "      <td>24</td>\n",
       "      <td>24071</td>\n",
       "    </tr>\n",
       "  </tbody>\n",
       "</table>\n",
       "<p>5 rows × 23 columns</p>\n",
       "</div>"
      ],
      "text/plain": [
       "   Location_type  WH_capacity_size  zone  WH_regional_zone  Competitor_in_mkt  \\\n",
       "0              1                 2     3                 5                  2   \n",
       "1              0                 0     1                 4                  4   \n",
       "2              0                 1     2                 1                  4   \n",
       "3              0                 1     1                 2                  2   \n",
       "4              0                 0     1                 4                  2   \n",
       "\n",
       "   retail_shop_num  wh_owner_type  distributor_num  flood_impacted  \\\n",
       "0             4651              1               24               0   \n",
       "1             6217              0               47               0   \n",
       "2             4306              0               64               0   \n",
       "3             6000              1               50               0   \n",
       "4             4740              0               42               1   \n",
       "\n",
       "   electric_supply  ...  approved_wh_govt_certificate  govt_check_l3m  \\\n",
       "0                1  ...                             0              15   \n",
       "1                1  ...                             0              17   \n",
       "2                0  ...                             0              22   \n",
       "3                0  ...                             1              27   \n",
       "4                1  ...                             4              24   \n",
       "\n",
       "   breakdown range  transport_issue_range  storage_issue_range  \\\n",
       "0                2                      1                    2   \n",
       "1                1                      1                    1   \n",
       "2                2                      1                    2   \n",
       "3                1                      0                    2   \n",
       "4                2                      1                    2   \n",
       "\n",
       "   refill_req_range  wh_est_year_range  location_with_temp_reg_machines  \\\n",
       "0                 1                  0                                1   \n",
       "1                 0                  0                                0   \n",
       "2                 0                  0                                0   \n",
       "3                 2                  0                                1   \n",
       "4                 1                  0                                0   \n",
       "\n",
       "   storage issue and breakdown  product_wg_ton  \n",
       "0                           18           17115  \n",
       "1                            7            5074  \n",
       "2                           23           23137  \n",
       "3                           20           22115  \n",
       "4                           24           24071  \n",
       "\n",
       "[5 rows x 23 columns]"
      ]
     },
     "execution_count": 27,
     "metadata": {},
     "output_type": "execute_result"
    }
   ],
   "source": [
    "#Rearraning columns:\n",
    "desired_order=['Location_type', 'WH_capacity_size', 'zone', 'WH_regional_zone',\n",
    "       'Competitor_in_mkt', 'retail_shop_num', 'wh_owner_type',\n",
    "       'distributor_num', 'flood_impacted', 'electric_supply', 'dist_from_hub',\n",
    "       'workers_num', 'temp_reg_mach', 'approved_wh_govt_certificate',\n",
    "       'govt_check_l3m', 'breakdown range',\n",
    "       'transport_issue_range', 'storage_issue_range', 'refill_req_range',\n",
    "       'wh_est_year_range', 'location_with_temp_reg_machines',\n",
    "       'storage issue and breakdown','product_wg_ton']\n",
    "data=data.reindex(columns=desired_order)\n",
    "data.head()"
   ]
  },
  {
   "cell_type": "markdown",
   "id": "25f1e0e0",
   "metadata": {},
   "source": [
    "So we performed BINNING with 5 columns wich are 'storage_issue_reported_l3m','wh_breakdown_l3m' ,'transport_issue_l1y',wh_est_year and num_refill_req_l3m."
   ]
  },
  {
   "cell_type": "markdown",
   "id": "76d9e606",
   "metadata": {},
   "source": [
    "Then we use OR operator to create column 'location_with_temp_reg_machines' and use '+' to create 'storage issue and breakdown'."
   ]
  },
  {
   "cell_type": "markdown",
   "id": "bec23f95",
   "metadata": {},
   "source": [
    "# Outlier Treatment using z-score method # "
   ]
  },
  {
   "cell_type": "markdown",
   "id": "bb4ed5ac",
   "metadata": {},
   "source": [
    "    The Z-score is the signed number of standard deviations by which the value of an observation or data point is above the mean value of what is being observed or measured.\n",
    "\n",
    "    While calculating the Z-score we re-scale and center the data and look for data points which are too far from zero. These data points which are way too far from zero will be treated as the outliers. In most of the cases a threshold of 3 or -3 is used i.e if the Z-score value is greater than or less than 3 or -3 respectively, that data point will be identified as outliers."
   ]
  },
  {
   "cell_type": "code",
   "execution_count": 28,
   "id": "38130926",
   "metadata": {},
   "outputs": [
    {
     "name": "stdout",
     "output_type": "stream",
     "text": [
      "       Location_type  WH_capacity_size      zone  WH_regional_zone  \\\n",
      "0           3.346212          1.628893  1.273305          1.049611   \n",
      "1           0.298845          1.059830  0.989508          0.450722   \n",
      "2           0.298845          0.284531  0.141898          1.345946   \n",
      "3           0.298845          0.284531  0.989508          0.747057   \n",
      "4           0.298845          1.059830  0.989508          0.450722   \n",
      "...              ...               ...       ...               ...   \n",
      "22145       0.298845          1.059830  0.989508          1.049611   \n",
      "22146       0.298845          1.628893  0.141898          1.049611   \n",
      "22147       0.298845          1.059830  0.989508          1.049611   \n",
      "22148       0.298845          1.059830  0.989508          1.049611   \n",
      "22149       0.298845          0.284531  2.120915          0.148168   \n",
      "\n",
      "       Competitor_in_mkt  retail_shop_num  wh_owner_type  distributor_num  \\\n",
      "0               0.965934         0.316117       1.090787         1.145082   \n",
      "1               0.784061         1.174445       0.916769         0.287283   \n",
      "2               0.784061         0.644497       0.916769         1.345987   \n",
      "3               0.965934         0.967898       1.090787         0.474113   \n",
      "4               0.965934         0.231404       0.916769         0.024101   \n",
      "...                  ...              ...            ...              ...   \n",
      "22145           0.090937         0.044626       1.090787         0.225006   \n",
      "22146           0.090937         0.631172       1.090787         1.096880   \n",
      "22147           0.965934         0.271161       0.916769         1.345987   \n",
      "22148           0.784061         0.575966       1.090787         0.646868   \n",
      "22149           5.159050         1.291740       0.916769         0.474113   \n",
      "\n",
      "       flood_impacted  electric_supply  ...  approved_wh_govt_certificate  \\\n",
      "0            0.330903         0.724032  ...                      1.488160   \n",
      "1            0.330903         0.724032  ...                      1.488160   \n",
      "2            0.330903         1.381154  ...                      1.488160   \n",
      "3            0.330903         1.381154  ...                      0.799931   \n",
      "4            3.022030         0.724032  ...                      1.264758   \n",
      "...               ...              ...  ...                           ...   \n",
      "22145        0.330903         0.724032  ...                      0.799931   \n",
      "22146        0.330903         1.381154  ...                      1.264758   \n",
      "22147        0.330903         1.381154  ...                      0.576528   \n",
      "22148        0.330903         1.381154  ...                      0.111701   \n",
      "22149        3.022030         0.724032  ...                      1.264758   \n",
      "\n",
      "       govt_check_l3m  breakdown range  transport_issue_range  \\\n",
      "0            0.435853         1.039452               0.265700   \n",
      "1            0.204494         0.126136               0.265700   \n",
      "2            0.373903         1.039452               0.265700   \n",
      "3            0.952300         0.126136               2.542391   \n",
      "4            0.605262         1.039452               0.265700   \n",
      "...               ...              ...                    ...   \n",
      "22145        1.708326         1.291724               0.265700   \n",
      "22146        1.129929         1.039452               0.265700   \n",
      "22147        1.708326         1.039452               2.010992   \n",
      "22148        1.067979         0.126136               2.010992   \n",
      "22149        0.836620         1.039452               2.010992   \n",
      "\n",
      "       storage_issue_range  refill_req_range  wh_est_year_range  \\\n",
      "0                 0.811105          0.055017           0.667213   \n",
      "1                 0.230643          1.298515           0.667213   \n",
      "2                 0.811105          1.298515           0.667213   \n",
      "3                 0.811105          1.188481           0.667213   \n",
      "4                 0.811105          0.055017           0.667213   \n",
      "...                    ...               ...                ...   \n",
      "22145             1.272390          1.188481           0.667213   \n",
      "22146             1.272390          0.055017           0.667213   \n",
      "22147             0.811105          1.188481           0.667213   \n",
      "22148             0.811105          1.188481           0.667213   \n",
      "22149             0.811105          1.188481           0.667213   \n",
      "\n",
      "       location_with_temp_reg_machines  storage issue and breakdown  \\\n",
      "0                             1.338049                     0.262098   \n",
      "1                             0.747357                     1.369090   \n",
      "2                             0.747357                     0.241080   \n",
      "3                             1.338049                     0.060827   \n",
      "4                             0.747357                     0.341716   \n",
      "...                                ...                          ...   \n",
      "22145                         1.338049                     0.341716   \n",
      "22146                         0.747357                     1.046166   \n",
      "22147                         0.747357                     0.542987   \n",
      "22148                         0.747357                     0.463369   \n",
      "22149                         0.747357                     0.362734   \n",
      "\n",
      "       product_wg_ton  \n",
      "0            0.427646  \n",
      "1            1.463348  \n",
      "2            0.090334  \n",
      "3            0.002427  \n",
      "4            0.170672  \n",
      "...               ...  \n",
      "22145        0.606508  \n",
      "22146        0.947986  \n",
      "22147        0.170758  \n",
      "22148        0.604836  \n",
      "22149        0.686722  \n",
      "\n",
      "[22150 rows x 23 columns]\n"
     ]
    }
   ],
   "source": [
    "#OUTLIER treatment\n",
    "from scipy import stats\n",
    "z = np.abs(stats.zscore(data))\n",
    "print(z)"
   ]
  },
  {
   "cell_type": "code",
   "execution_count": 29,
   "id": "781b2695",
   "metadata": {},
   "outputs": [
    {
     "name": "stdout",
     "output_type": "stream",
     "text": [
      "(array([    0,     4,    12, ..., 22141, 22149, 22149], dtype=int64), array([0, 8, 0, ..., 8, 4, 8], dtype=int64))\n"
     ]
    }
   ],
   "source": [
    "threshold = 3\n",
    "print(np.where(z > 3))"
   ]
  },
  {
   "cell_type": "code",
   "execution_count": 30,
   "id": "1594a9ad",
   "metadata": {},
   "outputs": [],
   "source": [
    "#Taking only the z values less than the threshold=3\n",
    "data1 = data[(z < 3).all(axis=1)]"
   ]
  },
  {
   "cell_type": "code",
   "execution_count": 31,
   "id": "509bd183",
   "metadata": {},
   "outputs": [
    {
     "data": {
      "text/plain": [
       "(22150, 23)"
      ]
     },
     "execution_count": 31,
     "metadata": {},
     "output_type": "execute_result"
    }
   ],
   "source": [
    "#no of columns and rows before treating outliers\n",
    "data.shape"
   ]
  },
  {
   "cell_type": "code",
   "execution_count": 32,
   "id": "6f70850c",
   "metadata": {},
   "outputs": [
    {
     "data": {
      "text/plain": [
       "(17692, 23)"
      ]
     },
     "execution_count": 32,
     "metadata": {},
     "output_type": "execute_result"
    }
   ],
   "source": [
    "#no of columns and rows after treating outliers\n",
    "data1.shape"
   ]
  },
  {
   "cell_type": "markdown",
   "id": "c10fdb36",
   "metadata": {},
   "source": [
    "# Checking VIF"
   ]
  },
  {
   "cell_type": "markdown",
   "id": "9be6c274",
   "metadata": {},
   "source": [
    "        VIF is a measure of multicollinearity between predictor variables in a regression model, and it assesses the correlation between each predictor variable and the other predictor variables. It helps identify variables that are highly correlated and may affect the model's performance."
   ]
  },
  {
   "cell_type": "code",
   "execution_count": 33,
   "id": "31a584f1",
   "metadata": {},
   "outputs": [],
   "source": [
    "X = data1.drop('product_wg_ton',axis = 1).values\n",
    "y = data1['product_wg_ton'].values"
   ]
  },
  {
   "cell_type": "code",
   "execution_count": 34,
   "id": "c4a81581",
   "metadata": {},
   "outputs": [
    {
     "name": "stdout",
     "output_type": "stream",
     "text": [
      "                    FEATURES COLUMN  VIF Factor\n",
      "0                             const  118.645614\n",
      "1                     Location_type         NaN\n",
      "2                  WH_capacity_size    1.400705\n",
      "3                              zone    1.073147\n",
      "4                  WH_regional_zone    1.394189\n",
      "5                 Competitor_in_mkt    1.053981\n",
      "6                   retail_shop_num    1.036486\n",
      "7                     wh_owner_type    1.071969\n",
      "8                   distributor_num    1.000791\n",
      "9                    flood_impacted         NaN\n",
      "10                  electric_supply    1.186321\n",
      "11                    dist_from_hub    1.000934\n",
      "12                      workers_num    1.172334\n",
      "13                    temp_reg_mach         inf\n",
      "14     approved_wh_govt_certificate    1.072572\n",
      "15                   govt_check_l3m    1.127849\n",
      "16                  breakdown range    1.028968\n",
      "17            transport_issue_range    1.016293\n",
      "18              storage_issue_range    1.015962\n",
      "19                 refill_req_range    1.244700\n",
      "20                wh_est_year_range    1.268608\n",
      "21  location_with_temp_reg_machines         inf\n",
      "22      storage issue and breakdown    1.143638\n"
     ]
    }
   ],
   "source": [
    "#checking multicollinearity.\n",
    "#This will display the VIF values for each independent variable. Variables with high VIF values may indicate multicollinearity issues.\n",
    "import statsmodels.api as sm\n",
    "from statsmodels.stats.outliers_influence import variance_inflation_factor\n",
    "X = data1.drop('product_wg_ton',axis = 1)  # Add all your independent variables\n",
    "X = sm.add_constant(X)\n",
    "model = sm.OLS(data1['product_wg_ton'], X)\n",
    "results = model.fit()\n",
    "vif = pd.DataFrame()\n",
    "vif[\"FEATURES COLUMN\"] = X.columns\n",
    "vif[\"VIF Factor\"] = [variance_inflation_factor(X.values, i) for i in range(X.shape[1])]\n",
    "print(vif)"
   ]
  },
  {
   "cell_type": "markdown",
   "id": "a7ce872d",
   "metadata": {},
   "source": [
    "        If you encounter infinite values (inf) when calculating the Variance Inflation Factor (VIF), it indicates a perfect multicollinearity issue within your dataset. Perfect multicollinearity occurs when one or more predictor variables in a regression model can be perfectly predicted using a combination of other predictor variables.\n",
    "\n",
    "        When perfect multicollinearity exists, VIF cannot be computed because it involves dividing by zero, resulting in an infinite value (inf).\n",
    "        \n",
    "        If two or more variables are highly correlated, you can choose to keep only one of them and remove the others. Instead of removing variables, you can create new variables by combining the correlated ones. For example, you can calculate the average or sum of two correlated variables and use that as a single variable in your model.\n",
    "        \n",
    "        Remember that multicollinearity can negatively impact the interpretation and performance of your regression model.\n",
    "        \n",
    "        Division by zero: VIF involves dividing the variance of one predictor variable by the variance inflation factor. If the variance of a predictor variable is zero, division by zero occurs, resulting in NaN values.\n",
    "\n",
    "        Constant or near-constant variables: When a predictor variable has no variance or extremely low variance, it can lead to NaN values in VIF calculations. This often happens with constant variables or those with very few distinct values."
   ]
  },
  {
   "cell_type": "markdown",
   "id": "2bccf5b7",
   "metadata": {},
   "source": [
    "Here we can drop 'location_with_temp_reg_machines',bcoz of multicollinearity."
   ]
  },
  {
   "cell_type": "markdown",
   "id": "d8fafb5d",
   "metadata": {},
   "source": [
    "# Mutual Information Gain"
   ]
  },
  {
   "cell_type": "markdown",
   "id": "7dfd730c",
   "metadata": {},
   "source": [
    "        Mutual information(MI)between two random variables is a non-negative value,which measures the dependency between the variables .It is equal to zero if and only if two random variables are independent ,and higher values mean higher dependency"
   ]
  },
  {
   "cell_type": "code",
   "execution_count": 35,
   "id": "b2e4f1ed",
   "metadata": {},
   "outputs": [],
   "source": [
    "from sklearn.model_selection import train_test_split\n",
    "X_train,X_test,y_train,y_test=train_test_split(data1.drop(labels=['product_wg_ton'], axis=1),\n",
    "data1['product_wg_ton'],test_size=0.3,random_state=0)"
   ]
  },
  {
   "cell_type": "code",
   "execution_count": 36,
   "id": "86cd6598",
   "metadata": {},
   "outputs": [
    {
     "data": {
      "text/plain": [
       "array([0.00000000e+00, 3.84498668e-03, 2.76868756e-03, 5.49687186e-04,\n",
       "       0.00000000e+00, 2.05009511e-04, 0.00000000e+00, 1.35600475e-02,\n",
       "       0.00000000e+00, 0.00000000e+00, 5.70645568e-04, 6.74943541e-03,\n",
       "       1.45381419e-02, 7.79522447e-02, 6.50344932e-03, 1.36388423e-01,\n",
       "       2.42829681e-02, 1.13204182e+00, 0.00000000e+00, 2.51017468e-01,\n",
       "       2.03970771e-02, 1.58895225e+00])"
      ]
     },
     "execution_count": 36,
     "metadata": {},
     "output_type": "execute_result"
    }
   ],
   "source": [
    "from sklearn.feature_selection import mutual_info_regression\n",
    "mutual_info = mutual_info_regression(X_train.fillna(0), y_train)\n",
    "mutual_info"
   ]
  },
  {
   "cell_type": "code",
   "execution_count": 37,
   "id": "bf61d913",
   "metadata": {},
   "outputs": [
    {
     "data": {
      "text/plain": [
       "storage issue and breakdown        1.588952\n",
       "storage_issue_range                1.132042\n",
       "wh_est_year_range                  0.251017\n",
       "breakdown range                    0.136388\n",
       "approved_wh_govt_certificate       0.077952\n",
       "transport_issue_range              0.024283\n",
       "location_with_temp_reg_machines    0.020397\n",
       "temp_reg_mach                      0.014538\n",
       "distributor_num                    0.013560\n",
       "workers_num                        0.006749\n",
       "govt_check_l3m                     0.006503\n",
       "WH_capacity_size                   0.003845\n",
       "zone                               0.002769\n",
       "dist_from_hub                      0.000571\n",
       "WH_regional_zone                   0.000550\n",
       "retail_shop_num                    0.000205\n",
       "electric_supply                    0.000000\n",
       "flood_impacted                     0.000000\n",
       "wh_owner_type                      0.000000\n",
       "Competitor_in_mkt                  0.000000\n",
       "refill_req_range                   0.000000\n",
       "Location_type                      0.000000\n",
       "dtype: float64"
      ]
     },
     "execution_count": 37,
     "metadata": {},
     "output_type": "execute_result"
    }
   ],
   "source": [
    "mutual_info = pd.Series(mutual_info)\n",
    "mutual_info.index = X_train.columns\n",
    "mutual_info.sort_values(ascending=False)"
   ]
  },
  {
   "cell_type": "code",
   "execution_count": 38,
   "id": "a42694f0",
   "metadata": {},
   "outputs": [
    {
     "data": {
      "text/plain": [
       "<AxesSubplot:>"
      ]
     },
     "execution_count": 38,
     "metadata": {},
     "output_type": "execute_result"
    },
    {
     "data": {
      "image/png": "[encoded data removed]",
      "text/plain": [
       "<Figure size 1080x360 with 1 Axes>"
      ]
     },
     "metadata": {
      "needs_background": "light"
     },
     "output_type": "display_data"
    }
   ],
   "source": [
    "mutual_info.sort_values(ascending=False).plot.bar(figsize=(15,5))"
   ]
  },
  {
   "cell_type": "markdown",
   "id": "3ddcbfb3",
   "metadata": {},
   "source": [
    "With MIG and from graphs we can infere first 8 columns are important."
   ]
  },
  {
   "cell_type": "markdown",
   "id": "b78e2591",
   "metadata": {},
   "source": [
    "# Model Building"
   ]
  },
  {
   "cell_type": "code",
   "execution_count": 39,
   "id": "f7111a15",
   "metadata": {},
   "outputs": [
    {
     "data": {
      "text/html": [
       "<div>\n",
       "<style scoped>\n",
       "    .dataframe tbody tr th:only-of-type {\n",
       "        vertical-align: middle;\n",
       "    }\n",
       "\n",
       "    .dataframe tbody tr th {\n",
       "        vertical-align: top;\n",
       "    }\n",
       "\n",
       "    .dataframe thead th {\n",
       "        text-align: right;\n",
       "    }\n",
       "</style>\n",
       "<table border=\"1\" class=\"dataframe\">\n",
       "  <thead>\n",
       "    <tr style=\"text-align: right;\">\n",
       "      <th></th>\n",
       "      <th>temp_reg_mach</th>\n",
       "      <th>approved_wh_govt_certificate</th>\n",
       "      <th>breakdown range</th>\n",
       "      <th>transport_issue_range</th>\n",
       "      <th>storage_issue_range</th>\n",
       "      <th>wh_est_year_range</th>\n",
       "      <th>location_with_temp_reg_machines</th>\n",
       "      <th>storage issue and breakdown</th>\n",
       "      <th>product_wg_ton</th>\n",
       "    </tr>\n",
       "  </thead>\n",
       "  <tbody>\n",
       "    <tr>\n",
       "      <th>1</th>\n",
       "      <td>0</td>\n",
       "      <td>0</td>\n",
       "      <td>1</td>\n",
       "      <td>1</td>\n",
       "      <td>1</td>\n",
       "      <td>0</td>\n",
       "      <td>0</td>\n",
       "      <td>7</td>\n",
       "      <td>5074</td>\n",
       "    </tr>\n",
       "    <tr>\n",
       "      <th>2</th>\n",
       "      <td>0</td>\n",
       "      <td>0</td>\n",
       "      <td>2</td>\n",
       "      <td>1</td>\n",
       "      <td>2</td>\n",
       "      <td>0</td>\n",
       "      <td>0</td>\n",
       "      <td>23</td>\n",
       "      <td>23137</td>\n",
       "    </tr>\n",
       "    <tr>\n",
       "      <th>3</th>\n",
       "      <td>1</td>\n",
       "      <td>1</td>\n",
       "      <td>1</td>\n",
       "      <td>0</td>\n",
       "      <td>2</td>\n",
       "      <td>0</td>\n",
       "      <td>1</td>\n",
       "      <td>20</td>\n",
       "      <td>22115</td>\n",
       "    </tr>\n",
       "    <tr>\n",
       "      <th>5</th>\n",
       "      <td>1</td>\n",
       "      <td>1</td>\n",
       "      <td>1</td>\n",
       "      <td>1</td>\n",
       "      <td>0</td>\n",
       "      <td>0</td>\n",
       "      <td>1</td>\n",
       "      <td>26</td>\n",
       "      <td>32134</td>\n",
       "    </tr>\n",
       "    <tr>\n",
       "      <th>6</th>\n",
       "      <td>0</td>\n",
       "      <td>2</td>\n",
       "      <td>1</td>\n",
       "      <td>1</td>\n",
       "      <td>0</td>\n",
       "      <td>0</td>\n",
       "      <td>0</td>\n",
       "      <td>27</td>\n",
       "      <td>30142</td>\n",
       "    </tr>\n",
       "  </tbody>\n",
       "</table>\n",
       "</div>"
      ],
      "text/plain": [
       "   temp_reg_mach  approved_wh_govt_certificate  breakdown range  \\\n",
       "1              0                             0                1   \n",
       "2              0                             0                2   \n",
       "3              1                             1                1   \n",
       "5              1                             1                1   \n",
       "6              0                             2                1   \n",
       "\n",
       "   transport_issue_range  storage_issue_range  wh_est_year_range  \\\n",
       "1                      1                    1                  0   \n",
       "2                      1                    2                  0   \n",
       "3                      0                    2                  0   \n",
       "5                      1                    0                  0   \n",
       "6                      1                    0                  0   \n",
       "\n",
       "   location_with_temp_reg_machines  storage issue and breakdown  \\\n",
       "1                                0                            7   \n",
       "2                                0                           23   \n",
       "3                                1                           20   \n",
       "5                                1                           26   \n",
       "6                                0                           27   \n",
       "\n",
       "   product_wg_ton  \n",
       "1            5074  \n",
       "2           23137  \n",
       "3           22115  \n",
       "5           32134  \n",
       "6           30142  "
      ]
     },
     "execution_count": 39,
     "metadata": {},
     "output_type": "execute_result"
    }
   ],
   "source": [
    "#Creating new dataset data2 as a copy of data1 and then dropping less significant columns.\n",
    "data2=data1.drop(['Location_type', 'WH_capacity_size', 'zone', 'WH_regional_zone',\n",
    "        'Competitor_in_mkt', 'retail_shop_num', 'wh_owner_type',\n",
    "       'distributor_num', 'flood_impacted', 'electric_supply', 'dist_from_hub',\n",
    "       'workers_num','govt_check_l3m','refill_req_range'],axis=1)\n",
    "data2.head()"
   ]
  },
  {
   "cell_type": "code",
   "execution_count": 40,
   "id": "c56945ac",
   "metadata": {},
   "outputs": [
    {
     "data": {
      "text/plain": [
       "(17692, 9)"
      ]
     },
     "execution_count": 40,
     "metadata": {},
     "output_type": "execute_result"
    }
   ],
   "source": [
    "data2.shape"
   ]
  },
  {
   "cell_type": "code",
   "execution_count": 41,
   "id": "7f53ad68",
   "metadata": {},
   "outputs": [],
   "source": [
    "#Applying minmax scalar to data2 \n",
    "X = data2.drop('product_wg_ton',axis = 1).values\n",
    "y = data2['product_wg_ton'].values"
   ]
  },
  {
   "cell_type": "code",
   "execution_count": 42,
   "id": "323a8cac",
   "metadata": {},
   "outputs": [],
   "source": [
    "from sklearn.preprocessing import MinMaxScaler\n",
    "scaler = MinMaxScaler()\n",
    "X = scaler.fit_transform(X)"
   ]
  },
  {
   "cell_type": "code",
   "execution_count": 43,
   "id": "b55ef1a3",
   "metadata": {},
   "outputs": [
    {
     "name": "stdout",
     "output_type": "stream",
     "text": [
      "Requirement already satisfied: XGBoost in c:\\users\\nandakishore\\new folder (2)\\lib\\site-packages (1.7.2)\n",
      "Requirement already satisfied: numpy in c:\\users\\nandakishore\\new folder (2)\\lib\\site-packages (from XGBoost) (1.21.5)\n",
      "Requirement already satisfied: scipy in c:\\users\\nandakishore\\new folder (2)\\lib\\site-packages (from XGBoost) (1.9.3)\n"
     ]
    }
   ],
   "source": [
    "!pip install XGBoost"
   ]
  },
  {
   "cell_type": "code",
   "execution_count": 44,
   "id": "1d3ee241",
   "metadata": {},
   "outputs": [],
   "source": [
    "from sklearn.model_selection import train_test_split\n",
    "X_train,X_test,y_train,y_test = train_test_split(X,y,test_size=0.30,random_state=42)"
   ]
  },
  {
   "cell_type": "code",
   "execution_count": 45,
   "id": "9be63688",
   "metadata": {},
   "outputs": [],
   "source": [
    "#importing neccessary libraries\n",
    "from sklearn.linear_model import LinearRegression, Lasso, Ridge\n",
    "from sklearn.tree import DecisionTreeRegressor\n",
    "from sklearn.ensemble import RandomForestRegressor\n",
    "from xgboost import XGBRegressor\n",
    "from sklearn.metrics import mean_squared_error"
   ]
  },
  {
   "cell_type": "markdown",
   "id": "2716df9b",
   "metadata": {},
   "source": [
    "# Implimenting Different Algorithms"
   ]
  },
  {
   "cell_type": "code",
   "execution_count": 46,
   "id": "56f549bd",
   "metadata": {},
   "outputs": [],
   "source": [
    "# Linear Regression\n",
    "linear_reg = LinearRegression()\n",
    "linear_reg.fit(X_train, y_train)\n",
    "linear_train_acc = linear_reg.score(X_train, y_train)\n",
    "linear_test_acc = linear_reg.score(X_test, y_test)"
   ]
  },
  {
   "cell_type": "code",
   "execution_count": 47,
   "id": "e060d954",
   "metadata": {},
   "outputs": [],
   "source": [
    "# Lasso\n",
    "lasso_reg = Lasso()\n",
    "lasso_reg.fit(X_train, y_train)\n",
    "lasso_train_acc = lasso_reg.score(X_train, y_train)\n",
    "lasso_test_acc = lasso_reg.score(X_test, y_test)"
   ]
  },
  {
   "cell_type": "code",
   "execution_count": 48,
   "id": "b48c88e2",
   "metadata": {},
   "outputs": [],
   "source": [
    "# Ridge\n",
    "ridge_reg = Ridge()\n",
    "ridge_reg.fit(X_train, y_train)\n",
    "ridge_train_acc = ridge_reg.score(X_train, y_train)\n",
    "ridge_test_acc = ridge_reg.score(X_test, y_test)"
   ]
  },
  {
   "cell_type": "code",
   "execution_count": 49,
   "id": "bd533610",
   "metadata": {},
   "outputs": [],
   "source": [
    "# Decision Tree\n",
    "tree_reg = DecisionTreeRegressor()\n",
    "tree_reg.fit(X_train, y_train)\n",
    "tree_train_acc = tree_reg.score(X_train, y_train)\n",
    "tree_test_acc = tree_reg.score(X_test, y_test)"
   ]
  },
  {
   "cell_type": "code",
   "execution_count": 50,
   "id": "bcf1483b",
   "metadata": {},
   "outputs": [],
   "source": [
    "# Random Forest\n",
    "forest_reg = RandomForestRegressor()\n",
    "forest_reg.fit(X_train, y_train)\n",
    "forest_train_acc = forest_reg.score(X_train, y_train)\n",
    "forest_test_acc = forest_reg.score(X_test, y_test)"
   ]
  },
  {
   "cell_type": "code",
   "execution_count": 51,
   "id": "05346967",
   "metadata": {},
   "outputs": [],
   "source": [
    "# XGBoost\n",
    "xgb_reg = XGBRegressor()\n",
    "xgb_reg.fit(X_train, y_train)\n",
    "xgb_train_acc = xgb_reg.score(X_train, y_train)\n",
    "xgb_test_acc = xgb_reg.score(X_test, y_test)"
   ]
  },
  {
   "cell_type": "markdown",
   "id": "51ba46bc",
   "metadata": {},
   "source": [
    "# Finding train test acccuracy"
   ]
  },
  {
   "cell_type": "code",
   "execution_count": 52,
   "id": "c604f37b",
   "metadata": {},
   "outputs": [
    {
     "name": "stdout",
     "output_type": "stream",
     "text": [
      "Linear Regression Train Accuracy: 0.9467083755254773\n",
      "Linear Regression Test Accuracy: 0.9459368644020377\n",
      "Lasso Train Accuracy: 0.9467076090036833\n",
      "Lasso Test Accuracy: 0.9459563072964758\n",
      "Ridge Train Accuracy: 0.9467054331966205\n",
      "Ridge Test Accuracy: 0.9459700272942045\n",
      "Decision Tree Train Accuracy: 0.9936573503783981\n",
      "Decision Tree Test Accuracy: 0.9897299761363345\n",
      "Random Forest Train Accuracy: 0.9935198882159285\n",
      "Random Forest Test Accuracy: 0.9905405963855268\n",
      "XGBoost Train Accuracy: 0.9929156093995253\n",
      "XGBoost Test Accuracy: 0.9915498893892531\n"
     ]
    }
   ],
   "source": [
    "# Print the train and test accuracies\n",
    "print(\"Linear Regression Train Accuracy:\", linear_train_acc)\n",
    "print(\"Linear Regression Test Accuracy:\", linear_test_acc)\n",
    "print(\"Lasso Train Accuracy:\", lasso_train_acc)\n",
    "print(\"Lasso Test Accuracy:\", lasso_test_acc)\n",
    "print(\"Ridge Train Accuracy:\", ridge_train_acc)\n",
    "print(\"Ridge Test Accuracy:\", ridge_test_acc)\n",
    "print(\"Decision Tree Train Accuracy:\", tree_train_acc)\n",
    "print(\"Decision Tree Test Accuracy:\", tree_test_acc)\n",
    "print(\"Random Forest Train Accuracy:\", forest_train_acc)\n",
    "print(\"Random Forest Test Accuracy:\", forest_test_acc)\n",
    "print(\"XGBoost Train Accuracy:\", xgb_train_acc)\n",
    "print(\"XGBoost Test Accuracy:\", xgb_test_acc)"
   ]
  },
  {
   "cell_type": "markdown",
   "id": "a440fa40",
   "metadata": {},
   "source": [
    "# Cross validation"
   ]
  },
  {
   "cell_type": "markdown",
   "id": "c82680dc",
   "metadata": {},
   "source": [
    "It splits the data into 5 folds here and evaluates the model's performance on each fold. \n",
    "\n",
    "It returns an array of scores, where each score represents the performance of the model on a particular fold."
   ]
  },
  {
   "cell_type": "code",
   "execution_count": 53,
   "id": "d4ad87d6",
   "metadata": {},
   "outputs": [],
   "source": [
    " from sklearn.model_selection import cross_val_score"
   ]
  },
  {
   "cell_type": "code",
   "execution_count": 54,
   "id": "73aff7c1",
   "metadata": {},
   "outputs": [
    {
     "name": "stdout",
     "output_type": "stream",
     "text": [
      "Linear Regression Cross-Validation Scores: [0.94632512 0.94672739 0.94353987 0.94897753 0.94661366]\n",
      "Lasso Cross-Validation Scores: [0.94633192 0.94671771 0.94355519 0.94896766 0.94660861]\n",
      "Ridge Cross-Validation Scores: [0.94633792 0.94670519 0.94357409 0.94895566 0.94660156]\n",
      "Decision Tree Cross-Validation Scores: [0.99012021 0.98972507 0.98956893 0.99009039 0.99039219]\n",
      "Random Forest Cross-Validation Scores: [0.99089339 0.99030006 0.99021873 0.99061069 0.99103438]\n",
      "XGBoost Cross-Validation Scores: [0.99174926 0.99129743 0.99097527 0.99147956 0.99193601]\n",
      "Linear Regression Mean CV Score: 0.9464367138373359\n",
      "Lasso Mean CV Score: 0.9464362162224754\n",
      "Ridge Mean CV Score: 0.9464348842347233\n",
      "Decision Tree Mean CV Score: 0.9899793548760958\n",
      "Random Forest Mean CV Score: 0.9906114493909006\n",
      "XGBoost Mean CV Score: 0.9914875057335693\n"
     ]
    }
   ],
   "source": [
    "# Linear Regression\n",
    "linear_reg = LinearRegression()\n",
    "linear_scores = cross_val_score(linear_reg, X, y, cv=5)\n",
    "\n",
    "# Lasso\n",
    "lasso_reg = Lasso()\n",
    "lasso_scores = cross_val_score(lasso_reg, X, y, cv=5)\n",
    "\n",
    "# Ridge\n",
    "ridge_reg = Ridge()\n",
    "ridge_scores = cross_val_score(ridge_reg, X, y, cv=5)\n",
    "\n",
    "# Decision Tree\n",
    "tree_reg = DecisionTreeRegressor()\n",
    "tree_scores = cross_val_score(tree_reg, X, y, cv=5)\n",
    "\n",
    "# Random Forest\n",
    "forest_reg = RandomForestRegressor()\n",
    "forest_scores = cross_val_score(forest_reg, X, y, cv=5)\n",
    "\n",
    "# XGBoost\n",
    "xgb_reg = XGBRegressor()\n",
    "xgb_scores = cross_val_score(xgb_reg, X, y, cv=5)\n",
    "\n",
    "# Print the cross-validation scores\n",
    "print(\"Linear Regression Cross-Validation Scores:\", linear_scores)\n",
    "print(\"Lasso Cross-Validation Scores:\", lasso_scores)\n",
    "print(\"Ridge Cross-Validation Scores:\", ridge_scores)\n",
    "print(\"Decision Tree Cross-Validation Scores:\", tree_scores)\n",
    "print(\"Random Forest Cross-Validation Scores:\", forest_scores)\n",
    "print(\"XGBoost Cross-Validation Scores:\", xgb_scores)\n",
    "\n",
    "# Calculate and print the mean of cross-validation scores\n",
    "#The mean of the cross-validation scores provides an overall measure of the model's performance across all the folds. \n",
    "#It gives you an estimate of how well the model is expected to perform on unseen data.\n",
    "print(\"Linear Regression Mean CV Score:\", linear_scores.mean())\n",
    "print(\"Lasso Mean CV Score:\", lasso_scores.mean())\n",
    "print(\"Ridge Mean CV Score:\", ridge_scores.mean())\n",
    "print(\"Decision Tree Mean CV Score:\", tree_scores.mean())\n",
    "print(\"Random Forest Mean CV Score:\", forest_scores.mean())\n",
    "print(\"XGBoost Mean CV Score:\", xgb_scores.mean())"
   ]
  },
  {
   "cell_type": "markdown",
   "id": "e7a1e73f",
   "metadata": {},
   "source": [
    "The mean score helps in comparing the performance of different models.\n",
    "\n",
    "It allows you to assess which model or configuration is likely to perform better on unseen data.\n",
    "\n",
    "Generally, a higher mean score indicates better model performance, but it should be considered alongside other evaluation metrics depending on the specific problem and requirements."
   ]
  },
  {
   "cell_type": "markdown",
   "id": "bddc3353",
   "metadata": {},
   "source": [
    "# Hyper parameter tuning of  lasso, ridge, Desion Tree, Random Forest and xgb"
   ]
  },
  {
   "cell_type": "markdown",
   "id": "26353ad2",
   "metadata": {},
   "source": [
    "Here we select as best models"
   ]
  },
  {
   "cell_type": "code",
   "execution_count": 55,
   "id": "cad8326e",
   "metadata": {},
   "outputs": [],
   "source": [
    "from sklearn.model_selection import GridSearchCV"
   ]
  },
  {
   "cell_type": "code",
   "execution_count": 56,
   "id": "b2a0e46f",
   "metadata": {},
   "outputs": [
    {
     "name": "stdout",
     "output_type": "stream",
     "text": [
      "Lasso Best Parameters: {'alpha': 0.1}\n",
      "Lasso Best Score: 7320078.985231605\n",
      "Ridge Best Parameters: {'alpha': 0.1}\n",
      "Ridge Best Score: 7320079.466480834\n",
      "Decision Tree Best Parameters: {'max_depth': None, 'min_samples_split': 10}\n",
      "Decision Tree Train Accuracy: 0.9929536224828447\n",
      "Decision Tree Test Accuracy: 0.9902576101431985\n",
      "Random Forest Best Parameters: {'max_depth': 10, 'n_estimators': 200}\n",
      "Random Forest Train Accuracy: 0.9926099768154457\n",
      "Random Forest Test Accuracy: 0.9908869228365079\n",
      "XGBoost Best Parameters: {'learning_rate': 0.1, 'max_depth': 5}\n",
      "XGBoost Train Accuracy: 0.9920322292882835\n",
      "XGBoost Test Accuracy: 0.991533240673397\n"
     ]
    }
   ],
   "source": [
    "# Perform Grid Search for Lasso Regression\n",
    "\n",
    "# Define the parameter grid for each model\n",
    "lasso_regression_params = {'alpha': [0.1, 0.5, 1.0]}  # Example values for alpha\n",
    "ridge_regression_params = {'alpha': [0.1, 0.5, 1.0]}  # Example values for alpha\n",
    "\n",
    "# Perform Grid Search for Lasso Regression\n",
    "lasso_regression_grid = GridSearchCV(lasso_reg, param_grid=lasso_regression_params, scoring='neg_mean_squared_error')\n",
    "lasso_regression_grid.fit(X, y)\n",
    "\n",
    "# Perform Grid Search for Ridge Regression\n",
    "ridge_regression_grid = GridSearchCV(ridge_reg, param_grid=ridge_regression_params, scoring='neg_mean_squared_error')\n",
    "ridge_regression_grid.fit(X, y)\n",
    "\n",
    "# Decision Tree Regression with Grid Search\n",
    "tree_reg = DecisionTreeRegressor()\n",
    "tree_params = {'max_depth': [None, 5, 10],\n",
    "               'min_samples_split': [2, 5, 10]}# Example hyperparameters to tune  \n",
    "tree_grid_search = GridSearchCV(tree_reg, tree_params, cv=5)\n",
    "tree_grid_search.fit(X_train, y_train)\n",
    "tree_best_params = tree_grid_search.best_params_\n",
    "tree_best_model = tree_grid_search.best_estimator_\n",
    "tree_train_acc = tree_best_model.score(X_train, y_train)\n",
    "tree_test_acc = tree_best_model.score(X_test, y_test)\n",
    "\n",
    "# Random Forest Regression with Grid Search\n",
    "forest_reg = RandomForestRegressor()\n",
    "forest_params = {'n_estimators': [100, 200, 300],\n",
    "                 'max_depth': [None, 5, 10]}  # Example hyperparameters to tune\n",
    "forest_grid_search = GridSearchCV(forest_reg, forest_params, cv=5)\n",
    "forest_grid_search.fit(X_train, y_train)\n",
    "forest_best_params = forest_grid_search.best_params_\n",
    "forest_best_model = forest_grid_search.best_estimator_\n",
    "forest_train_acc = forest_best_model.score(X_train, y_train)\n",
    "forest_test_acc = forest_best_model.score(X_test, y_test)\n",
    "\n",
    "# XGBoost Regression with Grid Search\n",
    "xgb_reg = XGBRegressor()\n",
    "xgb_params = {'learning_rate': [0.1, 0.01, 0.001], 'max_depth': [3, 5, 7]}  # Example hyperparameters to tune\n",
    "xgb_grid_search = GridSearchCV(xgb_reg, xgb_params, cv=5)\n",
    "xgb_grid_search.fit(X_train, y_train)\n",
    "xgb_best_params = xgb_grid_search.best_params_\n",
    "xgb_best_model = xgb_grid_search.best_estimator_\n",
    "xgb_train_acc = xgb_best_model.score(X_train, y_train)\n",
    "xgb_test_acc = xgb_best_model.score(X_test, y_test)\n",
    "\n",
    "# Print the best parameters and train/test accuracies\n",
    "print(\"Lasso Best Parameters:\", lasso_regression_grid.best_params_)\n",
    "print(\"Lasso Best Score:\", -lasso_regression_grid.best_score_)\n",
    "print(\"Ridge Best Parameters:\", ridge_regression_grid.best_params_)\n",
    "print(\"Ridge Best Score:\", -ridge_regression_grid.best_score_)\n",
    "print(\"Decision Tree Best Parameters:\", tree_best_params)\n",
    "print(\"Decision Tree Train Accuracy:\", tree_train_acc)\n",
    "print(\"Decision Tree Test Accuracy:\", tree_test_acc)\n",
    "print(\"Random Forest Best Parameters:\", forest_best_params)\n",
    "print(\"Random Forest Train Accuracy:\", forest_train_acc)\n",
    "print(\"Random Forest Test Accuracy:\", forest_test_acc)\n",
    "print(\"XGBoost Best Parameters:\", xgb_best_params)\n",
    "print(\"XGBoost Train Accuracy:\", xgb_train_acc)\n",
    "print(\"XGBoost Test Accuracy:\", xgb_test_acc)"
   ]
  },
  {
   "cell_type": "markdown",
   "id": "e321dfe8",
   "metadata": {},
   "source": [
    "For Decision Tree,Random Forest and XGBoost we got test accuracy of 98%, 99% and 99% resp."
   ]
  },
  {
   "cell_type": "markdown",
   "id": "4b7f3d97",
   "metadata": {},
   "source": [
    "To calculate the train accuracy,Test Accuracy we used the score method of each model and pass the training features (X_train) and labels (y_train) as arguments. \n",
    "\n",
    "The score method calculates the R-squared value, which represents the proportion of the variance in the dependent variable that can be predicted from the independent variables. \n",
    "\n",
    "Higher values indicate better model performance.\n",
    "\n",
    "Lasso Regression includes the hyperparameter alpha (α), which controls the strength of the L1 regularization term. Ridge Regression includes the hyperparameter alpha (α) as well, which controls the strength of the L2 regularization term. By defining a range of values for alpha and using grid search, you can systematically search for the best combination of hyperparameters that results in the optimal model performance."
   ]
  },
  {
   "cell_type": "markdown",
   "id": "34f19457",
   "metadata": {},
   "source": [
    "# Checking Evaluation Matrics:"
   ]
  },
  {
   "cell_type": "markdown",
   "id": "b67c006d",
   "metadata": {},
   "source": [
    "Here we are using Evaluation Matrics like Mean Squared Error (MSE), Root Mean Squared Error (RMSE), Mean Absolute Error (MAE), and R-squared (coefficient of determination)."
   ]
  },
  {
   "cell_type": "markdown",
   "id": "04a127a7",
   "metadata": {},
   "source": [
    ".Mean Squared Error (MSE): Measures the average squared difference between the predicted and actual values. A lower value indicates better performance.\n",
    "\n",
    ".Root Mean Squared Error (RMSE): Square root of the MSE, provides a measure of the average magnitude of the errors. It is in the same units as the target variable.\n",
    "\n",
    ".Mean Absolute Error (MAE): Measures the average absolute difference between the predicted and actual values. It represents the average magnitude of the errors, regardless of their direction.Similar to MSE, a lower MAE indicates better model performance, as it means the model's predictions are closer to the actual values.\n",
    "\n",
    ".R-squared (R2): Also known as the coefficient of determination, it indicates the proportion of the variance in the target variable that can be explained by the regression model. It ranges from 0 to 1, and higher values indicate better fit.\n",
    "\n",
    "By calculating and examining these evaluation metrics for both the training and test sets, you can assess the performance of the regression model and understand how well it generalizes to unseen data.\n"
   ]
  },
  {
   "cell_type": "code",
   "execution_count": 57,
   "id": "0981b63d",
   "metadata": {},
   "outputs": [],
   "source": [
    "from sklearn.metrics import mean_squared_error, mean_absolute_error, r2_score#RMSE will derived from MSE."
   ]
  },
  {
   "cell_type": "markdown",
   "id": "69d17859",
   "metadata": {},
   "source": [
    "LINEAR REGRESSOR"
   ]
  },
  {
   "cell_type": "code",
   "execution_count": 58,
   "id": "91001c77",
   "metadata": {},
   "outputs": [
    {
     "data": {
      "text/plain": [
       "LinearRegression()"
      ]
     },
     "execution_count": 58,
     "metadata": {},
     "output_type": "execute_result"
    }
   ],
   "source": [
    "# Linear Regression\n",
    "linear_reg = LinearRegression()\n",
    "linear_reg.fit(X_train, y_train)"
   ]
  },
  {
   "cell_type": "code",
   "execution_count": 59,
   "id": "17ce1429",
   "metadata": {},
   "outputs": [
    {
     "name": "stdout",
     "output_type": "stream",
     "text": [
      "Training Set Metrics:\n",
      "Mean Squared Error (MSE): 7287547.223457241\n",
      "Root Mean Squared Error (RMSE): 2699.5457439090083\n",
      "Mean Absolute Error (MAE): 1967.4273070526172\n",
      "R-squared (R2): 0.9467083755254773\n",
      "\n",
      "Test Set Metrics:\n",
      "Mean Squared Error (MSE): 7377670.052267123\n",
      "Root Mean Squared Error (RMSE): 2716.186674782704\n",
      "Mean Absolute Error (MAE): 1979.7706163795826\n",
      "R-squared (R2): 0.9459368644020377\n"
     ]
    }
   ],
   "source": [
    "# Make predictions on the training and test data\n",
    "y_train_pred = linear_reg.predict(X_train)\n",
    "y_test_pred_linear = linear_reg.predict(X_test)\n",
    "\n",
    "# Calculate evaluation metrics for training data\n",
    "linear_mse_train = mean_squared_error(y_train, y_train_pred)\n",
    "linear_rmse_train = mean_squared_error(y_train, y_train_pred, squared=False)\n",
    "linear_mae_train = mean_absolute_error(y_train, y_train_pred)\n",
    "linear_r2_train = r2_score(y_train, y_train_pred)\n",
    "\n",
    "# Calculate evaluation metrics for test data\n",
    "linear_mse_test = mean_squared_error(y_test, y_test_pred_linear)\n",
    "linear_rmse_test = mean_squared_error(y_test, y_test_pred_linear, squared=False)\n",
    "linear_mae_test = mean_absolute_error(y_test, y_test_pred_linear)\n",
    "linear_r2_test = r2_score(y_test, y_test_pred_linear)\n",
    "\n",
    "# Print the evaluation metrics\n",
    "print(\"Training Set Metrics:\")\n",
    "print(\"Mean Squared Error (MSE):\", linear_mse_train)\n",
    "print(\"Root Mean Squared Error (RMSE):\", linear_rmse_train)\n",
    "print(\"Mean Absolute Error (MAE):\", linear_mae_train)\n",
    "print(\"R-squared (R2):\", linear_r2_train)\n",
    "print()\n",
    "print(\"Test Set Metrics:\")\n",
    "print(\"Mean Squared Error (MSE):\", linear_mse_test)\n",
    "print(\"Root Mean Squared Error (RMSE):\", linear_rmse_test)\n",
    "print(\"Mean Absolute Error (MAE):\", linear_mae_test)\n",
    "print(\"R-squared (R2):\", linear_r2_test)"
   ]
  },
  {
   "cell_type": "code",
   "execution_count": 60,
   "id": "3dc906b2",
   "metadata": {},
   "outputs": [],
   "source": [
    "#Regression scatter plot bet predicted and actual values"
   ]
  },
  {
   "cell_type": "code",
   "execution_count": 61,
   "id": "eba322d5",
   "metadata": {},
   "outputs": [
    {
     "data": {
      "text/plain": [
       "<matplotlib.colorbar.Colorbar at 0x1b432183d00>"
      ]
     },
     "execution_count": 61,
     "metadata": {},
     "output_type": "execute_result"
    },
    {
     "data": {
      "image/png": "[encoded data removed]",
      "text/plain": [
       "<Figure size 432x288 with 2 Axes>"
      ]
     },
     "metadata": {
      "needs_background": "light"
     },
     "output_type": "display_data"
    }
   ],
   "source": [
    "# Define a condition to apply colors\n",
    "condition = y_test > y_test_pred_linear\n",
    "# Plot the predicted values against the true values\n",
    "plt.scatter(y_test, y_test_pred_linear, c=condition, cmap='coolwarm')\n",
    "plt.xlabel('True Values')\n",
    "plt.ylabel('Predicted Values')\n",
    "plt.title('linear Regression: True Values vs Predicted Values')\n",
    "plt.colorbar(label='Condition')"
   ]
  },
  {
   "cell_type": "markdown",
   "id": "6a1d756a",
   "metadata": {},
   "source": [
    "We can observe the general trend of the scatter plot. If the points form a linear pattern along a diagonal line from the bottom-left to the top-right, it indicates a strong positive correlation between the true and predicted values. This suggests that the model is capturing the underlying patterns well.\n",
    "\n",
    "Scatter around the Trend Line: The dispersion of points around the diagonal trend line provides information about the model's accuracy. If the points are tightly clustered around the line, it indicates a higher accuracy and a good fit of the model. On the other hand, if the points are more spread out, it suggests that the model has a higher degree of variability in its predictions.\n",
    "\n",
    "Outliers: Look for any points that deviate significantly from the trend line or appear as outliers. These points represent instances where the model's predictions differ considerably from the true values. Outliers might indicate specific patterns or data points that the model struggles to capture accurately.\n",
    "\n",
    "Systematic Deviation: Check for any systematic deviation from the trend line. If the points consistently fall above or below the line, it suggests a bias in the model's predictions. This bias could indicate a specific pattern or relationship that the model fails to capture adequately."
   ]
  },
  {
   "cell_type": "markdown",
   "id": "5ccb882d",
   "metadata": {},
   "source": [
    "LASSO REGRESSOR"
   ]
  },
  {
   "cell_type": "code",
   "execution_count": 62,
   "id": "beea5fcb",
   "metadata": {},
   "outputs": [
    {
     "data": {
      "text/plain": [
       "Lasso()"
      ]
     },
     "execution_count": 62,
     "metadata": {},
     "output_type": "execute_result"
    }
   ],
   "source": [
    "# Lasso\n",
    "lasso_reg = Lasso()\n",
    "lasso_reg.fit(X_train, y_train)"
   ]
  },
  {
   "cell_type": "code",
   "execution_count": 63,
   "id": "fe6e778d",
   "metadata": {},
   "outputs": [
    {
     "name": "stdout",
     "output_type": "stream",
     "text": [
      "Lasso Regression Train Performance:\n",
      "Train Mean Squared Error (MSE): 7287652.044127026\n",
      "Train Root Mean Squared Error (RMSE): 2699.5651583406957\n",
      "Train Mean Absolute Error (MAE): 1968.6034529246774\n",
      "Train R-squared: 0.9467076090036833\n",
      "Lasso Regression Test Performance:\n",
      "Test Mean Squared Error (MSE): 7375016.797726129\n",
      "Test Root Mean Squared Error (RMSE): 2715.6982155103556\n",
      "Test Mean Absolute Error (MAE): 1980.5821074156038\n",
      "Test R-squared: 0.9459563072964758\n"
     ]
    }
   ],
   "source": [
    "# Make predictions on the training and test data\n",
    "y_train_pred = lasso_reg.predict(X_train)\n",
    "y_test_pred_las = lasso_reg.predict(X_test)\n",
    "\n",
    "# Calculate evaluation metrics for Lasso Regression on the training set\n",
    "lasso_mse_train = mean_squared_error(y_train, y_train_pred)\n",
    "lasso_rmse_train = np.sqrt(lasso_mse_train)\n",
    "lasso_r2_train = r2_score(y_train, y_train_pred)\n",
    "lasso_mae_train = mean_absolute_error(y_train, y_train_pred)\n",
    "\n",
    "# Calculate evaluation metrics for Lasso Regression on the test set\n",
    "lasso_mse_test = mean_squared_error(y_test, y_test_pred_las)\n",
    "lasso_rmse_test = np.sqrt(lasso_mse_test)\n",
    "lasso_r2_test = r2_score(y_test, y_test_pred_las)\n",
    "lasso_mae_test = mean_absolute_error(y_test, y_test_pred_las)\n",
    "\n",
    "print(\"Lasso Regression Train Performance:\")\n",
    "print(\"Train Mean Squared Error (MSE):\", lasso_mse_train)\n",
    "print(\"Train Root Mean Squared Error (RMSE):\", lasso_rmse_train)\n",
    "print(\"Train Mean Absolute Error (MAE):\", lasso_mae_train)\n",
    "print(\"Train R-squared:\", lasso_r2_train)\n",
    "\n",
    "print(\"Lasso Regression Test Performance:\")\n",
    "print(\"Test Mean Squared Error (MSE):\", lasso_mse_test)\n",
    "print(\"Test Root Mean Squared Error (RMSE):\", lasso_rmse_test)\n",
    "print(\"Test Mean Absolute Error (MAE):\", lasso_mae_test)\n",
    "print(\"Test R-squared:\", lasso_r2_test)"
   ]
  },
  {
   "cell_type": "code",
   "execution_count": 64,
   "id": "4639ada4",
   "metadata": {},
   "outputs": [
    {
     "data": {
      "text/plain": [
       "<matplotlib.colorbar.Colorbar at 0x1b439124190>"
      ]
     },
     "execution_count": 64,
     "metadata": {},
     "output_type": "execute_result"
    },
    {
     "data": {
      "image/png": "[encoded data removed]",
      "text/plain": [
       "<Figure size 432x288 with 2 Axes>"
      ]
     },
     "metadata": {
      "needs_background": "light"
     },
     "output_type": "display_data"
    }
   ],
   "source": [
    "# Define a condition to apply colors\n",
    "condition = y_test > y_test_pred_las\n",
    "# Plot the predicted values against the true values\n",
    "plt.scatter(y_test, y_test_pred_las, c=condition, cmap='coolwarm')\n",
    "plt.xlabel('True Values')\n",
    "plt.ylabel('Predicted Values')\n",
    "plt.title('Lasso Regression: True Values vs Predicted Values')\n",
    "plt.colorbar(label='Condition')"
   ]
  },
  {
   "cell_type": "markdown",
   "id": "c206bbcb",
   "metadata": {},
   "source": [
    "RIDGE REGRESSOR"
   ]
  },
  {
   "cell_type": "code",
   "execution_count": 65,
   "id": "866408f3",
   "metadata": {},
   "outputs": [
    {
     "data": {
      "text/plain": [
       "Ridge()"
      ]
     },
     "execution_count": 65,
     "metadata": {},
     "output_type": "execute_result"
    }
   ],
   "source": [
    "# Ridge\n",
    "ridge_reg = Ridge()\n",
    "ridge_reg.fit(X_train, y_train)"
   ]
  },
  {
   "cell_type": "code",
   "execution_count": 66,
   "id": "b534d602",
   "metadata": {},
   "outputs": [
    {
     "name": "stdout",
     "output_type": "stream",
     "text": [
      "ridge Regression Train Performance:\n",
      "Train Mean Squared Error (MSE): 7287949.582377656\n",
      "Train Root Mean Squared Error (RMSE): 2699.620266329629\n",
      "Train Mean Absolute Error (MAE): 1971.2433385680242\n",
      "Train R-squared: 0.9467054331966205\n",
      "ridge Regression Test Performance:\n",
      "Test Mean Squared Error (MSE): 7373144.512383436\n",
      "Test Root Mean Squared Error (RMSE): 2715.353478349262\n",
      "Test Mean Absolute Error (MAE): 1983.1598500476816\n",
      "Test R-squared: 0.9459700272942045\n"
     ]
    }
   ],
   "source": [
    "# Make predictions on the training and test data\n",
    "y_train_pred = ridge_reg.predict(X_train)\n",
    "y_test_pred_rid = ridge_reg.predict(X_test)\n",
    "\n",
    "# Calculate evaluation metrics for ridge Regression on the training set\n",
    "ridge_mse_train = mean_squared_error(y_train, y_train_pred)\n",
    "ridge_rmse_train = np.sqrt(ridge_mse_train)\n",
    "ridge_r2_train = r2_score(y_train, y_train_pred)\n",
    "ridge_mae_train = mean_absolute_error(y_train, y_train_pred)\n",
    "\n",
    "# Calculate evaluation metrics for ridge Regression on the test set\n",
    "ridge_mse_test = mean_squared_error(y_test, y_test_pred_rid)\n",
    "ridge_rmse_test = np.sqrt(ridge_mse_test)\n",
    "ridge_r2_test = r2_score(y_test, y_test_pred_rid)\n",
    "ridge_mae_test = mean_absolute_error(y_test, y_test_pred_rid)\n",
    "\n",
    "print(\"ridge Regression Train Performance:\")\n",
    "print(\"Train Mean Squared Error (MSE):\", ridge_mse_train)\n",
    "print(\"Train Root Mean Squared Error (RMSE):\", ridge_rmse_train)\n",
    "print(\"Train Mean Absolute Error (MAE):\", ridge_mae_train)\n",
    "print(\"Train R-squared:\", ridge_r2_train)\n",
    "\n",
    "print(\"ridge Regression Test Performance:\")\n",
    "print(\"Test Mean Squared Error (MSE):\", ridge_mse_test)\n",
    "print(\"Test Root Mean Squared Error (RMSE):\", ridge_rmse_test)\n",
    "print(\"Test Mean Absolute Error (MAE):\", ridge_mae_test)\n",
    "print(\"Test R-squared:\", ridge_r2_test)"
   ]
  },
  {
   "cell_type": "code",
   "execution_count": 67,
   "id": "0a2f8d54",
   "metadata": {},
   "outputs": [
    {
     "data": {
      "text/plain": [
       "<matplotlib.colorbar.Colorbar at 0x1b4391d37c0>"
      ]
     },
     "execution_count": 67,
     "metadata": {},
     "output_type": "execute_result"
    },
    {
     "data": {
      "image/png": "[encoded data removed]",
      "text/plain": [
       "<Figure size 432x288 with 2 Axes>"
      ]
     },
     "metadata": {
      "needs_background": "light"
     },
     "output_type": "display_data"
    }
   ],
   "source": [
    "# Define a condition to apply colors\n",
    "condition = y_test > y_test_pred_rid\n",
    "# Plot the predicted values against the true values\n",
    "plt.scatter(y_test, y_test_pred_rid, c=condition, cmap='coolwarm')\n",
    "plt.xlabel('True Values')\n",
    "plt.ylabel('Predicted Values')\n",
    "plt.title('Ridge Regression: True Values vs Predicted Values')\n",
    "plt.colorbar(label='Condition')"
   ]
  },
  {
   "cell_type": "markdown",
   "id": "ab164d5c",
   "metadata": {},
   "source": [
    "DECISION TREE RERESSOR"
   ]
  },
  {
   "cell_type": "code",
   "execution_count": 68,
   "id": "41e37b44",
   "metadata": {},
   "outputs": [
    {
     "data": {
      "text/plain": [
       "DecisionTreeRegressor()"
      ]
     },
     "execution_count": 68,
     "metadata": {},
     "output_type": "execute_result"
    }
   ],
   "source": [
    "# Decision Tree\n",
    "tree_reg = DecisionTreeRegressor()\n",
    "tree_reg.fit(X_train, y_train)"
   ]
  },
  {
   "cell_type": "code",
   "execution_count": 69,
   "id": "f73c58c9",
   "metadata": {},
   "outputs": [
    {
     "name": "stdout",
     "output_type": "stream",
     "text": [
      "Training Set Metrics:\n",
      "Mean Squared Error (MSE): 867347.5259018407\n",
      "Root Mean Squared Error (RMSE): 931.3149445283484\n",
      "Mean Absolute Error (MAE): 661.1781940760442\n",
      "R-squared (R2): 0.9936573503783981\n",
      "\n",
      "Test Set Metrics:\n",
      "Mean Squared Error (MSE): 1403487.8465446972\n",
      "Root Mean Squared Error (RMSE): 1184.6889239562836\n",
      "Mean Absolute Error (MAE): 904.7081454748761\n",
      "R-squared (R2): 0.9897153229650706\n"
     ]
    }
   ],
   "source": [
    "# Make predictions on the training and test data\n",
    "y_train_pred = tree_reg.predict(X_train)\n",
    "y_test_pred_dt = tree_reg.predict(X_test)\n",
    "\n",
    "# Calculate evaluation metrics for training data\n",
    "tree_mse_train = mean_squared_error(y_train, y_train_pred)\n",
    "tree_rmse_train = np.sqrt(tree_mse_train)\n",
    "tree_mae_train = mean_absolute_error(y_train, y_train_pred)\n",
    "tree_r2_train = r2_score(y_train, y_train_pred)\n",
    "\n",
    "# Calculate evaluation metrics for test data\n",
    "tree_mse_test = mean_squared_error(y_test, y_test_pred_dt)\n",
    "tree_rmse_test = np.sqrt(tree_mse_test)\n",
    "tree_mae_test = mean_absolute_error(y_test, y_test_pred_dt)\n",
    "tree_r2_test = r2_score(y_test, y_test_pred_dt)\n",
    "\n",
    "# Print the evaluation metrics\n",
    "print(\"Training Set Metrics:\")\n",
    "print(\"Mean Squared Error (MSE):\", tree_mse_train)\n",
    "print(\"Root Mean Squared Error (RMSE):\", tree_rmse_train)\n",
    "print(\"Mean Absolute Error (MAE):\", tree_mae_train)\n",
    "print(\"R-squared (R2):\", tree_r2_train)\n",
    "print()\n",
    "print(\"Test Set Metrics:\")\n",
    "print(\"Mean Squared Error (MSE):\", tree_mse_test)\n",
    "print(\"Root Mean Squared Error (RMSE):\",tree_rmse_test)\n",
    "print(\"Mean Absolute Error (MAE):\", tree_mae_test)\n",
    "print(\"R-squared (R2):\", tree_r2_test)"
   ]
  },
  {
   "cell_type": "code",
   "execution_count": 70,
   "id": "8e404bc2",
   "metadata": {},
   "outputs": [
    {
     "data": {
      "text/plain": [
       "<matplotlib.colorbar.Colorbar at 0x1b439289d30>"
      ]
     },
     "execution_count": 70,
     "metadata": {},
     "output_type": "execute_result"
    },
    {
     "data": {
      "image/png": "[encoded data removed]",
      "text/plain": [
       "<Figure size 432x288 with 2 Axes>"
      ]
     },
     "metadata": {
      "needs_background": "light"
     },
     "output_type": "display_data"
    }
   ],
   "source": [
    "# Define a condition to apply colors\n",
    "condition = y_test > y_test_pred_dt\n",
    "# Plot the predicted values against the true values\n",
    "plt.scatter(y_test, y_test_pred_dt, c=condition, cmap='coolwarm')\n",
    "plt.xlabel('True Values')\n",
    "plt.ylabel('Predicted Values')\n",
    "plt.title('Decision Tree Regression: True Values vs Predicted Values')\n",
    "plt.colorbar(label='Condition')"
   ]
  },
  {
   "cell_type": "markdown",
   "id": "3a80dd68",
   "metadata": {},
   "source": [
    "RANDOM FOREST REGRESSOR"
   ]
  },
  {
   "cell_type": "code",
   "execution_count": 71,
   "id": "3ee6c0cc",
   "metadata": {},
   "outputs": [
    {
     "data": {
      "text/plain": [
       "RandomForestRegressor()"
      ]
     },
     "execution_count": 71,
     "metadata": {},
     "output_type": "execute_result"
    }
   ],
   "source": [
    "forest_reg = RandomForestRegressor()\n",
    "forest_reg.fit(X_train, y_train)"
   ]
  },
  {
   "cell_type": "code",
   "execution_count": 72,
   "id": "0ab837b6",
   "metadata": {},
   "outputs": [
    {
     "name": "stdout",
     "output_type": "stream",
     "text": [
      "Training Set Metrics:\n",
      "Mean Squared Error (MSE): 885985.2961366796\n",
      "Root Mean Squared Error (RMSE): 941.2679194239436\n",
      "Mean Absolute Error (MAE): 695.7387379151811\n",
      "R-squared (R2): 0.9935210580125386\n",
      "\n",
      "Test Set Metrics:\n",
      "Mean Squared Error (MSE): 1289564.5337298512\n",
      "Root Mean Squared Error (RMSE): 1135.5899496428503\n",
      "Mean Absolute Error (MAE): 878.2107422783994\n",
      "R-squared (R2): 0.9905501463530568\n"
     ]
    }
   ],
   "source": [
    "forest_reg = RandomForestRegressor()\n",
    "forest_reg.fit(X_train, y_train)\n",
    "\n",
    "# Make predictions on the training and test data\n",
    "y_train_pred = forest_reg.predict(X_train)\n",
    "y_test_pred_rf = forest_reg.predict(X_test)\n",
    "\n",
    "# Calculate evaluation metrics for training data\n",
    "forest_mse_train = mean_squared_error(y_train, y_train_pred)\n",
    "forest_rmse_train = np.sqrt(forest_mse_train)\n",
    "forest_mae_train = mean_absolute_error(y_train, y_train_pred)\n",
    "forest_r2_train = r2_score(y_train, y_train_pred)\n",
    "\n",
    "# Calculate evaluation metrics for test data\n",
    "forest_mse_test = mean_squared_error(y_test, y_test_pred_rf)\n",
    "forest_rmse_test = np.sqrt(forest_mse_test)\n",
    "forest_mae_test = mean_absolute_error(y_test, y_test_pred_rf)\n",
    "forest_r2_test = r2_score(y_test, y_test_pred_rf)\n",
    "\n",
    "# Print the evaluation metrics\n",
    "print(\"Training Set Metrics:\")\n",
    "print(\"Mean Squared Error (MSE):\", forest_mse_train)\n",
    "print(\"Root Mean Squared Error (RMSE):\", forest_rmse_train)\n",
    "print(\"Mean Absolute Error (MAE):\", forest_mae_train)\n",
    "print(\"R-squared (R2):\", forest_r2_train)\n",
    "print()\n",
    "print(\"Test Set Metrics:\")\n",
    "print(\"Mean Squared Error (MSE):\", forest_mse_test)\n",
    "print(\"Root Mean Squared Error (RMSE):\", forest_rmse_test)\n",
    "print(\"Mean Absolute Error (MAE):\", forest_mae_test)\n",
    "print(\"R-squared (R2):\", forest_r2_test)"
   ]
  },
  {
   "cell_type": "code",
   "execution_count": 73,
   "id": "283d5703",
   "metadata": {},
   "outputs": [
    {
     "data": {
      "text/plain": [
       "<matplotlib.colorbar.Colorbar at 0x1b43932dc40>"
      ]
     },
     "execution_count": 73,
     "metadata": {},
     "output_type": "execute_result"
    },
    {
     "data": {
      "image/png": "[encoded data removed]",
      "text/plain": [
       "<Figure size 432x288 with 2 Axes>"
      ]
     },
     "metadata": {
      "needs_background": "light"
     },
     "output_type": "display_data"
    }
   ],
   "source": [
    "# Define a condition to apply colors\n",
    "condition = y_test > y_test_pred_rf\n",
    "# Plot the predicted values against the true values\n",
    "plt.scatter(y_test, y_test_pred_rf, c=condition, cmap='coolwarm')\n",
    "plt.xlabel('True Values')\n",
    "plt.ylabel('Predicted Values')\n",
    "plt.title('Random Forest Regression: True Values vs Predicted Values')\n",
    "plt.colorbar(label='Condition')"
   ]
  },
  {
   "cell_type": "markdown",
   "id": "67d2071a",
   "metadata": {},
   "source": [
    "XGBOOST REGRESSOR"
   ]
  },
  {
   "cell_type": "code",
   "execution_count": 74,
   "id": "947b7966",
   "metadata": {},
   "outputs": [
    {
     "name": "stdout",
     "output_type": "stream",
     "text": [
      "Training Set Metrics:\n",
      "Mean Squared Error (MSE): 968779.4575498021\n",
      "Root Mean Squared Error (RMSE): 984.2659485879831\n",
      "Mean Absolute Error (MAE): 747.2064624559664\n",
      "R-squared (R2): 0.9929156093995253\n",
      "\n",
      "Test Set Metrics:\n",
      "Mean Squared Error (MSE): 1153135.6311786151\n",
      "Root Mean Squared Error (RMSE): 1073.8415298258003\n",
      "Mean Absolute Error (MAE): 832.0856628187995\n",
      "R-squared (R2): 0.9915498893892531\n"
     ]
    }
   ],
   "source": [
    "# Create and train the XGBoost regressor\n",
    "xgb_reg = XGBRegressor()\n",
    "xgb_reg.fit(X_train, y_train)\n",
    "\n",
    "# Make predictions on the training and test data\n",
    "y_train_pred = xgb_reg.predict(X_train)\n",
    "y_test_pred_xgb = xgb_reg.predict(X_test)\n",
    "\n",
    "# Calculate evaluation metrics for training data\n",
    "xgb_mse_train = mean_squared_error(y_train, y_train_pred)\n",
    "xgb_rmse_train = mean_squared_error(y_train, y_train_pred, squared=False)\n",
    "xgb_mae_train = mean_absolute_error(y_train, y_train_pred)\n",
    "xgb_r2_train = r2_score(y_train, y_train_pred)\n",
    "\n",
    "# Calculate evaluation metrics for test data\n",
    "xgb_mse_test = mean_squared_error(y_test, y_test_pred_xgb)\n",
    "xgb_rmse_test = mean_squared_error(y_test, y_test_pred_xgb, squared=False)\n",
    "xgb_mae_test = mean_absolute_error(y_test, y_test_pred_xgb)\n",
    "xgb_r2_test = r2_score(y_test, y_test_pred_xgb)\n",
    "\n",
    "# Print the evaluation metrics\n",
    "print(\"Training Set Metrics:\")\n",
    "print(\"Mean Squared Error (MSE):\", xgb_mse_train)\n",
    "print(\"Root Mean Squared Error (RMSE):\", xgb_rmse_train)\n",
    "print(\"Mean Absolute Error (MAE):\", xgb_mae_train)\n",
    "print(\"R-squared (R2):\", xgb_r2_train)\n",
    "print()\n",
    "print(\"Test Set Metrics:\")\n",
    "print(\"Mean Squared Error (MSE):\", xgb_mse_test)\n",
    "print(\"Root Mean Squared Error (RMSE):\", xgb_rmse_test)\n",
    "print(\"Mean Absolute Error (MAE):\", xgb_mae_test)\n",
    "print(\"R-squared (R2):\", xgb_r2_test)"
   ]
  },
  {
   "cell_type": "code",
   "execution_count": 75,
   "id": "55f08128",
   "metadata": {},
   "outputs": [
    {
     "data": {
      "text/plain": [
       "<matplotlib.colorbar.Colorbar at 0x1b439413220>"
      ]
     },
     "execution_count": 75,
     "metadata": {},
     "output_type": "execute_result"
    },
    {
     "data": {
      "image/png": "[encoded data removed]",
      "text/plain": [
       "<Figure size 432x288 with 2 Axes>"
      ]
     },
     "metadata": {
      "needs_background": "light"
     },
     "output_type": "display_data"
    }
   ],
   "source": [
    "# Define a condition to apply colors\n",
    "condition = y_test > y_test_pred_xgb\n",
    "# Plot the predicted values against the true values\n",
    "plt.scatter(y_test, y_test_pred_xgb, c=condition, cmap='coolwarm')\n",
    "plt.xlabel('True Values')\n",
    "plt.ylabel('Predicted Values')\n",
    "plt.title('XGBoost Regression: True Values vs Predicted Values')\n",
    "plt.colorbar(label='Condition')"
   ]
  },
  {
   "cell_type": "markdown",
   "id": "9e57c79f",
   "metadata": {},
   "source": [
    "# Comparing train and test MSE of 6 models"
   ]
  },
  {
   "cell_type": "code",
   "execution_count": 76,
   "id": "8f76fdd7",
   "metadata": {},
   "outputs": [
    {
     "data": {
      "image/png": "[encoded data removed]",
      "text/plain": [
       "<Figure size 432x288 with 1 Axes>"
      ]
     },
     "metadata": {
      "needs_background": "light"
     },
     "output_type": "display_data"
    }
   ],
   "source": [
    "# List of model names\n",
    "model_names = ['Linear','Lasso','Ridge','Decision Tree', 'Random Forest', 'XGBoost']\n",
    "\n",
    "# Train MSE values for each model\n",
    "train_mse = ['linear_mse_train' , 'lasso_mse_train' , 'ridge_mse_train', 'tree_mse_train' , 'forest_mse_train' ,'xgb_mse_train']\n",
    "\n",
    "# Test RMSE values for each model\n",
    "test_mse = ['linear_mse_test' , 'lasso_mse_test', 'ridge_mse_test', 'tree_mse_test', 'forest_mse_test', 'xgb_mse_test']\n",
    "\n",
    "# Plotting the graph\n",
    "plt.plot(model_names, train_mse, marker='o', label='Train MSE')\n",
    "plt.plot(model_names, test_mse, marker='o', label='Test MSE')\n",
    "\n",
    "# Set plot title and labels\n",
    "plt.title('Train vs Test MSE')\n",
    "plt.xlabel('Models')\n",
    "plt.ylabel('MSE')\n",
    "# Add legend\n",
    "plt.legend()\n",
    "# Display the plot\n",
    "plt.show()"
   ]
  },
  {
   "cell_type": "markdown",
   "id": "1420c09b",
   "metadata": {},
   "source": [
    "# Comparing train and test RMSE of 6 models"
   ]
  },
  {
   "cell_type": "code",
   "execution_count": 77,
   "id": "28f47bcb",
   "metadata": {},
   "outputs": [
    {
     "data": {
      "image/png": "[encoded data removed]",
      "text/plain": [
       "<Figure size 432x288 with 1 Axes>"
      ]
     },
     "metadata": {
      "needs_background": "light"
     },
     "output_type": "display_data"
    }
   ],
   "source": [
    "# List of model names\n",
    "model_names = ['Linear','Lasso','Ridge','Decision Tree', 'Random Forest', 'XGBoost']\n",
    "\n",
    "# Train RMSE values for each model\n",
    "train_rmse = ['linear_rmse_train' , 'lasso_rmse_ train', 'ridge_rmse_train', 'tree_rmse_train', 'forest_rmse_train', 'xgb_rmse_train']\n",
    "\n",
    "# Test RMSE values for each model\n",
    "test_rmse = ['linear_rmse_test' , 'lasso_rmse_test', 'ridge_rmse_test', 'tree_rmse_test', 'forest_rmse_test', 'xgb_rmse_test']\n",
    "\n",
    "# Plotting the graph\n",
    "plt.plot(model_names, train_rmse, marker='o', label='Train RMSE')\n",
    "plt.plot(model_names, test_rmse, marker='o', label='Test RMSE')\n",
    "\n",
    "# Set plot title and labels\n",
    "plt.title('Train vs Test RMSE')\n",
    "plt.xlabel('Models')\n",
    "plt.ylabel('RMSE')\n",
    "# Add legend\n",
    "plt.legend()\n",
    "# Display the plot\n",
    "plt.show()"
   ]
  },
  {
   "cell_type": "markdown",
   "id": "9bb73a81",
   "metadata": {},
   "source": [
    "# Comparing train and test MAE of 6 models"
   ]
  },
  {
   "cell_type": "code",
   "execution_count": 78,
   "id": "8edb5800",
   "metadata": {},
   "outputs": [
    {
     "data": {
      "image/png": "[encoded data removed]",
      "text/plain": [
       "<Figure size 432x288 with 1 Axes>"
      ]
     },
     "metadata": {
      "needs_background": "light"
     },
     "output_type": "display_data"
    }
   ],
   "source": [
    "# List of model names\n",
    "model_names = ['Linear','Lasso','Ridge','Decision Tree', 'Random Forest', 'XGBoost']\n",
    "\n",
    "# Train MAE values for each model\n",
    "train_mae = ['linear_mae_train' , 'lasso_mae_train', 'ridge_mae_train', 'tree_mae_train', 'forest_mae_train', 'xgb_mae_train']\n",
    "\n",
    "# Test MAE values for each model\n",
    "test_mae = ['linear_mae_test' , 'lasso_mae_test', 'ridge_mae_test', 'tree_mae_test','forest_mae_test', 'xgb_mae_test']\n",
    "\n",
    "# Plotting the graph\n",
    "plt.plot(model_names, train_mae, marker='o', label='Train MAE')\n",
    "plt.plot(model_names, test_mae, marker='o', label='Test MAE')\n",
    "\n",
    "# Set plot title and labels\n",
    "plt.title('LINE PLOT Train vs Test MAE')\n",
    "plt.xlabel('Models')\n",
    "plt.ylabel('MAE')\n",
    "# Add legend\n",
    "plt.legend()\n",
    "# Display the plot\n",
    "plt.show()"
   ]
  },
  {
   "cell_type": "markdown",
   "id": "628bd97e",
   "metadata": {},
   "source": [
    "# Comparing train and test R2 of 6 models"
   ]
  },
  {
   "cell_type": "code",
   "execution_count": 79,
   "id": "19e63bfd",
   "metadata": {},
   "outputs": [
    {
     "data": {
      "image/png": "[encoded data removed]",
      "text/plain": [
       "<Figure size 432x288 with 1 Axes>"
      ]
     },
     "metadata": {
      "needs_background": "light"
     },
     "output_type": "display_data"
    }
   ],
   "source": [
    "# List of model names\n",
    "model_names = ['Linear','Lasso','Ridge','Decision Tree', 'Random Forest', 'XGBoost']\n",
    "\n",
    "# Train MSE values for each model\n",
    "train_r2 = ['linear_r2_train' , 'lasso_r2_train','ridge_r2_train', 'tree_r2_train', 'forest_r2_train', 'xgb_r2_train']\n",
    "\n",
    "# Test RMSE values for each model\n",
    "test_r2 = ['linear_r2_test' , 'lasso_r2_test', 'ridge_r2_test', 'tree_r2_test', 'forest_r2_test', 'xgb_r2_test']\n",
    "\n",
    "# Plotting the graph\n",
    "plt.plot(model_names,train_r2, marker='o', label='Train r2')\n",
    "plt.plot(model_names,test_r2 , marker='o', label='Test r2')\n",
    "\n",
    "# Set plot title and labels\n",
    "plt.title('Train vs Test r2')\n",
    "plt.xlabel('Models')\n",
    "plt.ylabel('r2')\n",
    "# Add legend\n",
    "plt.legend()\n",
    "# Display the plot\n",
    "plt.show()"
   ]
  },
  {
   "cell_type": "code",
   "execution_count": null,
   "id": "08b48ff4",
   "metadata": {},
   "outputs": [],
   "source": []
  }
 ],
 "metadata": {
  "kernelspec": {
   "display_name": "Python 3 (ipykernel)",
   "language": "python",
   "name": "python3"
  },
  "language_info": {
   "codemirror_mode": {
    "name": "ipython",
    "version": 3
   },
   "file_extension": ".py",
   "mimetype": "text/x-python",
   "name": "python",
   "nbconvert_exporter": "python",
   "pygments_lexer": "ipython3",
   "version": "3.9.12"
  }
 },
 "nbformat": 4,
 "nbformat_minor": 5
}
